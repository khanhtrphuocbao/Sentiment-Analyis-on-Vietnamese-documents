{
  "cells": [
    {
      "cell_type": "code",
      "execution_count": null,
      "metadata": {
        "colab": {
          "base_uri": "https://localhost:8080/"
        },
        "id": "8uLpiGKU5Y4Y",
        "outputId": "44508c1e-e140-4270-a43c-92f1b66841df"
      },
      "outputs": [
        {
          "name": "stdout",
          "output_type": "stream",
          "text": [
            "Mounted at /content/drive\n"
          ]
        }
      ],
      "source": [
        "from google.colab import drive\n",
        "drive.mount('/content/drive',force_remount=True)"
      ]
    },
    {
      "attachments": {},
      "cell_type": "markdown",
      "metadata": {
        "id": "qWThCF0ruyPK"
      },
      "source": [
        "# INSTALL & IMPORT LIBRARY"
      ]
    },
    {
      "cell_type": "code",
      "execution_count": null,
      "metadata": {
        "colab": {
          "base_uri": "https://localhost:8080/"
        },
        "id": "608cdssk5orM",
        "outputId": "2875a488-bd74-402b-fc53-d5e350e15be0"
      },
      "outputs": [
        {
          "name": "stdout",
          "output_type": "stream",
          "text": [
            "Looking in indexes: https://pypi.org/simple, https://us-python.pkg.dev/colab-wheels/public/simple/\n",
            "Collecting underthesea\n",
            "  Downloading underthesea-6.2.0-py3-none-any.whl (19.2 MB)\n",
            "\u001b[2K     \u001b[90m━━━━━━━━━━━━━━━━━━━━━━━━━━━━━━━━━━━━━━━━\u001b[0m \u001b[32m19.2/19.2 MB\u001b[0m \u001b[31m66.5 MB/s\u001b[0m eta \u001b[36m0:00:00\u001b[0m\n",
            "\u001b[?25hRequirement already satisfied: Click>=6.0 in /usr/local/lib/python3.10/dist-packages (from underthesea) (8.1.3)\n",
            "Collecting python-crfsuite>=0.9.6 (from underthesea)\n",
            "  Downloading python_crfsuite-0.9.9-cp310-cp310-manylinux_2_17_x86_64.manylinux2014_x86_64.whl (993 kB)\n",
            "\u001b[2K     \u001b[90m━━━━━━━━━━━━━━━━━━━━━━━━━━━━━━━━━━━━━━\u001b[0m \u001b[32m993.5/993.5 kB\u001b[0m \u001b[31m17.1 MB/s\u001b[0m eta \u001b[36m0:00:00\u001b[0m\n",
            "\u001b[?25hRequirement already satisfied: nltk in /usr/local/lib/python3.10/dist-packages (from underthesea) (3.8.1)\n",
            "Requirement already satisfied: tqdm in /usr/local/lib/python3.10/dist-packages (from underthesea) (4.65.0)\n",
            "Requirement already satisfied: requests in /usr/local/lib/python3.10/dist-packages (from underthesea) (2.27.1)\n",
            "Requirement already satisfied: joblib in /usr/local/lib/python3.10/dist-packages (from underthesea) (1.2.0)\n",
            "Requirement already satisfied: scikit-learn in /usr/local/lib/python3.10/dist-packages (from underthesea) (1.2.2)\n",
            "Requirement already satisfied: PyYAML in /usr/local/lib/python3.10/dist-packages (from underthesea) (6.0)\n",
            "Collecting underthesea-core==1.0.0 (from underthesea)\n",
            "  Downloading underthesea_core-1.0.0-cp310-cp310-manylinux2010_x86_64.whl (599 kB)\n",
            "\u001b[2K     \u001b[90m━━━━━━━━━━━━━━━━━━━━━━━━━━━━━━━━━━━━━━\u001b[0m \u001b[32m599.6/599.6 kB\u001b[0m \u001b[31m40.3 MB/s\u001b[0m eta \u001b[36m0:00:00\u001b[0m\n",
            "\u001b[?25hRequirement already satisfied: regex>=2021.8.3 in /usr/local/lib/python3.10/dist-packages (from nltk->underthesea) (2022.10.31)\n",
            "Requirement already satisfied: urllib3<1.27,>=1.21.1 in /usr/local/lib/python3.10/dist-packages (from requests->underthesea) (1.26.15)\n",
            "Requirement already satisfied: certifi>=2017.4.17 in /usr/local/lib/python3.10/dist-packages (from requests->underthesea) (2022.12.7)\n",
            "Requirement already satisfied: charset-normalizer~=2.0.0 in /usr/local/lib/python3.10/dist-packages (from requests->underthesea) (2.0.12)\n",
            "Requirement already satisfied: idna<4,>=2.5 in /usr/local/lib/python3.10/dist-packages (from requests->underthesea) (3.4)\n",
            "Requirement already satisfied: numpy>=1.17.3 in /usr/local/lib/python3.10/dist-packages (from scikit-learn->underthesea) (1.22.4)\n",
            "Requirement already satisfied: scipy>=1.3.2 in /usr/local/lib/python3.10/dist-packages (from scikit-learn->underthesea) (1.10.1)\n",
            "Requirement already satisfied: threadpoolctl>=2.0.0 in /usr/local/lib/python3.10/dist-packages (from scikit-learn->underthesea) (3.1.0)\n",
            "Installing collected packages: underthesea-core, python-crfsuite, underthesea\n",
            "Successfully installed python-crfsuite-0.9.9 underthesea-6.2.0 underthesea-core-1.0.0\n",
            "Looking in indexes: https://pypi.org/simple, https://us-python.pkg.dev/colab-wheels/public/simple/\n",
            "Collecting transformers\n",
            "  Downloading transformers-4.30.1-py3-none-any.whl (7.2 MB)\n",
            "\u001b[2K     \u001b[90m━━━━━━━━━━━━━━━━━━━━━━━━━━━━━━━━━━━━━━━━\u001b[0m \u001b[32m7.2/7.2 MB\u001b[0m \u001b[31m73.7 MB/s\u001b[0m eta \u001b[36m0:00:00\u001b[0m\n",
            "\u001b[?25hRequirement already satisfied: filelock in /usr/local/lib/python3.10/dist-packages (from transformers) (3.12.0)\n",
            "Collecting huggingface-hub<1.0,>=0.14.1 (from transformers)\n",
            "  Downloading huggingface_hub-0.15.1-py3-none-any.whl (236 kB)\n",
            "\u001b[2K     \u001b[90m━━━━━━━━━━━━━━━━━━━━━━━━━━━━━━━━━━━━━━\u001b[0m \u001b[32m236.8/236.8 kB\u001b[0m \u001b[31m31.1 MB/s\u001b[0m eta \u001b[36m0:00:00\u001b[0m\n",
            "\u001b[?25hRequirement already satisfied: numpy>=1.17 in /usr/local/lib/python3.10/dist-packages (from transformers) (1.22.4)\n",
            "Requirement already satisfied: packaging>=20.0 in /usr/local/lib/python3.10/dist-packages (from transformers) (23.1)\n",
            "Requirement already satisfied: pyyaml>=5.1 in /usr/local/lib/python3.10/dist-packages (from transformers) (6.0)\n",
            "Requirement already satisfied: regex!=2019.12.17 in /usr/local/lib/python3.10/dist-packages (from transformers) (2022.10.31)\n",
            "Requirement already satisfied: requests in /usr/local/lib/python3.10/dist-packages (from transformers) (2.27.1)\n",
            "Collecting tokenizers!=0.11.3,<0.14,>=0.11.1 (from transformers)\n",
            "  Downloading tokenizers-0.13.3-cp310-cp310-manylinux_2_17_x86_64.manylinux2014_x86_64.whl (7.8 MB)\n",
            "\u001b[2K     \u001b[90m━━━━━━━━━━━━━━━━━━━━━━━━━━━━━━━━━━━━━━━━\u001b[0m \u001b[32m7.8/7.8 MB\u001b[0m \u001b[31m110.4 MB/s\u001b[0m eta \u001b[36m0:00:00\u001b[0m\n",
            "\u001b[?25hCollecting safetensors>=0.3.1 (from transformers)\n",
            "  Downloading safetensors-0.3.1-cp310-cp310-manylinux_2_17_x86_64.manylinux2014_x86_64.whl (1.3 MB)\n",
            "\u001b[2K     \u001b[90m━━━━━━━━━━━━━━━━━━━━━━━━━━━━━━━━━━━━━━━━\u001b[0m \u001b[32m1.3/1.3 MB\u001b[0m \u001b[31m87.3 MB/s\u001b[0m eta \u001b[36m0:00:00\u001b[0m\n",
            "\u001b[?25hRequirement already satisfied: tqdm>=4.27 in /usr/local/lib/python3.10/dist-packages (from transformers) (4.65.0)\n",
            "Requirement already satisfied: fsspec in /usr/local/lib/python3.10/dist-packages (from huggingface-hub<1.0,>=0.14.1->transformers) (2023.4.0)\n",
            "Requirement already satisfied: typing-extensions>=3.7.4.3 in /usr/local/lib/python3.10/dist-packages (from huggingface-hub<1.0,>=0.14.1->transformers) (4.5.0)\n",
            "Requirement already satisfied: urllib3<1.27,>=1.21.1 in /usr/local/lib/python3.10/dist-packages (from requests->transformers) (1.26.15)\n",
            "Requirement already satisfied: certifi>=2017.4.17 in /usr/local/lib/python3.10/dist-packages (from requests->transformers) (2022.12.7)\n",
            "Requirement already satisfied: charset-normalizer~=2.0.0 in /usr/local/lib/python3.10/dist-packages (from requests->transformers) (2.0.12)\n",
            "Requirement already satisfied: idna<4,>=2.5 in /usr/local/lib/python3.10/dist-packages (from requests->transformers) (3.4)\n",
            "Installing collected packages: tokenizers, safetensors, huggingface-hub, transformers\n",
            "Successfully installed huggingface-hub-0.15.1 safetensors-0.3.1 tokenizers-0.13.3 transformers-4.30.1\n",
            "Looking in indexes: https://pypi.org/simple, https://us-python.pkg.dev/colab-wheels/public/simple/\n",
            "Collecting vncorenlp\n",
            "  Downloading vncorenlp-1.0.3.tar.gz (2.6 MB)\n",
            "\u001b[2K     \u001b[90m━━━━━━━━━━━━━━━━━━━━━━━━━━━━━━━━━━━━━━━━\u001b[0m \u001b[32m2.6/2.6 MB\u001b[0m \u001b[31m41.1 MB/s\u001b[0m eta \u001b[36m0:00:00\u001b[0m\n",
            "\u001b[?25h  Preparing metadata (setup.py) ... \u001b[?25l\u001b[?25hdone\n",
            "Requirement already satisfied: requests in /usr/local/lib/python3.10/dist-packages (from vncorenlp) (2.27.1)\n",
            "Requirement already satisfied: urllib3<1.27,>=1.21.1 in /usr/local/lib/python3.10/dist-packages (from requests->vncorenlp) (1.26.15)\n",
            "Requirement already satisfied: certifi>=2017.4.17 in /usr/local/lib/python3.10/dist-packages (from requests->vncorenlp) (2022.12.7)\n",
            "Requirement already satisfied: charset-normalizer~=2.0.0 in /usr/local/lib/python3.10/dist-packages (from requests->vncorenlp) (2.0.12)\n",
            "Requirement already satisfied: idna<4,>=2.5 in /usr/local/lib/python3.10/dist-packages (from requests->vncorenlp) (3.4)\n",
            "Building wheels for collected packages: vncorenlp\n",
            "  Building wheel for vncorenlp (setup.py) ... \u001b[?25l\u001b[?25hdone\n",
            "  Created wheel for vncorenlp: filename=vncorenlp-1.0.3-py3-none-any.whl size=2645933 sha256=0d5dcac439ce5330d7b65d92fdb232dc4d235f9cda11fbbfa3c4c2b25c351619\n",
            "  Stored in directory: /root/.cache/pip/wheels/5d/d9/b3/41f6c6b1ab758561fd4aab55dc0480b9d7a131c6aaa573a3fa\n",
            "Successfully built vncorenlp\n",
            "Installing collected packages: vncorenlp\n",
            "Successfully installed vncorenlp-1.0.3\n"
          ]
        }
      ],
      "source": [
        "!pip install underthesea\n",
        "!pip install transformers\n",
        "!pip install vncorenlp"
      ]
    },
    {
      "cell_type": "code",
      "execution_count": null,
      "metadata": {
        "id": "Agrm-S-R1zGR"
      },
      "outputs": [],
      "source": [
        "from bs4 import BeautifulSoup\n",
        "import numpy as np\n",
        "import re\n",
        "# from underthesea import word_tokenize\n",
        "from keras.utils import to_categorical\n",
        "from transformers import AutoTokenizer\n",
        "from tensorflow.data import Dataset\n",
        "import tensorflow as tf\n",
        "from tensorflow.keras.utils import pad_sequences\n",
        "import pandas as pd"
      ]
    },
    {
      "cell_type": "code",
      "execution_count": null,
      "metadata": {
        "id": "B7sDPScV9yIh"
      },
      "outputs": [],
      "source": [
        "from vncorenlp import VnCoreNLP\n"
      ]
    },
    {
      "attachments": {},
      "cell_type": "markdown",
      "metadata": {
        "id": "Cmi9mAmeu4gi"
      },
      "source": [
        "# PREPROCESSING"
      ]
    },
    {
      "attachments": {},
      "cell_type": "markdown",
      "metadata": {
        "id": "2gW7jMFGvEb9"
      },
      "source": [
        "## LOAD DATA"
      ]
    },
    {
      "cell_type": "code",
      "execution_count": null,
      "metadata": {
        "id": "3BNEoe1r1zGW"
      },
      "outputs": [],
      "source": [
        "class TextNormalize:\n",
        "    def __init__(self):\n",
        "        self.vowels_to_ids = {}\n",
        "        self.vowels_table = [\n",
        "            ['a', 'à', 'á', 'ả', 'ã', 'ạ', 'a' ],\n",
        "            ['ă', 'ằ', 'ắ', 'ẳ', 'ẵ', 'ặ', 'aw'],\n",
        "            ['â', 'ầ', 'ấ', 'ẩ', 'ẫ', 'ậ', 'aa'],\n",
        "            ['e', 'è', 'é', 'ẻ', 'ẽ', 'ẹ', 'e' ],\n",
        "            ['ê', 'ề', 'ế', 'ể', 'ễ', 'ệ', 'ee'],\n",
        "            ['i', 'ì', 'í', 'ỉ', 'ĩ', 'ị', 'i' ],\n",
        "            ['o', 'ò', 'ó', 'ỏ', 'õ', 'ọ', 'o' ],\n",
        "            ['ô', 'ồ', 'ố', 'ổ', 'ỗ', 'ộ', 'o'],\n",
        "            ['ơ', 'ờ', 'ớ', 'ở', 'ỡ', 'ợ', 'ow'],\n",
        "            ['u', 'ù', 'ú', 'ủ', 'ũ', 'ụ', 'u' ],\n",
        "            ['ư', 'ừ', 'ứ', 'ử', 'ữ', 'ự', 'uw'],\n",
        "            ['y', 'ỳ', 'ý', 'ỷ', 'ỹ', 'ỵ', 'y' ]\n",
        "        ]\n",
        "        pass\n",
        "\n",
        "    def createVowelsTable(self):\n",
        "        \"\"\"Create Vowels Table\"\"\"\n",
        "        for i in range(len(self.vowels_table)):\n",
        "            for j in range(len(self.vowels_table[i]) - 1):\n",
        "                self.vowels_to_ids[self.vowels_table[i][j]] = (i, j)\n",
        "\n",
        "    def IsValidVietnameseWord(self,word):\n",
        "        \"\"\"Nguyên âm chỉ có thể đứng chung với nguyên âm. Một từ không thể có 2 nguyên âm cách nhau bởi 1 phụ âm\"\"\"\n",
        "        chars = list(word)\n",
        "        #nguyen am\n",
        "        vowel_index = -1\n",
        "        for i in range(len(chars)):\n",
        "            idx_vowel_table = self.vowels_to_ids.get(chars[i],(-1,-1))[0]\n",
        "            if idx_vowel_table != -1:\n",
        "                if vowel_index == -1:\n",
        "                    vowel_index = i\n",
        "                else:\n",
        "                    if i - vowel_index != 1:\n",
        "                        return False\n",
        "                    vowel_index = i\n",
        "        return True\n",
        "\n",
        "    def WordStandardized(self,word):\n",
        "        \"\"\"Standardize Word\"\"\"\n",
        "        if not self.IsValidVietnameseWord(word):\n",
        "            return word\n",
        "\n",
        "        chars = list(word)\n",
        "        vowel_indexes = []\n",
        "\n",
        "        # tìm vị trí nguyên âm\n",
        "        qu_or_gi = False\n",
        "        thanh_dieu = 0\n",
        "        for i in range(len(chars)):\n",
        "            vowel_table_row, vowel_table_col = self.vowels_to_ids.get(chars[i],(-1,-1))\n",
        "            if vowel_table_row == -1 :\n",
        "                continue\n",
        "            # qu\n",
        "            if vowel_table_row == 9:\n",
        "                if i != 0 and chars[i-1] == 'q':\n",
        "                    chars[i] = 'u'\n",
        "                    qu_or_gi = True\n",
        "            # gi\n",
        "            elif vowel_table_row == 5:\n",
        "                if i != 0 and chars[i-1] == 'g':\n",
        "                    chars[i] = 'i'\n",
        "                    qu_or_gi = True\n",
        "\n",
        "            # có chứa thanh điệu\n",
        "            if vowel_table_col != 0:\n",
        "                thanh_dieu = vowel_table_col\n",
        "                chars[i] = self.vowels_table[vowel_table_row][0]\n",
        "\n",
        "            vowel_indexes.append(i)\n",
        "        # 1 nguyên âm\n",
        "        if len(vowel_indexes) == 1:\n",
        "            c = chars[vowel_indexes[0]]\n",
        "            chars[vowel_indexes[0]] = self.vowels_table[self.vowels_to_ids[c][0]][thanh_dieu]\n",
        "            return ''.join(chars)\n",
        "\n",
        "        for idx_vowel in vowel_indexes:\n",
        "            vowel_table_row, vowel_table_col = self.vowels_to_ids.get(chars[idx_vowel],(-1,-1))\n",
        "            #ê, ơ, ô\n",
        "            if vowel_table_row == 4 or vowel_table_row == 7 or vowel_table_row == 8:\n",
        "                c = chars[idx_vowel]\n",
        "                chars[idx_vowel] = self.vowels_table[self.vowels_to_ids[c][0]][thanh_dieu]\n",
        "                return ''.join(chars)\n",
        "\n",
        "            # kiểm tra qu và gi, 2-3 nguyên âm thì nguyên âm thứ 2 chứa dấu\n",
        "            if qu_or_gi:\n",
        "                if len(vowel_indexes) == 2 or len(vowel_indexes) == 3:\n",
        "                    c = chars[vowel_indexes[1]]\n",
        "                    chars[vowel_indexes[1]] = self.vowels_table[self.vowels_to_ids[c][0]][thanh_dieu]\n",
        "                return ''.join(chars)\n",
        "\n",
        "            # 2 nguyên âm\n",
        "            if len(vowel_indexes) == 2:\n",
        "                # âm cuối là nguyên âm\n",
        "                if vowel_indexes[-1] == len(chars) - 1:\n",
        "                    c = chars[vowel_indexes[0]]\n",
        "                    chars[vowel_indexes[0]] = self.vowels_table[self.vowels_to_ids[c][0]][thanh_dieu]\n",
        "                else:\n",
        "                    c = chars[vowel_indexes[-1]]\n",
        "                    chars[vowel_indexes[-1]] = self.vowels_table[self.vowels_to_ids[c][0]][thanh_dieu]\n",
        "                return ''.join(chars)\n",
        "\n",
        "            elif len(vowel_indexes) == 3:\n",
        "                # âm cuối là nguyên âm\n",
        "                if vowel_indexes[-1] == len(chars) - 1:\n",
        "                    c = chars[vowel_indexes[1]]\n",
        "                    chars[vowel_indexes[1]] = self.vowels_table[self.vowels_to_ids[c][0]][thanh_dieu]\n",
        "                else:\n",
        "                    c = chars[vowel_indexes[-1]]\n",
        "                    chars[vowel_indexes[-1]] = self.vowels_table[self.vowels_to_ids[c][0]][thanh_dieu]\n",
        "                return ''.join(chars)\n",
        "\n",
        "        return ''.join(chars)\n",
        "\n",
        "    def normalize(self,text):\n",
        "\n",
        "        #Chuyen sang viet thuong\n",
        "        text = text.lower()\n",
        "\n",
        "        # Rút gọn từ kéo dài\n",
        "        text = re.sub(r'(\\w)\\1+',r'\\1',text)\n",
        "\n",
        "        # xóa các emoji dư thừa\n",
        "        emoji_pattern = re.compile(\"[\"\n",
        "            u\"\\U0001F600-\\U0001F64F\"  # emoticons\n",
        "            u\"\\U0001F300-\\U0001F5FF\"  # symbols & pictographs\n",
        "            u\"\\U0001F680-\\U0001F6FF\"  # transport & map symbols\n",
        "            u\"\\U0001F1E0-\\U0001F1FF\"  # flags (iOS)\n",
        "                            \"]+\", flags=re.UNICODE)\n",
        "        text = emoji_pattern.sub(r'',text) # no emoji\n",
        "\n",
        "        text = text.split()\n",
        "        # chuẩn hóa thanh điệu\n",
        "        for i in range(len(text)):\n",
        "            text[i] = self.WordStandardized(text[i])\n",
        "\n",
        "        text = ' '.join(text)\n",
        "\n",
        "        # xóa space d\n",
        "        text = re.sub(r\"( )\\1+\",r'\\1',text)\n",
        "        text = re.sub(r\"[:)^@!`~%;?(\\+\\-\\'\\\"]+\",r'',text)\n",
        "\n",
        "        # remove hastag\n",
        "        text = re.sub(\"(@[A-Za-z0-9]+)|(#[0-9A-Za-z]+)\",\" \", text)\n",
        "        return text"
      ]
    },
    {
      "cell_type": "code",
      "execution_count": null,
      "metadata": {
        "id": "i8WumV235VJq"
      },
      "outputs": [],
      "source": [
        "def convert_unicode(text):\n",
        "  char1252 = 'à|á|ả|ã|ạ|ầ|ấ|ẩ|ẫ|ậ|ằ|ắ|ẳ|ẵ|ặ|è|é|ẻ|ẽ|ẹ|ề|ế|ể|ễ|ệ|ì|í|ỉ|ĩ|ị|ò|ó|ỏ|õ|ọ|ồ|ố|ổ|ỗ|ộ|ờ|ớ|ở|ỡ|ợ|ù|ú|ủ|ũ|ụ|ừ|ứ|ử|ữ|ự|ỳ|ý|ỷ|ỹ|ỵ|À|Á|Ả|Ã|Ạ|Ầ|Ấ|Ẩ|Ẫ|Ậ|Ằ|Ắ|Ẳ|Ẵ|Ặ|È|É|Ẻ|Ẽ|Ẹ|Ề|Ế|Ể|Ễ|Ệ|Ì|Í|Ỉ|Ĩ|Ị|Ò|Ó|Ỏ|Õ|Ọ|Ồ|Ố|Ổ|Ỗ|Ộ|Ờ|Ớ|Ở|Ỡ|Ợ|Ù|Ú|Ủ|Ũ|Ụ|Ừ|Ứ|Ử|Ữ|Ự|Ỳ|Ý|Ỷ|Ỹ|Ỵ'\n",
        "  charutf8 = 'à|á|ả|ã|ạ|ầ|ấ|ẩ|ẫ|ậ|ằ|ắ|ẳ|ẵ|ặ|è|é|ẻ|ẽ|ẹ|ề|ế|ể|ễ|ệ|ì|í|ỉ|ĩ|ị|ò|ó|ỏ|õ|ọ|ồ|ố|ổ|ỗ|ộ|ờ|ớ|ở|ỡ|ợ|ù|ú|ủ|ũ|ụ|ừ|ứ|ử|ữ|ự|ỳ|ý|ỷ|ỹ|ỵ|À|Á|Ả|Ã|Ạ|Ầ|Ấ|Ẩ|Ẫ|Ậ|Ằ|Ắ|Ẳ|Ẵ|Ặ|È|É|Ẻ|Ẽ|Ẹ|Ề|Ế|Ể|Ễ|Ệ|Ì|Í|Ỉ|Ĩ|Ị|Ò|Ó|Ỏ|Õ|Ọ|Ồ|Ố|Ổ|Ỗ|Ộ|Ờ|Ớ|Ở|Ỡ|Ợ|Ù|Ú|Ủ|Ũ|Ụ|Ừ|Ứ|Ử|Ữ|Ự|Ỳ|Ý|Ỷ|Ỹ|Ỵ'\n",
        "  char1252 = char1252.split('|')\n",
        "  charutf8 = charutf8.split('|')\n",
        "\n",
        "  dic = {}\n",
        "  for i in range(len(char1252)): dic[char1252[i]] = charutf8[i]\n",
        "  return re.sub(\n",
        "      r'à|á|ả|ã|ạ|ầ|ấ|ẩ|ẫ|ậ|ằ|ắ|ẳ|ẵ|ặ|è|é|ẻ|ẽ|ẹ|ề|ế|ể|ễ|ệ|ì|í|ỉ|ĩ|ị|ò|ó|ỏ|õ|ọ|ồ|ố|ổ|ỗ|ộ|ờ|ớ|ở|ỡ|ợ|ù|ú|ủ|ũ|ụ|ừ|ứ|ử|ữ|ự|ỳ|ý|ỷ|ỹ|ỵ|À|Á|Ả|Ã|Ạ|Ầ|Ấ|Ẩ|Ẫ|Ậ|Ằ|Ắ|Ẳ|Ẵ|Ặ|È|É|Ẻ|Ẽ|Ẹ|Ề|Ế|Ể|Ễ|Ệ|Ì|Í|Ỉ|Ĩ|Ị|Ò|Ó|Ỏ|Õ|Ọ|Ồ|Ố|Ổ|Ỗ|Ộ|Ờ|Ớ|Ở|Ỡ|Ợ|Ù|Ú|Ủ|Ũ|Ụ|Ừ|Ứ|Ử|Ữ|Ự|Ỳ|Ý|Ỷ|Ỹ|Ỵ',\n",
        "      lambda x: dic[x.group()], text\n",
        ")\n"
      ]
    },
    {
      "cell_type": "code",
      "execution_count": null,
      "metadata": {
        "id": "neopMjg_AG2R"
      },
      "outputs": [],
      "source": [
        "class LoadData():\n",
        "    def __init__(self, file_path):\n",
        "        self.file_path = file_path\n",
        "\n",
        "        self.data = pd.read_json(file_path, lines = True)\n",
        "        # self.data = self.data.dropna()\n",
        "        self.X = []\n",
        "        self.y = []\n",
        "    def transform(self,x,label):\n",
        "        y = []\n",
        "        if len(label) == 0:\n",
        "          return x,np.array([\"O\" for i in range(len(x.split()))])\n",
        "\n",
        "        first_index = label[:,0].astype(int)\n",
        "        second_index = label[:,1].astype(int)\n",
        "        asp_cate_pola = label[:,2]\n",
        "        s = 0\n",
        "        a = \"\"\n",
        "        # chay tu s -> first, cap nhat s\n",
        "        for i in range(len(label)):\n",
        "\n",
        "            front = x[s:first_index[i]]\n",
        "            # print(first_index[i],second_index[i])\n",
        "            middle = x[first_index[i]:second_index[i]]\n",
        "            # print(x)\n",
        "            # print(middle)\n",
        "            s = second_index[i]\n",
        "\n",
        "            a += front + \" \" + middle + \" \"\n",
        "            y.extend([\"O\" for i in range(len(front.split()))])\n",
        "            y.extend([f\"B-{asp_cate_pola[i]}\" if j == 0 else f\"I-{asp_cate_pola[i]}\" for j in range(len(middle.split()))])\n",
        "\n",
        "        if s != len(x):\n",
        "            a+= x[s:]\n",
        "            y.extend([\"O\" for i in range(len(x[s:].split()))])\n",
        "\n",
        "        # print(a)\n",
        "        # for k, v in zip(a.split(),y):\n",
        "        #     print(k,\"=>\",v)\n",
        "        return a,np.array(y)\n",
        "\n",
        "    def ExtractAspectTermPosition(self,span_labels):\n",
        "        labels = []\n",
        "        # print(aspectTerms)\n",
        "        for ls in span_labels:\n",
        "            start = ls[0]\n",
        "            end = ls[1]\n",
        "            asp_cate_pola = ls[2]\n",
        "\n",
        "            labels.append([int(start),int(end), asp_cate_pola])\n",
        "        return np.array(sorted(labels,key = lambda x: x[0]))\n",
        "\n",
        "    def load(self,):\n",
        "        _len = len(self.data)\n",
        "        for i in range(_len):\n",
        "            x = self.data.iloc[i,0].strip() #text\n",
        "            span_labels = self.data.iloc[i,1] #label\n",
        "            span_labels = np.array(sorted(span_labels,key = lambda x: x[0]))\n",
        "\n",
        "            x,y = self.transform(x,span_labels)\n",
        "            self.X.append(convert_unicode(x))\n",
        "            self.y.append(y)\n",
        "\n",
        "        return self.X,self.y"
      ]
    },
    {
      "cell_type": "code",
      "execution_count": null,
      "metadata": {
        "id": "tc_I58hD1zGZ"
      },
      "outputs": [],
      "source": [
        "data = LoadData(\"/content/drive/MyDrive/dataset/train.jsonl\")\n",
        "X_raw,y_raw = data.load()\n"
      ]
    },
    {
      "cell_type": "code",
      "execution_count": null,
      "metadata": {
        "colab": {
          "base_uri": "https://localhost:8080/"
        },
        "id": "RwM486tQxyIz",
        "outputId": "7632604b-2785-4690-b576-f85e4b357508"
      },
      "outputs": [
        {
          "data": {
            "text/plain": [
              "([' Pin Sài tầm 50h cho pin 100/100 .  Camera ổn  ...  tất cả đều OK  ...  nhân viên thế giới di động trần văn thời cà mau nhiệt tình và vui vẻ ...chúc các ae sức khỏe tốt và phục ok hoài nha ....',\n",
              "  ' Lag  và  hao pin  là cái tóm tắt về máy.  Sam làm tệ quá, không bằng mấy con tàu cùng phân khúc ',\n",
              "  'Tất cả đều ổn ngoại trừ lúc  máy nóng lên thì pin tụt nhanh hơn tụt quần  haizz.  Cam chụp cũng gọi là tầm trung .  Nếu dùng lướt web bình thường thì có thể dùng được cả ngày ',\n",
              "  'Ok mua máy ở TGDD  chính sách đổi trả rất tốt,rất yên tâm khi mua ở TGDD,quản lý ở 15A đường bà hôm phường 13 quận 6 nhẹ nhàng và vui tính,nhiên viên ai cũng nhiệt tình, hài lòng về cách chăm sóc khách hàng của các bạn !.',\n",
              "  ' kiểu dáng thì đẹp,cầm chắc tay ,nhưng  loa nhỏ quá , nhân viên phục vụ rất nhiệt tình '],\n",
              " [array(['B-BATTERY#POSITIVE', 'I-BATTERY#POSITIVE', 'I-BATTERY#POSITIVE',\n",
              "         'I-BATTERY#POSITIVE', 'I-BATTERY#POSITIVE', 'I-BATTERY#POSITIVE',\n",
              "         'I-BATTERY#POSITIVE', 'O', 'B-CAMERA#POSITIVE',\n",
              "         'I-CAMERA#POSITIVE', 'O', 'B-GENERAL#POSITIVE',\n",
              "         'I-GENERAL#POSITIVE', 'I-GENERAL#POSITIVE', 'I-GENERAL#POSITIVE',\n",
              "         'O', 'B-SER&ACC#POSITIVE', 'I-SER&ACC#POSITIVE',\n",
              "         'I-SER&ACC#POSITIVE', 'I-SER&ACC#POSITIVE', 'I-SER&ACC#POSITIVE',\n",
              "         'I-SER&ACC#POSITIVE', 'I-SER&ACC#POSITIVE', 'I-SER&ACC#POSITIVE',\n",
              "         'I-SER&ACC#POSITIVE', 'I-SER&ACC#POSITIVE', 'I-SER&ACC#POSITIVE',\n",
              "         'I-SER&ACC#POSITIVE', 'I-SER&ACC#POSITIVE', 'I-SER&ACC#POSITIVE',\n",
              "         'I-SER&ACC#POSITIVE', 'I-SER&ACC#POSITIVE', 'I-SER&ACC#POSITIVE',\n",
              "         'I-SER&ACC#POSITIVE', 'I-SER&ACC#POSITIVE', 'I-SER&ACC#POSITIVE',\n",
              "         'I-SER&ACC#POSITIVE', 'I-SER&ACC#POSITIVE', 'I-SER&ACC#POSITIVE',\n",
              "         'I-SER&ACC#POSITIVE', 'I-SER&ACC#POSITIVE', 'I-SER&ACC#POSITIVE',\n",
              "         'I-SER&ACC#POSITIVE', 'O'], dtype='<U18'),\n",
              "  array(['B-PERFORMANCE#NEGATIVE', 'O', 'B-BATTERY#NEGATIVE',\n",
              "         'I-BATTERY#NEGATIVE', 'O', 'O', 'O', 'O', 'O', 'O',\n",
              "         'B-GENERAL#NEGATIVE', 'I-GENERAL#NEGATIVE', 'I-GENERAL#NEGATIVE',\n",
              "         'I-GENERAL#NEGATIVE', 'I-GENERAL#NEGATIVE', 'I-GENERAL#NEGATIVE',\n",
              "         'I-GENERAL#NEGATIVE', 'I-GENERAL#NEGATIVE', 'I-GENERAL#NEGATIVE',\n",
              "         'I-GENERAL#NEGATIVE', 'I-GENERAL#NEGATIVE', 'I-GENERAL#NEGATIVE'],\n",
              "        dtype='<U22'),\n",
              "  array(['O', 'O', 'O', 'O', 'O', 'O', 'O', 'B-BATTERY#NEGATIVE',\n",
              "         'I-BATTERY#NEGATIVE', 'I-BATTERY#NEGATIVE', 'I-BATTERY#NEGATIVE',\n",
              "         'I-BATTERY#NEGATIVE', 'I-BATTERY#NEGATIVE', 'I-BATTERY#NEGATIVE',\n",
              "         'I-BATTERY#NEGATIVE', 'I-BATTERY#NEGATIVE', 'I-BATTERY#NEGATIVE',\n",
              "         'O', 'B-CAMERA#NEUTRAL', 'I-CAMERA#NEUTRAL', 'I-CAMERA#NEUTRAL',\n",
              "         'I-CAMERA#NEUTRAL', 'I-CAMERA#NEUTRAL', 'I-CAMERA#NEUTRAL',\n",
              "         'I-CAMERA#NEUTRAL', 'O', 'B-BATTERY#POSITIVE',\n",
              "         'I-BATTERY#POSITIVE', 'I-BATTERY#POSITIVE', 'I-BATTERY#POSITIVE',\n",
              "         'I-BATTERY#POSITIVE', 'I-BATTERY#POSITIVE', 'I-BATTERY#POSITIVE',\n",
              "         'I-BATTERY#POSITIVE', 'I-BATTERY#POSITIVE', 'I-BATTERY#POSITIVE',\n",
              "         'I-BATTERY#POSITIVE', 'I-BATTERY#POSITIVE', 'I-BATTERY#POSITIVE'],\n",
              "        dtype='<U18'),\n",
              "  array(['O', 'O', 'O', 'O', 'O', 'B-SER&ACC#POSITIVE',\n",
              "         'I-SER&ACC#POSITIVE', 'I-SER&ACC#POSITIVE', 'I-SER&ACC#POSITIVE',\n",
              "         'I-SER&ACC#POSITIVE', 'I-SER&ACC#POSITIVE', 'I-SER&ACC#POSITIVE',\n",
              "         'I-SER&ACC#POSITIVE', 'I-SER&ACC#POSITIVE', 'I-SER&ACC#POSITIVE',\n",
              "         'I-SER&ACC#POSITIVE', 'I-SER&ACC#POSITIVE', 'I-SER&ACC#POSITIVE',\n",
              "         'I-SER&ACC#POSITIVE', 'I-SER&ACC#POSITIVE', 'I-SER&ACC#POSITIVE',\n",
              "         'I-SER&ACC#POSITIVE', 'I-SER&ACC#POSITIVE', 'I-SER&ACC#POSITIVE',\n",
              "         'I-SER&ACC#POSITIVE', 'I-SER&ACC#POSITIVE', 'I-SER&ACC#POSITIVE',\n",
              "         'I-SER&ACC#POSITIVE', 'I-SER&ACC#POSITIVE', 'I-SER&ACC#POSITIVE',\n",
              "         'I-SER&ACC#POSITIVE', 'I-SER&ACC#POSITIVE', 'I-SER&ACC#POSITIVE',\n",
              "         'I-SER&ACC#POSITIVE', 'I-SER&ACC#POSITIVE', 'I-SER&ACC#POSITIVE',\n",
              "         'I-SER&ACC#POSITIVE', 'I-SER&ACC#POSITIVE', 'I-SER&ACC#POSITIVE',\n",
              "         'I-SER&ACC#POSITIVE', 'I-SER&ACC#POSITIVE', 'I-SER&ACC#POSITIVE',\n",
              "         'I-SER&ACC#POSITIVE', 'I-SER&ACC#POSITIVE', 'I-SER&ACC#POSITIVE',\n",
              "         'I-SER&ACC#POSITIVE', 'I-SER&ACC#POSITIVE', 'I-SER&ACC#POSITIVE',\n",
              "         'O'], dtype='<U18'),\n",
              "  array(['B-DESIGN#POSITIVE', 'I-DESIGN#POSITIVE', 'I-DESIGN#POSITIVE',\n",
              "         'I-DESIGN#POSITIVE', 'I-DESIGN#POSITIVE', 'I-DESIGN#POSITIVE', 'O',\n",
              "         'B-FEATURES#NEGATIVE', 'I-FEATURES#NEGATIVE',\n",
              "         'I-FEATURES#NEGATIVE', 'O', 'B-SER&ACC#POSITIVE',\n",
              "         'I-SER&ACC#POSITIVE', 'I-SER&ACC#POSITIVE', 'I-SER&ACC#POSITIVE',\n",
              "         'I-SER&ACC#POSITIVE', 'I-SER&ACC#POSITIVE', 'I-SER&ACC#POSITIVE'],\n",
              "        dtype='<U19')])"
            ]
          },
          "execution_count": 85,
          "metadata": {},
          "output_type": "execute_result"
        }
      ],
      "source": [
        "X_raw[:5],y_raw[:5]"
      ]
    },
    {
      "cell_type": "code",
      "execution_count": null,
      "metadata": {
        "colab": {
          "base_uri": "https://localhost:8080/"
        },
        "id": "v-i0fLj8wmZg",
        "outputId": "da4a61b7-9b1c-4953-8ec6-41b2e4a7fb27"
      },
      "outputs": [
        {
          "name": "stdout",
          "output_type": "stream",
          "text": [
            "[]\n"
          ]
        }
      ],
      "source": [
        "z = pd.read_json(\"/content/drive/MyDrive/dataset/train.jsonl\",lines = True)\n",
        "print(z.iloc[10,:].labels)"
      ]
    },
    {
      "cell_type": "code",
      "execution_count": null,
      "metadata": {
        "colab": {
          "base_uri": "https://localhost:8080/"
        },
        "id": "0FXHL46KEFGO",
        "outputId": "76bcffa4-8fbf-428d-9c0a-55a1dee905d8"
      },
      "outputs": [
        {
          "name": "stdout",
          "output_type": "stream",
          "text": [
            "Chỉ => O\n",
            "cần => O\n",
            "pin => O\n",
            "trâu => O\n",
            "sóng => O\n",
            "khỏe => O\n",
            "Bắc => O\n",
            "wifi => O\n",
            "mạnh => O\n",
            "là => O\n",
            "OK => O\n",
            "Chỉ => O\n",
            "cần => O\n",
            "vậy => O\n",
            "pin => O\n",
            "sử => O\n",
            "dụng => O\n",
            "2e2 => O\n",
            "3 => O\n",
            "ngày => O\n",
            "là => O\n",
            "đc => O\n"
          ]
        }
      ],
      "source": [
        "for k,v in zip(X_raw[10].split(),y_raw[10]):\n",
        "  print(k,\"=>\",v)"
      ]
    },
    {
      "attachments": {},
      "cell_type": "markdown",
      "metadata": {
        "id": "0F_VThK60npb"
      },
      "source": [
        "# ASPECT TERM EXTRACTION"
      ]
    },
    {
      "cell_type": "code",
      "execution_count": null,
      "metadata": {
        "id": "KEnKRspT0u16"
      },
      "outputs": [],
      "source": [
        "PRETRAINED_MODEL = \"vinai/phobert-base-v2\"\n",
        "SEP = \"</s>\"\n",
        "MAX_LEN = 256\n",
        "BATCH_SIZE = 8"
      ]
    },
    {
      "attachments": {},
      "cell_type": "markdown",
      "metadata": {
        "id": "liZ5UCijCWhi"
      },
      "source": [
        "## ALIGN LABEL"
      ]
    },
    {
      "cell_type": "code",
      "execution_count": null,
      "metadata": {
        "id": "zibMzC0YZf5U"
      },
      "outputs": [],
      "source": [
        "class AlignLabel():\n",
        "  def __init__(self):\n",
        "    pass\n",
        "  def Convert2LabelPosition(self,label):\n",
        "    labels_position = []\n",
        "    lst_first_pos = np.array([i if \"B-\" in v else 0 for i,v in enumerate(label)])\n",
        "    lst_first_pos = np.argwhere(lst_first_pos != 0).reshape(1,-1)[0]\n",
        "\n",
        "    for i in range(len(lst_first_pos)):\n",
        "      # if i reach last pos: label range should be (i,len(label))\n",
        "      last_pos = lst_first_pos[i]\n",
        "      if i == len(lst_first_pos) - 1:\n",
        "        for j in range(lst_first_pos[i],len(label)):\n",
        "          if \"I-\" in label[j]:\n",
        "            last_pos = j\n",
        "      else:\n",
        "        for j in range(lst_first_pos[i],lst_first_pos[i+1]):\n",
        "          if \"I-\" in label[j]:\n",
        "            last_pos = j\n",
        "      labels_position.append([lst_first_pos[i],last_pos,label[lst_first_pos[i]]])\n",
        "\n",
        "    return np.array(labels_position)\n",
        "\n",
        "  def segment_and_alignLabel(self,x,y,tokenizer, SEP):\n",
        "    def segment_and_addSEP(seg,ismid):\n",
        "      seg = tokenizer.tokenize(seg)\n",
        "      seg = [\" \".join(s) for s in seg]\n",
        "      seg = \" \".join(seg)\n",
        "      return seg\n",
        "\n",
        "\n",
        "    y_new = []\n",
        "    label = self.Convert2LabelPosition(y)\n",
        "    preprocess = TextNormalize()\n",
        "\n",
        "    if len(label) == 0:\n",
        "      x_temp = preprocess.normalize(x)\n",
        "      x_temp = segment_and_addSEP(x_temp,False)\n",
        "      x_temp = \" \".join(x_temp.split())\n",
        "      y_new = [\"O\" for i in range(len(x_temp.split()))]\n",
        "      return  [x_temp,np.array(y_new)]\n",
        "\n",
        "    first_index = label[:,0].astype(int)\n",
        "    second_index = label[:,1].astype(int)\n",
        "    asp_cate_pola = label[:,2]\n",
        "    s = 0\n",
        "    a = \"\"\n",
        "    x = x.split()\n",
        "    for i in range(len(label)):\n",
        "        front = \" \".join(x[s:first_index[i]])\n",
        "        if first_index[i] == second_index[i]:\n",
        "          middle = x[first_index[i]]\n",
        "          s = second_index[i] + 1\n",
        "        else:\n",
        "          middle = \" \".join(x[first_index[i]:second_index[i]+1])\n",
        "          s = second_index[i]+1\n",
        "\n",
        "        front = preprocess.normalize(front)\n",
        "        middle = preprocess.normalize(middle)\n",
        "\n",
        "        front = segment_and_addSEP(front,False)\n",
        "        middle = segment_and_addSEP(middle,True )\n",
        "\n",
        "        a += front + \" \" + middle + \" \"\n",
        "        y_new.extend([\"O\" for i in range(len(front.split()))])\n",
        "\n",
        "        if first_index[i] == second_index[i]:\n",
        "          y_new.extend([f\"B-{asp_cate_pola[i][2:]}\"])\n",
        "        else:\n",
        "          y_new.extend([f\"B-{asp_cate_pola[i][2:]}\" if j == 0 else f\"I-{asp_cate_pola[i][2:]}\" for j in range(len(middle.split(\" \")))])\n",
        "\n",
        "    if s != len(x):\n",
        "        enc = \" \".join(x[s:])\n",
        "        enc = preprocess.normalize(enc)\n",
        "        enc = segment_and_addSEP(enc,False)\n",
        "        a+= enc\n",
        "        y_new.extend([\"O\" for i in range(len(enc.split()))])\n",
        "\n",
        "    a = \" \".join(a.split())\n",
        "    return [a,np.array(y_new)]\n",
        "\n",
        "  def tokenize_and_alignlabel(self,x,y,tag2idx,tokenizer):\n",
        "    x = x.strip().split(\" \")\n",
        "    y_position = self.Convert2LabelPosition(y)\n",
        "    if len(y_position) == 0:\n",
        "      return np.zeros(MAX_LEN)\n",
        "\n",
        "    first_index = y_position[:,0].astype(int)\n",
        "    second_index = y_position[:,1].astype(int)\n",
        "    asp_cate_pola = y_position[:,2]\n",
        "    y_new = np.zeros(MAX_LEN)\n",
        "    x_tokenize = []\n",
        "    s = 0\n",
        "    pre_len = 0\n",
        "    y_position = 1\n",
        "    for i in range(len(first_index)):\n",
        "      front_len = len(tokenizer(\" \".join(x[s:first_index[i]]),add_special_tokens = False)['input_ids'])\n",
        "      y_new[y_position:y_position + front_len] = tag2idx[\"O\"]\n",
        "      y_position += front_len\n",
        "\n",
        "      if first_index[i] == second_index[i]:\n",
        "        words = tokenizer(x[first_index[i]],add_special_tokens = False)['input_ids']\n",
        "        s = second_index[i] + 1\n",
        "        # print(x[first_index[i]])\n",
        "\n",
        "      else:\n",
        "        # print(x[first_index[i]:second_index[i]+1],)\n",
        "        words = tokenizer(\" \".join(x[first_index[i]:second_index[i]+1]),add_special_tokens = False)['input_ids']\n",
        "        s = second_index[i] + 1\n",
        "      y_new[y_position] = tag2idx[f'B-{asp_cate_pola[i][2:]}']\n",
        "      # print(words)\n",
        "      if len(words) >= 2:\n",
        "        y_new[y_position+1:y_position+1+len(words)-1] = tag2idx[f'I-{asp_cate_pola[i][2:]}'] # skip B-name position, subtract -1 because len(words) contain B-name\n",
        "\n",
        "      y_position += len(words)\n",
        "\n",
        "    tokenize_last_sents = tokenizer(\" \".join(x[s:]),add_special_tokens = False)['input_ids']\n",
        "    y_new[y_position:y_position + len(tokenize_last_sents) + 1] = tag2idx[\"O\"]\n",
        "\n",
        "    end_sep_position = y_position  + len(tokenizer(\" \".join(x[s:])))\n",
        "\n",
        "    y_new[0] = tag2idx['O']\n",
        "    y_new[end_sep_position ] = tag2idx['O']\n",
        "\n",
        "    return y_new\n",
        "\n",
        "  def transform(self,x_raw,y_raw,rdrsegmenter,SEP):\n",
        "    X = []\n",
        "    Y = []\n",
        "    for i in range(len(x_raw)):\n",
        "      x, y = self.segment_and_alignLabel(x_raw[i],y_raw[i],rdrsegmenter,SEP)\n",
        "      X.append(x)\n",
        "      Y.append(y)\n",
        "    X = np.asarray(X)\n",
        "    Y = np.asarray(Y)\n",
        "    return X,Y"
      ]
    },
    {
      "cell_type": "code",
      "execution_count": null,
      "metadata": {
        "id": "4UhEEy1cfbGT"
      },
      "outputs": [],
      "source": [
        "from vncorenlp import VnCoreNLP\n",
        "rdrsegmenter = VnCoreNLP(\"vncorenlp/VnCoreNLP-1.2.jar\", annotators=\"wseg\", max_heap_size='-Xmx500m')\n"
      ]
    },
    {
      "cell_type": "code",
      "execution_count": null,
      "metadata": {
        "colab": {
          "base_uri": "https://localhost:8080/"
        },
        "id": "ZwlA6OTbha7h",
        "outputId": "91affdd2-d5ff-4019-c5de-786bcc3fb14b"
      },
      "outputs": [
        {
          "name": "stderr",
          "output_type": "stream",
          "text": [
            "<ipython-input-12-ed114fe53922>:162: VisibleDeprecationWarning: Creating an ndarray from ragged nested sequences (which is a list-or-tuple of lists-or-tuples-or ndarrays with different lengths or shapes) is deprecated. If you meant to do this, you must specify 'dtype=object' when creating the ndarray.\n",
            "  Y = np.asarray(Y)\n"
          ]
        }
      ],
      "source": [
        "align_label = AlignLabel()\n",
        "X, y = align_label.transform(X_raw,y_raw,rdrsegmenter,SEP)"
      ]
    },
    {
      "cell_type": "code",
      "execution_count": null,
      "metadata": {
        "colab": {
          "base_uri": "https://localhost:8080/"
        },
        "id": "XQT2isSgLjbe",
        "outputId": "8b5bd6e6-d548-4e74-8dbf-aa899814f18f"
      },
      "outputs": [
        {
          "data": {
            "text/plain": [
              "[['Mua',\n",
              "  'được',\n",
              "  '1',\n",
              "  'tuần',\n",
              "  'thấy',\n",
              "  'máy',\n",
              "  'quá',\n",
              "  'OK',\n",
              "  'Pin',\n",
              "  'trâu',\n",
              "  ',',\n",
              "  'máy',\n",
              "  'mượt',\n",
              "  ',',\n",
              "  'cảm_biến',\n",
              "  'vân',\n",
              "  'tay',\n",
              "  'nhạy',\n",
              "  ',',\n",
              "  'k',\n",
              "  'nóng',\n",
              "  'máy',\n",
              "  '.'],\n",
              " ['Nhu_cầu',\n",
              "  'chơi',\n",
              "  'game',\n",
              "  'nên',\n",
              "  'k',\n",
              "  'cần',\n",
              "  'gì',\n",
              "  'hơn',\n",
              "  ',',\n",
              "  'liên_quân',\n",
              "  'vô',\n",
              "  'nhanh',\n",
              "  'gần',\n",
              "  'ngang',\n",
              "  'ip',\n",
              "  '.'],\n",
              " ['Vs',\n",
              "  'mức',\n",
              "  'giá',\n",
              "  'này',\n",
              "  'mua',\n",
              "  'con',\n",
              "  'máy',\n",
              "  'sài',\n",
              "  'thấy',\n",
              "  'quá',\n",
              "  'hời',\n",
              "  'luôn']]"
            ]
          },
          "execution_count": 93,
          "metadata": {},
          "output_type": "execute_result"
        }
      ],
      "source": [
        "te = \"Mua được 1 tuần thấy máy quá OK Pin trâu , máy mượt , cảm biến vân tay nhạy , k nóng máy . Nhu cầu chơi game nên k cần gì hơn , liên quân vô nhanh gần ngang ip . Vs mức giá này mua con máy sài thấy quá hời luôn\"\n",
        "rdrsegmenter.tokenize(te)"
      ]
    },
    {
      "cell_type": "code",
      "execution_count": null,
      "metadata": {
        "colab": {
          "base_uri": "https://localhost:8080/"
        },
        "id": "SZiIYo_DFCFW",
        "outputId": "0243b39d-10cc-4b82-e581-747071445277"
      },
      "outputs": [
        {
          "name": "stdout",
          "output_type": "stream",
          "text": [
            "mua được 1 tuần thấy máy quá ok pin trâu , máy mượt , cảm_biến vân tay nhạy , k nóng máy . nhu_cầu chơi game nên k cần gì hơn , liên_quân vô nhanh gần ngang ip . vs mức giá này mua con máy sài thấy quá hời luôn\n",
            "mua => O\n",
            "được => O\n",
            "1 => O\n",
            "tuần => O\n",
            "thấy => O\n",
            "máy => B-GENERAL#POSITIVE\n",
            "quá => I-GENERAL#POSITIVE\n",
            "ok => I-GENERAL#POSITIVE\n",
            "pin => B-BATTERY#POSITIVE\n",
            "trâu => I-BATTERY#POSITIVE\n",
            ", => O\n",
            "máy => B-PERFORMANCE#POSITIVE\n",
            "mượt => I-PERFORMANCE#POSITIVE\n",
            ", => O\n",
            "cảm_biến => B-FEATURES#POSITIVE\n",
            "vân => I-FEATURES#POSITIVE\n",
            "tay => I-FEATURES#POSITIVE\n",
            "nhạy => I-FEATURES#POSITIVE\n",
            ", => O\n",
            "k => B-PERFORMANCE#POSITIVE\n",
            "nóng => I-PERFORMANCE#POSITIVE\n",
            "máy => I-PERFORMANCE#POSITIVE\n",
            ". => I-PERFORMANCE#POSITIVE\n",
            "nhu_cầu => I-PERFORMANCE#POSITIVE\n",
            "chơi => I-PERFORMANCE#POSITIVE\n",
            "game => I-PERFORMANCE#POSITIVE\n",
            "nên => I-PERFORMANCE#POSITIVE\n",
            "k => I-PERFORMANCE#POSITIVE\n",
            "cần => I-PERFORMANCE#POSITIVE\n",
            "gì => I-PERFORMANCE#POSITIVE\n",
            "hơn => I-PERFORMANCE#POSITIVE\n",
            ", => I-PERFORMANCE#POSITIVE\n",
            "liên_quân => I-PERFORMANCE#POSITIVE\n",
            "vô => I-PERFORMANCE#POSITIVE\n",
            "nhanh => I-PERFORMANCE#POSITIVE\n",
            "gần => I-PERFORMANCE#POSITIVE\n",
            "ngang => I-PERFORMANCE#POSITIVE\n",
            "ip => I-PERFORMANCE#POSITIVE\n",
            ". => O\n",
            "vs => B-PRICE#POSITIVE\n",
            "mức => I-PRICE#POSITIVE\n",
            "giá => I-PRICE#POSITIVE\n",
            "này => I-PRICE#POSITIVE\n",
            "mua => I-PRICE#POSITIVE\n",
            "con => I-PRICE#POSITIVE\n",
            "máy => I-PRICE#POSITIVE\n",
            "sài => I-PRICE#POSITIVE\n",
            "thấy => I-PRICE#POSITIVE\n",
            "quá => I-PRICE#POSITIVE\n",
            "hời => I-PRICE#POSITIVE\n",
            "luôn => I-PRICE#POSITIVE\n"
          ]
        }
      ],
      "source": [
        "m = 7\n",
        "print(X[m])\n",
        "for k,v in zip(X[m].split(),y[m]):\n",
        "  print(k,\"=>\",v)"
      ]
    },
    {
      "cell_type": "code",
      "execution_count": null,
      "metadata": {
        "id": "58j5fHJ0ghTh"
      },
      "outputs": [],
      "source": [
        "from sklearn.model_selection import train_test_split\n",
        "X_train, X_dev, y_train, y_dev = train_test_split(X, y, test_size=0.3, random_state=42)"
      ]
    },
    {
      "cell_type": "code",
      "execution_count": null,
      "metadata": {
        "id": "2hvHWgEF_09B"
      },
      "outputs": [],
      "source": [
        "def getTag2idx():\n",
        "  \"\"\"\n",
        "    This will return tag2idx, idx2tag\n",
        "  \"\"\"\n",
        "  aspect = np.array([\"SCREEN\",\"CAMERA\",\"FEATURES\",\"BATTERY\",\"PERFORMANCE\",\"STORAGE\",\"DESIGN\",\"PRICE\",\"GENERAL\",\"SER&ACC\"])\n",
        "  func_add_pola = lambda aspect,pola: [aspect[i] + \"#\" + pola for i in range(len(aspect))]\n",
        "  func_add_prefix = lambda aspect,prefix: [prefix + \"-\" + aspect[i] for i in range(len(aspect))]\n",
        "\n",
        "  aspect_pos = func_add_pola(aspect,\"POSITIVE\")\n",
        "  aspect_neu = func_add_pola(aspect,\"NEUTRAL\")\n",
        "  aspect_neg = func_add_pola(aspect,\"NEGATIVE\")\n",
        "\n",
        "  B_aspect_pos = func_add_prefix(aspect_pos,\"B\")\n",
        "  B_aspect_neu = func_add_prefix(aspect_neu,\"B\")\n",
        "  B_aspect_neg = func_add_prefix(aspect_neg,\"B\")\n",
        "\n",
        "  I_aspect_pos = func_add_prefix(aspect_pos,\"I\")\n",
        "  I_aspect_neu = func_add_prefix(aspect_neu,\"I\")\n",
        "  I_aspect_neg = func_add_prefix(aspect_neg,\"I\")\n",
        "  all_labels = np.concatenate([B_aspect_pos,B_aspect_neu,B_aspect_neg,I_aspect_pos,I_aspect_neu,I_aspect_neg])\n",
        "  tag2idx = {v:i+1 for i,v in enumerate(all_labels)}\n",
        "  tag2idx[\"O\"] = 0\n",
        "  idx2tag = {v:k for k,v in tag2idx.items()}\n",
        "  return tag2idx, idx2tag"
      ]
    },
    {
      "cell_type": "code",
      "execution_count": null,
      "metadata": {
        "id": "MU-FOyclCND0"
      },
      "outputs": [],
      "source": [
        "tag2idx, idx2tag = getTag2idx()"
      ]
    },
    {
      "cell_type": "code",
      "execution_count": null,
      "metadata": {
        "colab": {
          "base_uri": "https://localhost:8080/",
          "height": 130,
          "referenced_widgets": [
            "2dbc5d4a745d44bb9b71818709418434",
            "0e4a5d8b54be4285a03f98bd4988cb8f",
            "1ef8c692a9ab48d284d027313d5becd3",
            "79168a2da81f44759f9621749394ac59",
            "9d4fd553fbe84b10918fc778c62cb1cd",
            "1a4b998e08ae4cb6af8aab35943eea9a",
            "ab78172298254120b9cdf1126108f138",
            "48f2bbe6b73c4677ad32fee6f24b217d",
            "981d2fdf8fb34d9c8a6a74b850cdcb2f",
            "ed826ff19e204b61a7af72f33a303184",
            "841746b2ea004c39bf83f36575d38879",
            "7d48f2248cdc48f9bff113a24b508159",
            "095d6d15ee0e4a629ea198e6188f010c",
            "38e7e03f538c41a0876d4fd5cfa10081",
            "aee32dc793db4ac4840a770cbd59aed1",
            "c34190fc01d04d10ad253a31be70e301",
            "6cf67131f3c242fe83f87ab3f8f476f5",
            "a5e982638cfb4dc19e17fa6e8fe5c5c3",
            "dcccd4e2b04d46acabf7faf4bffe30b4",
            "c261b9b0716b4fbb8a9595949fb8f7ef",
            "14127951558f4bcebeb94ae16cc6c4b5",
            "b1eca33aea4242169f98473f781c0a69",
            "e281cfa5e5db4570b3a1884d0a89aab4",
            "c795739782c1497281a2f7944d57af0d",
            "5128d7bbf9894af88cec44917e152e83",
            "9a8f8e9d6835495b8f3d3f651dd02b26",
            "b540a4f95648410a94d686b6c478d08d",
            "9563963d4da94cd995f5cdfb83684663",
            "33d167f0bb744aba8e86b3cc000f29bb",
            "1d323d87cdfa45a99d548cddc0cb219a",
            "61dec3775f2a477aa73b7a6ccc6b2c23",
            "49cbfc1d1c9c437dbf98b9947a36b16d",
            "82d2e79137a04fd6bf9469da23093a51"
          ]
        },
        "id": "aobmX1ELYc0Z",
        "outputId": "31ed0c00-d09c-49b0-ac5b-ac10248da9bc"
      },
      "outputs": [
        {
          "data": {
            "application/vnd.jupyter.widget-view+json": {
              "model_id": "2dbc5d4a745d44bb9b71818709418434",
              "version_major": 2,
              "version_minor": 0
            },
            "text/plain": [
              "Downloading (…)lve/main/config.json:   0%|          | 0.00/678 [00:00<?, ?B/s]"
            ]
          },
          "metadata": {},
          "output_type": "display_data"
        },
        {
          "data": {
            "application/vnd.jupyter.widget-view+json": {
              "model_id": "7d48f2248cdc48f9bff113a24b508159",
              "version_major": 2,
              "version_minor": 0
            },
            "text/plain": [
              "Downloading (…)solve/main/vocab.txt:   0%|          | 0.00/895k [00:00<?, ?B/s]"
            ]
          },
          "metadata": {},
          "output_type": "display_data"
        },
        {
          "data": {
            "application/vnd.jupyter.widget-view+json": {
              "model_id": "e281cfa5e5db4570b3a1884d0a89aab4",
              "version_major": 2,
              "version_minor": 0
            },
            "text/plain": [
              "Downloading (…)solve/main/bpe.codes:   0%|          | 0.00/1.14M [00:00<?, ?B/s]"
            ]
          },
          "metadata": {},
          "output_type": "display_data"
        },
        {
          "name": "stderr",
          "output_type": "stream",
          "text": [
            "Special tokens have been added in the vocabulary, make sure the associated word embeddings are fine-tuned or trained.\n"
          ]
        }
      ],
      "source": [
        "from transformers import AutoTokenizer\n",
        "tokenizer = AutoTokenizer.from_pretrained(PRETRAINED_MODEL)"
      ]
    },
    {
      "cell_type": "code",
      "execution_count": null,
      "metadata": {
        "colab": {
          "base_uri": "https://localhost:8080/"
        },
        "id": "KO-x3Zlr4QI0",
        "outputId": "414e0c07-97bb-4b29-c47f-254df75c0403"
      },
      "outputs": [
        {
          "data": {
            "text/plain": [
              "['input_ids', 'token_type_ids', 'attention_mask']"
            ]
          },
          "execution_count": 82,
          "metadata": {},
          "output_type": "execute_result"
        }
      ],
      "source": [
        "tokenizer.model_input_names"
      ]
    },
    {
      "cell_type": "code",
      "execution_count": null,
      "metadata": {
        "colab": {
          "base_uri": "https://localhost:8080/"
        },
        "id": "JgqYYyZhnWfR",
        "outputId": "696a67b5-73ed-4075-9e49-921098aff874"
      },
      "outputs": [
        {
          "data": {
            "text/plain": [
              "1000000000000000019884624838656"
            ]
          },
          "execution_count": 83,
          "metadata": {},
          "output_type": "execute_result"
        }
      ],
      "source": [
        "tokenizer.model_max_length"
      ]
    },
    {
      "cell_type": "code",
      "execution_count": null,
      "metadata": {
        "colab": {
          "base_uri": "https://localhost:8080/",
          "height": 53
        },
        "id": "92-tXs80Olzj",
        "outputId": "053c4526-15b6-498c-d549-d1d99a618cf7"
      },
      "outputs": [
        {
          "data": {
            "application/vnd.google.colaboratory.intrinsic+json": {
              "type": "string"
            },
            "text/plain": [
              "'mua máy từ tháng 1 tổng kết máy dùng ngon , lướt web nhanh , bắt wifi tốt , chụp ảnh, quay vieo ok , pin trâu chơi game từ sáng đến chiều tối mới phải sạc'"
            ]
          },
          "execution_count": 24,
          "metadata": {},
          "output_type": "execute_result"
        }
      ],
      "source": [
        "X_train[281]"
      ]
    },
    {
      "cell_type": "code",
      "execution_count": null,
      "metadata": {
        "colab": {
          "base_uri": "https://localhost:8080/"
        },
        "id": "R1Ne5XiRKnwU",
        "outputId": "b0eb04df-d9b2-4502-9fed-8bd398552e69"
      },
      "outputs": [
        {
          "name": "stdout",
          "output_type": "stream",
          "text": [
            "ok máy đẹp , hiệu năng ăn đứt mấy con 835 android . có điều sạc pin k nhanh, bù lại pin cũng lâu . 2019 mua 7p sài tới 2021 đổi lên xs max là hợp lý ['O' 'B-DESIGN#POSITIVE' 'I-DESIGN#POSITIVE' 'O' 'B-PERFORMANCE#POSITIVE'\n",
            " 'I-PERFORMANCE#POSITIVE' 'I-PERFORMANCE#POSITIVE'\n",
            " 'I-PERFORMANCE#POSITIVE' 'I-PERFORMANCE#POSITIVE'\n",
            " 'I-PERFORMANCE#POSITIVE' 'I-PERFORMANCE#POSITIVE'\n",
            " 'I-PERFORMANCE#POSITIVE' 'O' 'B-BATTERY#NEUTRAL' 'I-BATTERY#NEUTRAL'\n",
            " 'I-BATTERY#NEUTRAL' 'I-BATTERY#NEUTRAL' 'I-BATTERY#NEUTRAL'\n",
            " 'I-BATTERY#NEUTRAL' 'I-BATTERY#NEUTRAL' 'I-BATTERY#NEUTRAL'\n",
            " 'I-BATTERY#NEUTRAL' 'I-BATTERY#NEUTRAL' 'I-BATTERY#NEUTRAL' 'O' 'O' 'O'\n",
            " 'O' 'O' 'O' 'O' 'O' 'O' 'O' 'O' 'O' 'O' 'O']\n"
          ]
        },
        {
          "data": {
            "text/plain": [
              "array([ 0.,  0.,  7., 37.,  0.,  0.,  5., 35., 35., 35., 35., 35., 35.,\n",
              "       35., 35., 35., 35.,  0.,  0., 14., 44., 44., 44., 44., 44., 44.,\n",
              "       44., 44., 44., 44., 44., 44.,  0.,  0.,  0.,  0.,  0.,  0.,  0.,\n",
              "        0.,  0.,  0.,  0.,  0.,  0.,  0.,  0.,  0.,  0.,  0.,  0.,  0.,\n",
              "        0.,  0.,  0.,  0.,  0.,  0.,  0.,  0.,  0.,  0.,  0.,  0.,  0.,\n",
              "        0.,  0.,  0.,  0.,  0.,  0.,  0.,  0.,  0.,  0.,  0.,  0.,  0.,\n",
              "        0.,  0.,  0.,  0.,  0.,  0.,  0.,  0.,  0.,  0.,  0.,  0.,  0.,\n",
              "        0.,  0.,  0.,  0.,  0.,  0.,  0.,  0.,  0.,  0.,  0.,  0.,  0.,\n",
              "        0.,  0.,  0.,  0.,  0.,  0.,  0.,  0.,  0.,  0.,  0.,  0.,  0.,\n",
              "        0.,  0.,  0.,  0.,  0.,  0.,  0.,  0.,  0.,  0.,  0.,  0.,  0.,\n",
              "        0.,  0.,  0.,  0.,  0.,  0.,  0.,  0.,  0.,  0.,  0.,  0.,  0.,\n",
              "        0.,  0.,  0.,  0.,  0.,  0.,  0.,  0.,  0.,  0.,  0.,  0.,  0.,\n",
              "        0.,  0.,  0.,  0.,  0.,  0.,  0.,  0.,  0.,  0.,  0.,  0.,  0.,\n",
              "        0.,  0.,  0.,  0.,  0.,  0.,  0.,  0.,  0.,  0.,  0.,  0.,  0.,\n",
              "        0.,  0.,  0.,  0.,  0.,  0.,  0.,  0.,  0.,  0.,  0.,  0.,  0.,\n",
              "        0.,  0.,  0.,  0.,  0.,  0.,  0.,  0.,  0.,  0.,  0.,  0.,  0.,\n",
              "        0.,  0.,  0.,  0.,  0.,  0.,  0.,  0.,  0.,  0.,  0.,  0.,  0.,\n",
              "        0.,  0.,  0.,  0.,  0.,  0.,  0.,  0.,  0.,  0.,  0.,  0.,  0.,\n",
              "        0.,  0.,  0.,  0.,  0.,  0.,  0.,  0.,  0.,  0.,  0.,  0.,  0.,\n",
              "        0.,  0.,  0.,  0.,  0.,  0.,  0.,  0.,  0.])"
            ]
          },
          "execution_count": 25,
          "metadata": {},
          "output_type": "execute_result"
        }
      ],
      "source": [
        "q = 6\n",
        "print(X_train[q],y_train[q])\n",
        "te = align_label.tokenize_and_alignlabel(X_train[q],y_train[q],tag2idx,tokenizer)\n",
        "te"
      ]
    },
    {
      "cell_type": "code",
      "execution_count": null,
      "metadata": {
        "colab": {
          "base_uri": "https://localhost:8080/"
        },
        "id": "BDK9gN1jxyQs",
        "outputId": "97b27b48-c339-4407-9ccb-c8d18585adc3"
      },
      "outputs": [
        {
          "data": {
            "text/plain": [
              "('ok máy đẹp , hiệu năng ăn đứt mấy con 835 android . có điều sạc pin k nhanh, bù lại pin cũng lâu . 2019 mua 7p sài tới 2021 đổi lên xs max là hợp lý',\n",
              " array(['O', 'B-DESIGN#POSITIVE', 'I-DESIGN#POSITIVE', 'O',\n",
              "        'B-PERFORMANCE#POSITIVE', 'I-PERFORMANCE#POSITIVE',\n",
              "        'I-PERFORMANCE#POSITIVE', 'I-PERFORMANCE#POSITIVE',\n",
              "        'I-PERFORMANCE#POSITIVE', 'I-PERFORMANCE#POSITIVE',\n",
              "        'I-PERFORMANCE#POSITIVE', 'I-PERFORMANCE#POSITIVE', 'O',\n",
              "        'B-BATTERY#NEUTRAL', 'I-BATTERY#NEUTRAL', 'I-BATTERY#NEUTRAL',\n",
              "        'I-BATTERY#NEUTRAL', 'I-BATTERY#NEUTRAL', 'I-BATTERY#NEUTRAL',\n",
              "        'I-BATTERY#NEUTRAL', 'I-BATTERY#NEUTRAL', 'I-BATTERY#NEUTRAL',\n",
              "        'I-BATTERY#NEUTRAL', 'I-BATTERY#NEUTRAL', 'O', 'O', 'O', 'O', 'O',\n",
              "        'O', 'O', 'O', 'O', 'O', 'O', 'O', 'O', 'O'], dtype='<U22'))"
            ]
          },
          "execution_count": 26,
          "metadata": {},
          "output_type": "execute_result"
        }
      ],
      "source": [
        "X_train[q],y_train[q]"
      ]
    },
    {
      "cell_type": "code",
      "execution_count": null,
      "metadata": {
        "colab": {
          "base_uri": "https://localhost:8080/"
        },
        "id": "NdCw4gP6qDpT",
        "outputId": "f523154c-9dc2-4c0e-b939-cd1b58d901cf"
      },
      "outputs": [
        {
          "name": "stdout",
          "output_type": "stream",
          "text": [
            "<s> => O\n",
            "▁ok => O\n",
            "▁máy => B-DESIGN#POSITIVE\n",
            "▁đẹp => I-DESIGN#POSITIVE\n",
            "▁ => O\n",
            ", => O\n",
            "▁hiệu => B-PERFORMANCE#POSITIVE\n",
            "▁năng => I-PERFORMANCE#POSITIVE\n",
            "▁ăn => I-PERFORMANCE#POSITIVE\n",
            "▁đ => I-PERFORMANCE#POSITIVE\n",
            "ứ => I-PERFORMANCE#POSITIVE\n",
            "t => I-PERFORMANCE#POSITIVE\n",
            "▁mấy => I-PERFORMANCE#POSITIVE\n",
            "▁con => I-PERFORMANCE#POSITIVE\n",
            "▁ => I-PERFORMANCE#POSITIVE\n",
            "835 => I-PERFORMANCE#POSITIVE\n",
            "▁android => I-PERFORMANCE#POSITIVE\n",
            "▁ => O\n",
            ". => O\n",
            "▁có => B-BATTERY#NEUTRAL\n",
            "▁điều => I-BATTERY#NEUTRAL\n",
            "▁s => I-BATTERY#NEUTRAL\n",
            "ạc => I-BATTERY#NEUTRAL\n",
            "▁pin => I-BATTERY#NEUTRAL\n",
            "▁k => I-BATTERY#NEUTRAL\n",
            "▁nhanh => I-BATTERY#NEUTRAL\n",
            ", => I-BATTERY#NEUTRAL\n",
            "▁bù => I-BATTERY#NEUTRAL\n",
            "▁lại => I-BATTERY#NEUTRAL\n",
            "▁pin => I-BATTERY#NEUTRAL\n",
            "▁cũng => I-BATTERY#NEUTRAL\n",
            "▁lâu => I-BATTERY#NEUTRAL\n",
            "▁ => O\n",
            ". => O\n",
            "▁2019 => O\n",
            "▁mua => O\n",
            "▁7 => O\n",
            "p => O\n",
            "▁s => O\n",
            "à => O\n",
            "i => O\n",
            "▁tới => O\n",
            "▁2021 => O\n",
            "▁đổi => O\n",
            "▁lên => O\n",
            "▁x => O\n",
            "s => O\n",
            "▁max => O\n",
            "▁là => O\n",
            "▁hợp => O\n",
            "▁lý => O\n",
            "</s> => O\n"
          ]
        }
      ],
      "source": [
        "for k,v in zip(tokenizer.convert_ids_to_tokens(tokenizer(X_train[q])['input_ids']),te):\n",
        "  print(k,\"=>\",idx2tag[v])"
      ]
    },
    {
      "attachments": {},
      "cell_type": "markdown",
      "metadata": {
        "id": "yNh8-I6GCcFq"
      },
      "source": [
        "## CONVERT TO PRETRAIN FORMAT"
      ]
    },
    {
      "cell_type": "code",
      "execution_count": null,
      "metadata": {
        "id": "mjwCYm-1M765"
      },
      "outputs": [],
      "source": [
        "def toPretrainFormat(x, y, tokenizer, batch_size,is_shuffle = False):\n",
        "  tag2idx, idx2tag = getTag2idx()\n",
        "  features = {k:[] for k in tokenizer.model_input_names}\n",
        "\n",
        "  for i in range(len(x)):\n",
        "\n",
        "    token = tokenizer(x[i],add_special_tokens = True,padding = 'max_length',max_length = MAX_LEN,truncation=True)\n",
        "    for name in tokenizer.model_input_names:\n",
        "      temp = np.asarray(token[name]).astype('float')\n",
        "      features[name].append(temp)\n",
        "\n",
        "  for k,v in features.items():\n",
        "    features[k] = np.asarray(features[k])\n",
        "\n",
        "  y_new = np.zeros((len(y),MAX_LEN)) # [CLS] token\n",
        "  for i in range(len(y)):\n",
        "      y_new[i] = AlignLabel().tokenize_and_alignlabel(x[i],y[i],tag2idx,tokenizer)\n",
        "\n",
        "  y_new = [to_categorical(y_new[i],num_classes = len(tag2idx)) for i in range(len(y_new))]\n",
        "\n",
        "  dataset = Dataset.from_tensor_slices((features, y_new))\n",
        "  if is_shuffle:\n",
        "    dataset = dataset.shuffle(buffer_size = len(y_new))\n",
        "  dataset = dataset.batch(batch_size).cache().prefetch(buffer_size=tf.data.AUTOTUNE)\n",
        "\n",
        "  return dataset\n"
      ]
    },
    {
      "cell_type": "code",
      "execution_count": null,
      "metadata": {
        "id": "xKVo_X9JlHOK"
      },
      "outputs": [],
      "source": [
        "trainning = toPretrainFormat(X_train,y_train,tokenizer,BATCH_SIZE,is_shuffle = True)\n",
        "trainning_dev = toPretrainFormat(X_dev,y_dev,tokenizer,BATCH_SIZE,)\n"
      ]
    },
    {
      "cell_type": "code",
      "execution_count": null,
      "metadata": {
        "colab": {
          "base_uri": "https://localhost:8080/"
        },
        "id": "DdFBAyeG8kj7",
        "outputId": "cdf105d4-bfd3-4b2a-c418-4cc436db4cf3"
      },
      "outputs": [
        {
          "name": "stdout",
          "output_type": "stream",
          "text": [
            "['<s>', '▁đúng', '▁như', '▁bạn', '▁mùa', '▁tru', '▁nói', '▁khi', '▁xem', '▁phim', '▁hay', '▁đọc', '▁báo', '▁vu', 'ốt', '▁màn', '▁hình', '▁nó', '▁cứ', '▁giật', '▁giật', '▁nh', 'ức', '▁cả', '▁mắt', '▁biết', '▁vậy', '▁mua', '▁vivo', '▁y', '91', 'c', '▁có', '▁2,3', '90', 'k', '▁mà', '▁nhiều', '▁người', '▁dùng', '▁nói', '▁m', 'ượt', '▁mà', '▁lắm', '</s>', '<pad>', '<pad>', '<pad>', '<pad>', '<pad>', '<pad>', '<pad>', '<pad>', '<pad>', '<pad>', '<pad>', '<pad>', '<pad>', '<pad>', '<pad>', '<pad>', '<pad>', '<pad>', '<pad>', '<pad>', '<pad>', '<pad>', '<pad>', '<pad>', '<pad>', '<pad>', '<pad>', '<pad>', '<pad>', '<pad>', '<pad>', '<pad>', '<pad>', '<pad>', '<pad>', '<pad>', '<pad>', '<pad>', '<pad>', '<pad>', '<pad>', '<pad>', '<pad>', '<pad>', '<pad>', '<pad>', '<pad>', '<pad>', '<pad>', '<pad>', '<pad>', '<pad>', '<pad>', '<pad>', '<pad>', '<pad>', '<pad>', '<pad>', '<pad>', '<pad>', '<pad>', '<pad>', '<pad>', '<pad>', '<pad>', '<pad>', '<pad>', '<pad>', '<pad>', '<pad>', '<pad>', '<pad>', '<pad>', '<pad>', '<pad>', '<pad>', '<pad>', '<pad>', '<pad>', '<pad>', '<pad>', '<pad>', '<pad>', '<pad>', '<pad>', '<pad>', '<pad>', '<pad>', '<pad>', '<pad>', '<pad>', '<pad>', '<pad>', '<pad>', '<pad>', '<pad>', '<pad>', '<pad>', '<pad>', '<pad>', '<pad>', '<pad>', '<pad>', '<pad>', '<pad>', '<pad>', '<pad>', '<pad>', '<pad>', '<pad>', '<pad>', '<pad>', '<pad>', '<pad>', '<pad>', '<pad>', '<pad>', '<pad>', '<pad>', '<pad>', '<pad>', '<pad>', '<pad>', '<pad>', '<pad>', '<pad>', '<pad>', '<pad>', '<pad>', '<pad>', '<pad>', '<pad>', '<pad>', '<pad>', '<pad>', '<pad>', '<pad>', '<pad>', '<pad>', '<pad>', '<pad>', '<pad>', '<pad>', '<pad>', '<pad>', '<pad>', '<pad>', '<pad>', '<pad>', '<pad>', '<pad>', '<pad>', '<pad>', '<pad>', '<pad>', '<pad>', '<pad>', '<pad>', '<pad>', '<pad>', '<pad>', '<pad>', '<pad>', '<pad>', '<pad>', '<pad>', '<pad>', '<pad>', '<pad>', '<pad>', '<pad>', '<pad>', '<pad>', '<pad>', '<pad>', '<pad>', '<pad>', '<pad>', '<pad>', '<pad>', '<pad>', '<pad>', '<pad>', '<pad>', '<pad>', '<pad>', '<pad>', '<pad>', '<pad>', '<pad>', '<pad>', '<pad>', '<pad>', '<pad>', '<pad>', '<pad>', '<pad>', '<pad>', '<pad>', '<pad>', '<pad>', '<pad>', '<pad>', '<pad>', '<pad>', '<pad>', '<pad>', '<pad>', '<pad>', '<pad>']\n",
            "({'input_ids': <tf.Tensor: shape=(8, 256), dtype=float64, numpy=\n",
            "array([[0.0000e+00, 3.6330e+03, 7.4490e+03, ..., 1.0000e+00, 1.0000e+00,\n",
            "        1.0000e+00],\n",
            "       [0.0000e+00, 1.9430e+03, 1.0731e+05, ..., 1.0000e+00, 1.0000e+00,\n",
            "        1.0000e+00],\n",
            "       [0.0000e+00, 6.8673e+04, 6.5260e+03, ..., 1.0000e+00, 1.0000e+00,\n",
            "        1.0000e+00],\n",
            "       ...,\n",
            "       [0.0000e+00, 5.0340e+03, 2.7860e+03, ..., 1.0000e+00, 1.0000e+00,\n",
            "        1.0000e+00],\n",
            "       [0.0000e+00, 9.1000e+01, 1.2980e+03, ..., 1.0000e+00, 1.0000e+00,\n",
            "        1.0000e+00],\n",
            "       [0.0000e+00, 6.5260e+03, 6.7180e+03, ..., 1.0000e+00, 1.0000e+00,\n",
            "        1.0000e+00]])>, 'attention_mask': <tf.Tensor: shape=(8, 256), dtype=float64, numpy=\n",
            "array([[1., 1., 1., ..., 0., 0., 0.],\n",
            "       [1., 1., 1., ..., 0., 0., 0.],\n",
            "       [1., 1., 1., ..., 0., 0., 0.],\n",
            "       ...,\n",
            "       [1., 1., 1., ..., 0., 0., 0.],\n",
            "       [1., 1., 1., ..., 0., 0., 0.],\n",
            "       [1., 1., 1., ..., 0., 0., 0.]])>}, <tf.Tensor: shape=(8, 256, 61), dtype=float32, numpy=\n",
            "array([[[1., 0., 0., ..., 0., 0., 0.],\n",
            "        [1., 0., 0., ..., 0., 0., 0.],\n",
            "        [1., 0., 0., ..., 0., 0., 0.],\n",
            "        ...,\n",
            "        [1., 0., 0., ..., 0., 0., 0.],\n",
            "        [1., 0., 0., ..., 0., 0., 0.],\n",
            "        [1., 0., 0., ..., 0., 0., 0.]],\n",
            "\n",
            "       [[1., 0., 0., ..., 0., 0., 0.],\n",
            "        [1., 0., 0., ..., 0., 0., 0.],\n",
            "        [1., 0., 0., ..., 0., 0., 0.],\n",
            "        ...,\n",
            "        [1., 0., 0., ..., 0., 0., 0.],\n",
            "        [1., 0., 0., ..., 0., 0., 0.],\n",
            "        [1., 0., 0., ..., 0., 0., 0.]],\n",
            "\n",
            "       [[1., 0., 0., ..., 0., 0., 0.],\n",
            "        [1., 0., 0., ..., 0., 0., 0.],\n",
            "        [1., 0., 0., ..., 0., 0., 0.],\n",
            "        ...,\n",
            "        [1., 0., 0., ..., 0., 0., 0.],\n",
            "        [1., 0., 0., ..., 0., 0., 0.],\n",
            "        [1., 0., 0., ..., 0., 0., 0.]],\n",
            "\n",
            "       ...,\n",
            "\n",
            "       [[1., 0., 0., ..., 0., 0., 0.],\n",
            "        [1., 0., 0., ..., 0., 0., 0.],\n",
            "        [1., 0., 0., ..., 0., 0., 0.],\n",
            "        ...,\n",
            "        [1., 0., 0., ..., 0., 0., 0.],\n",
            "        [1., 0., 0., ..., 0., 0., 0.],\n",
            "        [1., 0., 0., ..., 0., 0., 0.]],\n",
            "\n",
            "       [[1., 0., 0., ..., 0., 0., 0.],\n",
            "        [1., 0., 0., ..., 0., 0., 0.],\n",
            "        [1., 0., 0., ..., 0., 0., 0.],\n",
            "        ...,\n",
            "        [1., 0., 0., ..., 0., 0., 0.],\n",
            "        [1., 0., 0., ..., 0., 0., 0.],\n",
            "        [1., 0., 0., ..., 0., 0., 0.]],\n",
            "\n",
            "       [[1., 0., 0., ..., 0., 0., 0.],\n",
            "        [1., 0., 0., ..., 0., 0., 0.],\n",
            "        [1., 0., 0., ..., 0., 0., 0.],\n",
            "        ...,\n",
            "        [1., 0., 0., ..., 0., 0., 0.],\n",
            "        [1., 0., 0., ..., 0., 0., 0.],\n",
            "        [1., 0., 0., ..., 0., 0., 0.]]], dtype=float32)>)\n"
          ]
        }
      ],
      "source": [
        "for i in trainning.take(1):\n",
        "  print(tokenizer.convert_ids_to_tokens(i[0]['input_ids'][3]))\n",
        "  print(i)"
      ]
    },
    {
      "attachments": {},
      "cell_type": "markdown",
      "metadata": {
        "id": "x7gR7elx6uq8"
      },
      "source": [
        "## MODEL"
      ]
    },
    {
      "cell_type": "code",
      "execution_count": null,
      "metadata": {
        "colab": {
          "base_uri": "https://localhost:8080/"
        },
        "id": "v7Mswjlp822u",
        "outputId": "a5fb66b2-47d1-42ca-eeeb-72e300b5f71d"
      },
      "outputs": [
        {
          "name": "stdout",
          "output_type": "stream",
          "text": [
            "Looking in indexes: https://pypi.org/simple, https://us-python.pkg.dev/colab-wheels/public/simple/\n",
            "Collecting tensorflow-addons\n",
            "  Downloading tensorflow_addons-0.20.0-cp310-cp310-manylinux_2_17_x86_64.manylinux2014_x86_64.whl (591 kB)\n",
            "\u001b[2K     \u001b[90m━━━━━━━━━━━━━━━━━━━━━━━━━━━━━━━━━━━━━━\u001b[0m \u001b[32m591.0/591.0 kB\u001b[0m \u001b[31m26.4 MB/s\u001b[0m eta \u001b[36m0:00:00\u001b[0m\n",
            "\u001b[?25hRequirement already satisfied: packaging in /usr/local/lib/python3.10/dist-packages (from tensorflow-addons) (23.1)\n",
            "Collecting typeguard<3.0.0,>=2.7 (from tensorflow-addons)\n",
            "  Downloading typeguard-2.13.3-py3-none-any.whl (17 kB)\n",
            "Installing collected packages: typeguard, tensorflow-addons\n",
            "Successfully installed tensorflow-addons-0.20.0 typeguard-2.13.3\n"
          ]
        }
      ],
      "source": [
        "!pip install tensorflow-addons"
      ]
    },
    {
      "cell_type": "code",
      "execution_count": null,
      "metadata": {
        "colab": {
          "base_uri": "https://localhost:8080/"
        },
        "id": "EuJ4RvgH85b9",
        "outputId": "7084408c-5d2f-42bc-de60-166fd437ab77"
      },
      "outputs": [
        {
          "name": "stderr",
          "output_type": "stream",
          "text": [
            "/usr/local/lib/python3.10/dist-packages/tensorflow_addons/utils/tfa_eol_msg.py:23: UserWarning: \n",
            "\n",
            "TensorFlow Addons (TFA) has ended development and introduction of new features.\n",
            "TFA has entered a minimal maintenance and release mode until a planned end of life in May 2024.\n",
            "Please modify downstream libraries to take dependencies from other repositories in our TensorFlow community (e.g. Keras, Keras-CV, and Keras-NLP). \n",
            "\n",
            "For more information see: https://github.com/tensorflow/addons/issues/2807 \n",
            "\n",
            "  warnings.warn(\n"
          ]
        }
      ],
      "source": [
        "import tensorflow as tf\n",
        "import tensorflow.keras.backend as K\n",
        "import tensorflow.keras.layers as L\n",
        "from tensorflow_addons.text import crf_log_likelihood, crf_decode\n",
        "\n",
        "\n",
        "class CRF(L.Layer):\n",
        "    def __init__(self,\n",
        "                 output_dim,\n",
        "                 sparse_target=True,\n",
        "                 **kwargs):\n",
        "        \"\"\"\n",
        "        Args:\n",
        "            output_dim (int): the number of labels to tag each temporal input.\n",
        "            sparse_target (bool): whether the the ground-truth label represented in one-hot.\n",
        "        Input shape:\n",
        "            (batch_size, sentence length, output_dim)\n",
        "        Output shape:\n",
        "            (batch_size, sentence length, output_dim)\n",
        "        \"\"\"\n",
        "        super(CRF, self).__init__(**kwargs)\n",
        "        self.output_dim = int(output_dim)\n",
        "        self.sparse_target = sparse_target\n",
        "        self.input_spec = L.InputSpec(min_ndim=3)\n",
        "        self.supports_masking = False\n",
        "        self.sequence_lengths = None\n",
        "        self.transitions = None\n",
        "\n",
        "    def build(self, input_shape):\n",
        "        assert len(input_shape) == 3\n",
        "        f_shape = tf.TensorShape(input_shape)\n",
        "        input_spec = L.InputSpec(min_ndim=3, axes={-1: f_shape[-1]})\n",
        "\n",
        "        if f_shape[-1] is None:\n",
        "            raise ValueError('The last dimension of the inputs to `CRF` '\n",
        "                             'should be defined. Found `None`.')\n",
        "        if f_shape[-1] != self.output_dim:\n",
        "            raise ValueError('The last dimension of the input shape must be equal to output'\n",
        "                             ' shape. Use a linear layer if needed.')\n",
        "        self.input_spec = input_spec\n",
        "        self.transitions = self.add_weight(name='transitions',\n",
        "                                           shape=[self.output_dim, self.output_dim],\n",
        "                                           initializer='glorot_uniform',\n",
        "                                           trainable=True)\n",
        "        self.built = True\n",
        "\n",
        "    def compute_mask(self, inputs, mask=None):\n",
        "        # Just pass the received mask from previous layer, to the next layer or\n",
        "        # manipulate it if this layer changes the shape of the input\n",
        "        return mask\n",
        "\n",
        "    def call(self, inputs, sequence_lengths=None, training=None, **kwargs):\n",
        "        sequences = tf.convert_to_tensor(inputs, dtype=self.dtype)\n",
        "        if sequence_lengths is not None:\n",
        "            assert len(sequence_lengths.shape) == 2\n",
        "            assert tf.convert_to_tensor(sequence_lengths).dtype == 'int32'\n",
        "            seq_len_shape = tf.convert_to_tensor(sequence_lengths).get_shape().as_list()\n",
        "            assert seq_len_shape[1] == 1\n",
        "            self.sequence_lengths = K.flatten(sequence_lengths)\n",
        "        else:\n",
        "            self.sequence_lengths = tf.ones(tf.shape(inputs)[0], dtype=tf.int32) * (\n",
        "                tf.shape(inputs)[1]\n",
        "            )\n",
        "\n",
        "        viterbi_sequence, _ = crf_decode(sequences,\n",
        "                                         self.transitions,\n",
        "                                         self.sequence_lengths)\n",
        "        output = K.one_hot(viterbi_sequence, self.output_dim)\n",
        "        return K.in_train_phase(sequences, output)\n",
        "\n",
        "    @property\n",
        "    def loss(self):\n",
        "        def crf_loss(y_true, y_pred):\n",
        "            y_pred = tf.convert_to_tensor(y_pred, dtype=self.dtype)\n",
        "            log_likelihood, self.transitions = crf_log_likelihood(\n",
        "                y_pred,\n",
        "                tf.cast(K.argmax(y_true), dtype=tf.int32) if self.sparse_target else y_true,\n",
        "                self.sequence_lengths,\n",
        "                transition_params=self.transitions,\n",
        "            )\n",
        "            return tf.reduce_mean(-log_likelihood)\n",
        "        return crf_loss\n",
        "\n",
        "    @property\n",
        "    def accuracy(self):\n",
        "        def viterbi_accuracy(y_true, y_pred):\n",
        "            # -1e10 to avoid zero at sum(mask)\n",
        "            mask = K.cast(\n",
        "                K.all(K.greater(y_pred, -1e10), axis=2), K.floatx())\n",
        "            shape = tf.shape(y_pred)\n",
        "            sequence_lengths = tf.ones(shape[0], dtype=tf.int32) * (shape[1])\n",
        "            y_pred, _ = crf_decode(y_pred, self.transitions, sequence_lengths)\n",
        "            if self.sparse_target:\n",
        "                y_true = K.argmax(y_true, 2)\n",
        "            y_pred = K.cast(y_pred, 'int32')\n",
        "            y_true = K.cast(y_true, 'int32')\n",
        "            corrects = K.cast(K.equal(y_true, y_pred), K.floatx())\n",
        "            return K.sum(corrects * mask) / K.sum(mask)\n",
        "        return viterbi_accuracy\n",
        "\n",
        "    def compute_output_shape(self, input_shape):\n",
        "        tf.TensorShape(input_shape).assert_has_rank(3)\n",
        "        return input_shape[:2] + (self.output_dim,)\n",
        "\n",
        "    def get_config(self):\n",
        "        config = {\n",
        "            'output_dim': self.output_dim,\n",
        "            'sparse_target': self.sparse_target,\n",
        "            'supports_masking': self.supports_masking,\n",
        "            'transitions': K.eval(self.transitions)\n",
        "        }\n",
        "        base_config = super(CRF, self).get_config()\n",
        "        return dict(base_config, **config)\n"
      ]
    },
    {
      "cell_type": "code",
      "execution_count": null,
      "metadata": {
        "id": "CgUs2MUlLuGe"
      },
      "outputs": [],
      "source": [
        "import transformers\n",
        "from tensorflow.keras.layers import Input, Dropout, Dense,concatenate,Bidirectional,LSTM,TimeDistributed,Lambda\n",
        "from tensorflow.keras.models import Model\n"
      ]
    },
    {
      "cell_type": "code",
      "execution_count": null,
      "metadata": {
        "colab": {
          "base_uri": "https://localhost:8080/"
        },
        "id": "o32tXwyk4JnJ",
        "outputId": "e2bad98b-e53b-4760-e013-ef6e50b29d3d"
      },
      "outputs": [
        {
          "name": "stderr",
          "output_type": "stream",
          "text": [
            "Some weights of the PyTorch model were not used when initializing the TF 2.0 model TFRobertaForTokenClassification: ['roberta.embeddings.position_ids']\n",
            "- This IS expected if you are initializing TFRobertaForTokenClassification from a PyTorch model trained on another task or with another architecture (e.g. initializing a TFBertForSequenceClassification model from a BertForPreTraining model).\n",
            "- This IS NOT expected if you are initializing TFRobertaForTokenClassification from a PyTorch model that you expect to be exactly identical (e.g. initializing a TFBertForSequenceClassification model from a BertForSequenceClassification model).\n",
            "Some weights or buffers of the TF 2.0 model TFRobertaForTokenClassification were not initialized from the PyTorch model and are newly initialized: ['classifier.weight', 'classifier.bias']\n",
            "You should probably TRAIN this model on a down-stream task to be able to use it for predictions and inference.\n"
          ]
        }
      ],
      "source": [
        "inputs = {\n",
        "    \"input_ids\" : Input(shape = (MAX_LEN),dtype = 'int32', name = 'input_ids'),\n",
        "    # \"token_type_ids\": Input(shape = (MAX_LEN),dtype = 'int32', name = 'token_type_ids'),\n",
        "    \"attention_mask\": Input(shape = (MAX_LEN),dtype = 'int32', name = 'attention_mask')\n",
        "}\n",
        "\n",
        "model = transformers.TFAutoModelForTokenClassification.from_pretrained(PRETRAINED_MODEL,output_hidden_states=True,from_pt=True)\n",
        "features = model(inputs)[-1]\n",
        "\n",
        "concat = tf.concat(features[-2:],2)\n",
        "dropout = Dropout(0.1) (concat)\n",
        "bi_lstm = Bidirectional(LSTM(768*2,return_sequences=True),merge_mode='concat') (dropout)\n",
        "\n",
        "output = TimeDistributed(Dense(len(tag2idx),activation = 'relu')) (bi_lstm)\n",
        "\n",
        "crf = CRF(len(tag2idx))\n",
        "output = crf(output)\n",
        "model = Model(inputs = inputs,outputs = output)\n"
      ]
    },
    {
      "cell_type": "code",
      "execution_count": null,
      "metadata": {
        "colab": {
          "base_uri": "https://localhost:8080/"
        },
        "id": "_yBomzLpo_jT",
        "outputId": "54562db7-3547-4ec8-d9f7-8936b0763060"
      },
      "outputs": [
        {
          "name": "stderr",
          "output_type": "stream",
          "text": [
            "All PyTorch model weights were used when initializing TFXLMRobertaForTokenClassification.\n",
            "\n",
            "Some weights or buffers of the TF 2.0 model TFXLMRobertaForTokenClassification were not initialized from the PyTorch model and are newly initialized: ['classifier.weight', 'classifier.bias']\n",
            "You should probably TRAIN this model on a down-stream task to be able to use it for predictions and inference.\n"
          ]
        },
        {
          "name": "stdout",
          "output_type": "stream",
          "text": [
            "Model: \"model\"\n",
            "__________________________________________________________________________________________________\n",
            " Layer (type)                   Output Shape         Param #     Connected to                     \n",
            "==================================================================================================\n",
            " attention_mask (InputLayer)    [(None, 256)]        0           []                               \n",
            "                                                                                                  \n",
            " input_ids (InputLayer)         [(None, 256)]        0           []                               \n",
            "                                                                                                  \n",
            " tfxlm_roberta_for_token_classi  TFTokenClassifierOu  277454594  ['attention_mask[0][0]',         \n",
            " fication_2 (TFXLMRobertaForTok  tput(loss=None, log              'input_ids[0][0]']              \n",
            " enClassification)              its=(None, 256, 2),                                               \n",
            "                                 hidden_states=((No                                               \n",
            "                                ne, 256, 768),                                                    \n",
            "                                 (None, 256, 768),                                                \n",
            "                                 (None, 256, 768),                                                \n",
            "                                 (None, 256, 768),                                                \n",
            "                                 (None, 256, 768),                                                \n",
            "                                 (None, 256, 768),                                                \n",
            "                                 (None, 256, 768),                                                \n",
            "                                 (None, 256, 768),                                                \n",
            "                                 (None, 256, 768),                                                \n",
            "                                 (None, 256, 768),                                                \n",
            "                                 (None, 256, 768),                                                \n",
            "                                 (None, 256, 768),                                                \n",
            "                                 (None, 256, 768)),                                               \n",
            "                                 attentions=None)                                                 \n",
            "                                                                                                  \n",
            " tf.concat_2 (TFOpLambda)       (None, 256, 1536)    0           ['tfxlm_roberta_for_token_classif\n",
            "                                                                 ication_2[0][11]',               \n",
            "                                                                  'tfxlm_roberta_for_token_classif\n",
            "                                                                 ication_2[0][12]']               \n",
            "                                                                                                  \n",
            " dropout_116 (Dropout)          (None, 256, 1536)    0           ['tf.concat_2[0][0]']            \n",
            "                                                                                                  \n",
            " bidirectional_2 (Bidirectional  (None, 256, 3072)   37761024    ['dropout_116[0][0]']            \n",
            " )                                                                                                \n",
            "                                                                                                  \n",
            " time_distributed (TimeDistribu  (None, 256, 61)     187453      ['bidirectional_2[0][0]']        \n",
            " ted)                                                                                             \n",
            "                                                                                                  \n",
            " crf (CRF)                      (None, 256, 61)      3721        ['time_distributed[0][0]']       \n",
            "                                                                                                  \n",
            "==================================================================================================\n",
            "Total params: 315,406,792\n",
            "Trainable params: 315,406,792\n",
            "Non-trainable params: 0\n",
            "__________________________________________________________________________________________________\n"
          ]
        }
      ],
      "source": [
        "# model = pretrained_model(PRETRAINED_MODEL)\n",
        "# model.summary()"
      ]
    },
    {
      "cell_type": "code",
      "execution_count": null,
      "metadata": {
        "id": "ZsJZzcf_eJ5H"
      },
      "outputs": [],
      "source": [
        "model.compile(optimizer = tf.keras.optimizers.Adam(learning_rate=1e-5),loss = crf.loss,metrics = crf.accuracy)\n",
        "num_train_epochs = 50\n"
      ]
    },
    {
      "cell_type": "code",
      "execution_count": null,
      "metadata": {
        "id": "uzaIHjQWf5ef"
      },
      "outputs": [],
      "source": [
        "from tensorflow.keras.callbacks import EarlyStopping\n",
        "\n",
        "early_stop = EarlyStopping(\n",
        "    monitor = 'viterbi_accuracy',\n",
        "    patience = 3,\n",
        "    restore_best_weights = True\n",
        "    )"
      ]
    },
    {
      "cell_type": "code",
      "execution_count": null,
      "metadata": {
        "id": "tkL-vop5owKM"
      },
      "outputs": [],
      "source": [
        "model.load_weights(\"/content/drive/MyDrive/Nhóm - Tiến + Quý + Khanh + Văn/IE403 - Khai thác dữ liệu truyền thông xã hội/Đồ án/weights/foor.h5\")"
      ]
    },
    {
      "cell_type": "code",
      "execution_count": null,
      "metadata": {
        "colab": {
          "base_uri": "https://localhost:8080/"
        },
        "id": "A6ebYjN-eWOq",
        "outputId": "676d09f8-adb2-423d-f017-26f8edef9d94"
      },
      "outputs": [
        {
          "name": "stdout",
          "output_type": "stream",
          "text": [
            "Epoch 1/4\n"
          ]
        },
        {
          "name": "stderr",
          "output_type": "stream",
          "text": [
            "WARNING:tensorflow:Gradients do not exist for variables ['tfxlm_roberta_for_token_classification/classifier/kernel:0', 'tfxlm_roberta_for_token_classification/classifier/bias:0'] when minimizing the loss. If you're using `model.compile()`, did you forget to provide a `loss` argument?\n",
            "WARNING:tensorflow:Gradients do not exist for variables ['tfxlm_roberta_for_token_classification/classifier/kernel:0', 'tfxlm_roberta_for_token_classification/classifier/bias:0'] when minimizing the loss. If you're using `model.compile()`, did you forget to provide a `loss` argument?\n",
            "WARNING:tensorflow:Gradients do not exist for variables ['tfxlm_roberta_for_token_classification/classifier/kernel:0', 'tfxlm_roberta_for_token_classification/classifier/bias:0'] when minimizing the loss. If you're using `model.compile()`, did you forget to provide a `loss` argument?\n",
            "WARNING:tensorflow:Gradients do not exist for variables ['tfxlm_roberta_for_token_classification/classifier/kernel:0', 'tfxlm_roberta_for_token_classification/classifier/bias:0'] when minimizing the loss. If you're using `model.compile()`, did you forget to provide a `loss` argument?\n"
          ]
        },
        {
          "name": "stdout",
          "output_type": "stream",
          "text": [
            "682/682 [==============================] - 1331s 2s/step - loss: 29.0294 - viterbi_accuracy: 0.9701 - val_loss: 783.6747 - val_viterbi_accuracy: 0.9604\n",
            "Epoch 2/4\n",
            "682/682 [==============================] - 1212s 2s/step - loss: 24.7705 - viterbi_accuracy: 0.9747 - val_loss: 781.6897 - val_viterbi_accuracy: 0.9609\n",
            "Epoch 3/4\n",
            "682/682 [==============================] - 1212s 2s/step - loss: 21.6078 - viterbi_accuracy: 0.9775 - val_loss: 779.9212 - val_viterbi_accuracy: 0.9610\n",
            "Epoch 4/4\n",
            "682/682 [==============================] - 1265s 2s/step - loss: 17.9270 - viterbi_accuracy: 0.9810 - val_loss: 778.1384 - val_viterbi_accuracy: 0.9622\n"
          ]
        },
        {
          "data": {
            "text/plain": [
              "<keras.callbacks.History at 0x7f4bc28ba080>"
            ]
          },
          "execution_count": 41,
          "metadata": {},
          "output_type": "execute_result"
        }
      ],
      "source": [
        "model.fit(\n",
        "    trainning,\n",
        "    validation_data = trainning_dev,\n",
        "    epochs = 4,\n",
        "    callbacks = early_stop,\n",
        "    verbose = 1\n",
        ")"
      ]
    },
    {
      "attachments": {},
      "cell_type": "markdown",
      "metadata": {
        "id": "SCWUANCKQoJw"
      },
      "source": [
        "# EVALUATION"
      ]
    },
    {
      "cell_type": "code",
      "execution_count": null,
      "metadata": {
        "colab": {
          "base_uri": "https://localhost:8080/"
        },
        "id": "cKoCoc4BTu3H",
        "outputId": "98ff28c7-7bf1-41c8-cbff-460531fb6af3"
      },
      "outputs": [
        {
          "name": "stderr",
          "output_type": "stream",
          "text": [
            "<ipython-input-12-ed114fe53922>:162: VisibleDeprecationWarning: Creating an ndarray from ragged nested sequences (which is a list-or-tuple of lists-or-tuples-or ndarrays with different lengths or shapes) is deprecated. If you meant to do this, you must specify 'dtype=object' when creating the ndarray.\n",
            "  Y = np.asarray(Y)\n"
          ]
        }
      ],
      "source": [
        "test_data = LoadData(\"/content/drive/MyDrive/dataset/test.jsonl\")\n",
        "X_test,y_test = test_data.load()\n",
        "X_test,y_test = AlignLabel().transform(X_test,y_test,rdrsegmenter,SEP)\n",
        "test_data = toPretrainFormat(X_test,y_test,tokenizer,BATCH_SIZE,)"
      ]
    },
    {
      "cell_type": "code",
      "execution_count": null,
      "metadata": {
        "colab": {
          "base_uri": "https://localhost:8080/"
        },
        "id": "d3buhehBE05E",
        "outputId": "14266232-1b91-40e3-afea-bd23e48ddd1f"
      },
      "outputs": [
        {
          "data": {
            "text/plain": [
              "array(['sp ổn , mỗi_tội vân tay lúc nhận lúc không , nhân_viên nhiệt_tình , pin trâu , cả đêm tụt 1',\n",
              "       'mua cho mẹ sài nên củng không đòi_hỏi gì nhiều , máy đẹp camera siêu ảo , thử chiến game củng ok , pin sài dc 2 ngày với luot wep xem fim , nhân_viên tgd an_minh kg phục_vụ qua nhiệt_tình cho 5 *',\n",
              "       'máy xài tốt , mượt , sạc rất nhanh , pin trâu , mình dùng tác_vụ bình_thường zalo , fb , youtube thì được 1 ngày rưỡi . camera thì đẹp ảo .',\n",
              "       'mình mới mua . mình thấy mẫu đẹp pin trâu cảm_ứng mượt được em nhân_viên đmx tư_vấn rất nhiệt_tình',\n",
              "       'máy sài rất êm mượt mà còn thắc_mắc iphone7 plus có chống nước ko bị rơi xuống_nước 1 lần rồi và ko sao cả'],\n",
              "      dtype='<U770')"
            ]
          },
          "execution_count": 23,
          "metadata": {},
          "output_type": "execute_result"
        }
      ],
      "source": [
        "X_test[:5]"
      ]
    },
    {
      "cell_type": "code",
      "execution_count": null,
      "metadata": {
        "colab": {
          "base_uri": "https://localhost:8080/"
        },
        "id": "tlvcKLcpSL9v",
        "outputId": "6dd8be0c-8762-48cd-aa05-57e52b59a58f"
      },
      "outputs": [
        {
          "data": {
            "text/plain": [
              "array([[0., 0., 0., ..., 0., 0., 0.],\n",
              "       [0., 0., 0., ..., 0., 0., 0.],\n",
              "       [0., 0., 0., ..., 0., 0., 0.],\n",
              "       ...,\n",
              "       [0., 0., 0., ..., 0., 0., 0.],\n",
              "       [0., 0., 0., ..., 0., 0., 0.],\n",
              "       [0., 0., 0., ..., 0., 0., 0.]])"
            ]
          },
          "execution_count": 24,
          "metadata": {},
          "output_type": "execute_result"
        }
      ],
      "source": [
        "y_temp = []\n",
        "for i in range(len(y_test)):\n",
        "  y_t = AlignLabel().tokenize_and_alignlabel(X_test[i],y_test[i],tag2idx,tokenizer)\n",
        "  y_temp.append(y_t)\n",
        "y_temp = np.asarray(y_temp)\n",
        "# y_temp = y_temp.reshape(1,-1)[0]\n",
        "y_temp"
      ]
    },
    {
      "cell_type": "code",
      "execution_count": null,
      "metadata": {
        "id": "8Pq6SYIHfh7I"
      },
      "outputs": [],
      "source": [
        "def pred2tag(y):\n",
        "  y = y.astype('object')\n",
        "  for row in range(y.shape[0]):\n",
        "    for col in range(y.shape[1]):\n",
        "      y[row][col] = idx2tag[y[row][col]]\n",
        "  return y"
      ]
    },
    {
      "cell_type": "code",
      "execution_count": null,
      "metadata": {
        "id": "6E0hm7TdfjuH"
      },
      "outputs": [],
      "source": [
        "true = pred2tag(y_temp)\n",
        "tag = np.array(tag2idx.keys())"
      ]
    },
    {
      "cell_type": "code",
      "execution_count": null,
      "metadata": {
        "colab": {
          "base_uri": "https://localhost:8080/"
        },
        "id": "ZnUYvlg0fokN",
        "outputId": "c13e7508-5544-4199-d3e8-b3abab2fa280"
      },
      "outputs": [
        {
          "name": "stdout",
          "output_type": "stream",
          "text": [
            "Looking in indexes: https://pypi.org/simple, https://us-python.pkg.dev/colab-wheels/public/simple/\n",
            "Collecting nervaluate\n",
            "  Downloading nervaluate-0.1.8-py3-none-any.whl (24 kB)\n",
            "Installing collected packages: nervaluate\n",
            "Successfully installed nervaluate-0.1.8\n"
          ]
        }
      ],
      "source": [
        "!pip install nervaluate"
      ]
    },
    {
      "cell_type": "code",
      "execution_count": null,
      "metadata": {
        "id": "Xh0A2wjVfs4o"
      },
      "outputs": [],
      "source": [
        "aspect = np.array([\"SCREEN\",\"CAMERA\",\"FEATURES\",\"BATTERY\",\"PERFORMANCE\",\"STORAGE\",\"DESIGN\",\"PRICE\",\"GENERAL\",\"SER&ACC\"])\n",
        "func_add_pola = lambda aspect,pola: [aspect[i] + \"#\" + pola for i in range(len(aspect))]\n",
        "\n",
        "aspect_pos = func_add_pola(aspect,\"POSITIVE\")\n",
        "aspect_neu = func_add_pola(aspect,\"NEUTRAL\")\n",
        "aspect_neg = func_add_pola(aspect,\"NEGATIVE\")\n",
        "\n",
        "tags = np.concatenate([aspect_pos,aspect_neu,aspect_neg])"
      ]
    },
    {
      "attachments": {},
      "cell_type": "markdown",
      "metadata": {
        "id": "9eOX188jfdKy"
      },
      "source": [
        "## XLM-RoBERTa"
      ]
    },
    {
      "cell_type": "code",
      "execution_count": null,
      "metadata": {
        "colab": {
          "base_uri": "https://localhost:8080/"
        },
        "id": "IiJRTmrgfgZg",
        "outputId": "23062dda-aae7-4d90-86a8-4fb38decd8e9"
      },
      "outputs": [
        {
          "name": "stderr",
          "output_type": "stream",
          "text": [
            "All PyTorch model weights were used when initializing TFXLMRobertaForTokenClassification.\n",
            "\n",
            "Some weights or buffers of the TF 2.0 model TFXLMRobertaForTokenClassification were not initialized from the PyTorch model and are newly initialized: ['classifier.weight', 'classifier.bias']\n",
            "You should probably TRAIN this model on a down-stream task to be able to use it for predictions and inference.\n"
          ]
        }
      ],
      "source": [
        "PRETRAINED_MODEL = \"xlm-roberta-base\"\n",
        "model = pretrained_model(PRETRAINED_MODEL)"
      ]
    },
    {
      "cell_type": "code",
      "execution_count": null,
      "metadata": {
        "colab": {
          "base_uri": "https://localhost:8080/"
        },
        "id": "Wh_lfRAfRfIl",
        "outputId": "4f207b5b-e273-405c-be5d-71c283b4e9ca"
      },
      "outputs": [
        {
          "name": "stdout",
          "output_type": "stream",
          "text": [
            "279/279 [==============================] - 174s 607ms/step\n"
          ]
        }
      ],
      "source": [
        "y_test_pred = np.argmax(model.predict(test_data,batch_size = BATCH_SIZE),axis=-1)\n",
        "# y_test_pred = y_test_pred.reshape((1,-1))[0]"
      ]
    },
    {
      "cell_type": "code",
      "execution_count": null,
      "metadata": {
        "id": "VrMQP1GtbWXx"
      },
      "outputs": [],
      "source": [
        "pred = pred2tag(y_test_pred)"
      ]
    },
    {
      "cell_type": "code",
      "execution_count": null,
      "metadata": {
        "id": "HAgir2rChzst"
      },
      "outputs": [],
      "source": [
        "aspect_true = true.copy()\n",
        "aspect_pred = pred.copy()\n",
        "\n",
        "for i in range(aspect_true.shape[0]):\n",
        "  aspect_true[i] = list(map(lambda x: x[:x.find(\"#\")] if len(x[:x.find(\"#\")]) >= 2 else \"0\",aspect_true[i]))\n",
        "\n",
        "for i in range(aspect_pred.shape[0]):\n",
        "  aspect_pred[i] = list(map(lambda x: x[:x.find(\"#\")] if len(x[:x.find(\"#\")]) >= 2 else \"0\",aspect_pred[i]))\n"
      ]
    },
    {
      "cell_type": "code",
      "execution_count": null,
      "metadata": {
        "id": "LByBUdCRZ9dW"
      },
      "outputs": [],
      "source": [
        "# https://github.com/MantisAI/nervaluate\n",
        "from nervaluate import Evaluator\n",
        "\n",
        "evaluator = Evaluator(true, pred, tags=tags, loader=\"list\")\n",
        "\n",
        "results, results_by_tag = evaluator.evaluate()\n"
      ]
    },
    {
      "cell_type": "code",
      "execution_count": null,
      "metadata": {
        "colab": {
          "base_uri": "https://localhost:8080/"
        },
        "id": "cDiuoyFDc0Vj",
        "outputId": "6ef15e28-0605-40c1-abbb-890bd5652fbb"
      },
      "outputs": [
        {
          "data": {
            "text/plain": [
              "{'ent_type': {'correct': 4501,\n",
              "  'incorrect': 916,\n",
              "  'partial': 0,\n",
              "  'missed': 422,\n",
              "  'spurious': 2119,\n",
              "  'possible': 5839,\n",
              "  'actual': 7536,\n",
              "  'precision': 0.5972664543524416,\n",
              "  'recall': 0.7708511731460866,\n",
              "  'f1': 0.6730467289719626},\n",
              " 'partial': {'correct': 3345,\n",
              "  'incorrect': 0,\n",
              "  'partial': 2072,\n",
              "  'missed': 422,\n",
              "  'spurious': 2119,\n",
              "  'possible': 5839,\n",
              "  'actual': 7536,\n",
              "  'precision': 0.5813428874734607,\n",
              "  'recall': 0.7502997088542559,\n",
              "  'f1': 0.6551028037383179},\n",
              " 'strict': {'correct': 3077,\n",
              "  'incorrect': 2340,\n",
              "  'partial': 0,\n",
              "  'missed': 422,\n",
              "  'spurious': 2119,\n",
              "  'possible': 5839,\n",
              "  'actual': 7536,\n",
              "  'precision': 0.4083067940552017,\n",
              "  'recall': 0.5269737968830279,\n",
              "  'f1': 0.46011214953271035},\n",
              " 'exact': {'correct': 3345,\n",
              "  'incorrect': 2072,\n",
              "  'partial': 0,\n",
              "  'missed': 422,\n",
              "  'spurious': 2119,\n",
              "  'possible': 5839,\n",
              "  'actual': 7536,\n",
              "  'precision': 0.44386942675159236,\n",
              "  'recall': 0.5728720671347833,\n",
              "  'f1': 0.5001869158878505}}"
            ]
          },
          "execution_count": 44,
          "metadata": {},
          "output_type": "execute_result"
        }
      ],
      "source": [
        "results"
      ]
    },
    {
      "attachments": {},
      "cell_type": "markdown",
      "metadata": {
        "id": "wXwPm02tf5uy"
      },
      "source": [
        "## PhoBERTv1"
      ]
    },
    {
      "cell_type": "code",
      "execution_count": null,
      "metadata": {
        "colab": {
          "base_uri": "https://localhost:8080/"
        },
        "id": "mQxWb-VygBr3",
        "outputId": "c60fe3fd-d41b-4c3a-9f5d-ede4b8a2e10f"
      },
      "outputs": [
        {
          "name": "stderr",
          "output_type": "stream",
          "text": [
            "All model checkpoint layers were used when initializing TFRobertaForTokenClassification.\n",
            "\n",
            "Some layers of TFRobertaForTokenClassification were not initialized from the model checkpoint at vinai/phobert-base and are newly initialized: ['classifier']\n",
            "You should probably TRAIN this model on a down-stream task to be able to use it for predictions and inference.\n"
          ]
        }
      ],
      "source": [
        "PRETRAINED_MODEL = \"vinai/phobert-base\"\n",
        "inputs = {\n",
        "    \"input_ids\" : Input(shape = (MAX_LEN),dtype = 'int32', name = 'input_ids'),\n",
        "    # \"token_type_ids\": Input(shape = (MAX_LEN),dtype = 'int32', name = 'token_type_ids'),\n",
        "    \"attention_mask\": Input(shape = (MAX_LEN),dtype = 'int32', name = 'attention_mask')\n",
        "}\n",
        "\n",
        "model = transformers.TFAutoModelForTokenClassification.from_pretrained(PRETRAINED_MODEL,output_hidden_states=True)\n",
        "features = model(inputs)[-1]\n",
        "\n",
        "concat = tf.concat(features[-2:],2)\n",
        "dropout = Dropout(0.1) (concat)\n",
        "bi_lstm = Bidirectional(LSTM(768*2,return_sequences=True),merge_mode='concat') (dropout)\n",
        "\n",
        "output = TimeDistributed(Dense(len(tag2idx),activation = 'relu')) (bi_lstm)\n",
        "\n",
        "crf = CRF(len(tag2idx))\n",
        "output = crf(output)\n",
        "model = Model(inputs = inputs,outputs = output)\n"
      ]
    },
    {
      "cell_type": "code",
      "execution_count": null,
      "metadata": {
        "colab": {
          "base_uri": "https://localhost:8080/"
        },
        "id": "tGMOe32nf_Mp",
        "outputId": "4ed03602-3da0-4686-886b-6bcecaff8c76"
      },
      "outputs": [
        {
          "name": "stderr",
          "output_type": "stream",
          "text": [
            "/usr/local/lib/python3.10/dist-packages/keras/engine/functional.py:639: UserWarning: Input dict contained keys ['token_type_ids'] which did not match any model input. They will be ignored by the model.\n",
            "  inputs = self._flatten_to_reference_inputs(inputs)\n"
          ]
        },
        {
          "name": "stdout",
          "output_type": "stream",
          "text": [
            "279/279 [==============================] - 161s 555ms/step\n"
          ]
        }
      ],
      "source": [
        "y_test_pred = np.argmax(model.predict(test_data,batch_size = BATCH_SIZE),axis=-1)\n",
        "# y_test_pred = y_test_pred.reshape((1,-1))[0]"
      ]
    },
    {
      "cell_type": "code",
      "execution_count": null,
      "metadata": {
        "id": "iX6SqXeef_Mv"
      },
      "outputs": [],
      "source": [
        "pred = pred2tag(y_test_pred)"
      ]
    },
    {
      "cell_type": "code",
      "execution_count": null,
      "metadata": {
        "id": "YBM8O4ENf_Mv"
      },
      "outputs": [],
      "source": [
        "aspect_true = true.copy()\n",
        "aspect_pred = pred.copy()\n",
        "\n",
        "for i in range(aspect_true.shape[0]):\n",
        "  aspect_true[i] = list(map(lambda x: x[:x.find(\"#\")] if len(x[:x.find(\"#\")]) >= 2 else \"0\",aspect_true[i]))\n",
        "\n",
        "for i in range(aspect_pred.shape[0]):\n",
        "  aspect_pred[i] = list(map(lambda x: x[:x.find(\"#\")] if len(x[:x.find(\"#\")]) >= 2 else \"0\",aspect_pred[i]))\n"
      ]
    },
    {
      "cell_type": "code",
      "execution_count": null,
      "metadata": {
        "id": "3bgHJ3sRf_Mw"
      },
      "outputs": [],
      "source": [
        "# https://github.com/MantisAI/nervaluate\n",
        "from nervaluate import Evaluator\n",
        "\n",
        "evaluator = Evaluator(true, pred, tags=tags, loader=\"list\")\n",
        "\n",
        "results, results_by_tag = evaluator.evaluate()\n"
      ]
    },
    {
      "cell_type": "code",
      "execution_count": null,
      "metadata": {
        "colab": {
          "base_uri": "https://localhost:8080/"
        },
        "id": "c2hUHaSLf_Mw",
        "outputId": "ec55b79c-3656-4ff1-fca4-343aec030423"
      },
      "outputs": [
        {
          "data": {
            "text/plain": [
              "{'ent_type': {'correct': 4443,\n",
              "  'incorrect': 1002,\n",
              "  'partial': 0,\n",
              "  'missed': 394,\n",
              "  'spurious': 2186,\n",
              "  'possible': 5839,\n",
              "  'actual': 7631,\n",
              "  'precision': 0.5822303760974971,\n",
              "  'recall': 0.7609179654050351,\n",
              "  'f1': 0.6596881959910913},\n",
              " 'partial': {'correct': 3398,\n",
              "  'incorrect': 0,\n",
              "  'partial': 2047,\n",
              "  'missed': 394,\n",
              "  'spurious': 2186,\n",
              "  'possible': 5839,\n",
              "  'actual': 7631,\n",
              "  'precision': 0.5794129209802122,\n",
              "  'recall': 0.7572358280527488,\n",
              "  'f1': 0.6564959168522643},\n",
              " 'strict': {'correct': 3155,\n",
              "  'incorrect': 2290,\n",
              "  'partial': 0,\n",
              "  'missed': 394,\n",
              "  'spurious': 2186,\n",
              "  'possible': 5839,\n",
              "  'actual': 7631,\n",
              "  'precision': 0.413445157908531,\n",
              "  'recall': 0.5403322486727179,\n",
              "  'f1': 0.4684484038604306},\n",
              " 'exact': {'correct': 3398,\n",
              "  'incorrect': 2047,\n",
              "  'partial': 0,\n",
              "  'missed': 394,\n",
              "  'spurious': 2186,\n",
              "  'possible': 5839,\n",
              "  'actual': 7631,\n",
              "  'precision': 0.4452889529550518,\n",
              "  'recall': 0.5819489638636753,\n",
              "  'f1': 0.50452858203415}}"
            ]
          },
          "execution_count": 122,
          "metadata": {},
          "output_type": "execute_result"
        }
      ],
      "source": [
        "results"
      ]
    },
    {
      "attachments": {},
      "cell_type": "markdown",
      "metadata": {
        "id": "2HNx9-CNgMUx"
      },
      "source": [
        "## PhoBERTv2"
      ]
    },
    {
      "cell_type": "code",
      "execution_count": null,
      "metadata": {
        "colab": {
          "base_uri": "https://localhost:8080/"
        },
        "id": "4bGHElMzgMUy",
        "outputId": "b831e7b5-ef78-4b00-c785-420f0d3489e6"
      },
      "outputs": [
        {
          "name": "stderr",
          "output_type": "stream",
          "text": [
            "/usr/local/lib/python3.10/dist-packages/keras/engine/functional.py:639: UserWarning: Input dict contained keys ['token_type_ids'] which did not match any model input. They will be ignored by the model.\n",
            "  inputs = self._flatten_to_reference_inputs(inputs)\n"
          ]
        },
        {
          "name": "stdout",
          "output_type": "stream",
          "text": [
            "279/279 [==============================] - 145s 501ms/step\n"
          ]
        }
      ],
      "source": [
        "y_test_pred = np.argmax(model.predict(test_data,batch_size = BATCH_SIZE),axis=-1)\n",
        "# y_test_pred = y_test_pred.reshape((1,-1))[0]"
      ]
    },
    {
      "cell_type": "code",
      "execution_count": null,
      "metadata": {
        "id": "h8gMuuJOgMUy"
      },
      "outputs": [],
      "source": [
        "pred = pred2tag(y_test_pred)"
      ]
    },
    {
      "cell_type": "code",
      "execution_count": null,
      "metadata": {
        "colab": {
          "base_uri": "https://localhost:8080/"
        },
        "id": "d4zjYAkR4sXZ",
        "outputId": "7c2b1ddb-abdc-49f7-ce28-692b999b2390"
      },
      "outputs": [
        {
          "data": {
            "text/plain": [
              "array([['O', 'O', 'O', ..., 'O', 'O', 'O'],\n",
              "       ['O', 'O', 'O', ..., 'O', 'O', 'O'],\n",
              "       ['O', 'O', 'O', ..., 'O', 'O', 'O'],\n",
              "       ...,\n",
              "       ['O', 'O', 'O', ..., 'O', 'O', 'O'],\n",
              "       ['O', 'O', 'O', ..., 'O', 'O', 'O'],\n",
              "       ['O', 'O', 'O', ..., 'O', 'O', 'O']], dtype=object)"
            ]
          },
          "execution_count": 43,
          "metadata": {},
          "output_type": "execute_result"
        }
      ],
      "source": [
        "pred"
      ]
    },
    {
      "cell_type": "code",
      "execution_count": null,
      "metadata": {
        "colab": {
          "base_uri": "https://localhost:8080/"
        },
        "id": "ZfWkMzQh4oV3",
        "outputId": "ead6d4d3-03dc-41e4-8cac-3cd9f4f40bdb"
      },
      "outputs": [
        {
          "name": "stdout",
          "output_type": "stream",
          "text": [
            "5 sản_phẩm qua tệ sai mấy lời liên_tục sắc không võ_cử sắc thì sắc không được . đem sắc mấy khác thì lại vô bin.còn đem về đung mài sắc không . lâu_lâu mấy sắc không . tật mây_khói đông lại thì sắc vô . đem lên thế_giới gỉ đồng thì kêu đem lên hàng bạo_hành . mình đó toàn_diện mấy xanh với thời giới gỉ đồng . mã_lực này bạo_hành mấy của tg đồng kẻm làm . mình không ủng_hộ nữa đâu\n",
            "9 mới mua 3 ngày máy củ đã qua sử_dụng với giá 8t5 bảo_hành 10 tháng theo đánh_giá giá tiền này thì dòng máy này quá ok , vân tay thì hơi chậm tại vì nếu nhanh thì màn_hình phải sạch ko dính vân tay camera đẹp pin sạc siu nhanh quay video chống rung tốt chụp ảnh thì ok vì mình ích chụp ảnh với giá tiền mình bỏ ra như_vậy thấy là quá ok rồi dc thêm bút spen còn nhận khuôn_mặt mình thấy rất là nhanh và nhạy sao thấy ai củng chê nhỉ mình thấy bao nhanh mà\n",
            "11 mới mua máy . pin cũng mau hết . xai 4g nóng may . mạng cũng ổn trong tầm giá . man hình kg đẹp bằng super . bấm chưa quen phím điều hướng . tính mua redmi5s 128gb mà kg yen tam . theo sam sung lâu rồi nên quyết đến cung . camera bình_thường . kg đẹp . nếu xai đơn_giản thì dc trong tầm giá\n",
            "28 lúc em mua thì loa rất la rè đến tgd em thử qua nhiều máy vẩn rè máy nào cũng vậy ... đến khi em cập nhựt phần mền thì hoàng toàn không còn rè nửa ... mà nghe hơi nhỏ hơn một chúc .. còn phần gọi điện_thoại phản_hồi chậm quá rat mông khắc_phục lợi lổi nầy\n",
            "32 không hài_lòng với sản_phẩm . mới xài có 5 ngày mà thấy không êm rồi . chỉ được cái chụp hình , nhìn đẹp thôi chứ chẳng thấy gì ngon . cái mình mua 2 triệu 1 năm trước của vsmart mà_lại chơi game mượt hơn con này . bắt wifi , mạng 3g thua con rẻ_tiền mình đang xài . lần đầu xài sam sung mà thất_vọng ghê\n",
            "36 mua hàng tại tp hưng_yên mọi thứ đều rất tuyệt từ chú bảo_vệ đến các bạn nhân_viên . máy thì an_tâm nha , chắc có_lẽ duyên hay sao mà máy chẳng bao_giờ lỗi cái gì mà mấy b than pin với sạc . dùng dt nó phục_vụ mk chứ k phải mua để hầu nó . 12pin mà cứ than chi mệt , các bạn có dùng dc cái máy nào 3 năm k thay hay k mà cứ lo_sợ . còn sạc thì là sạc nhanh , sạc qua đêm thoải_mái , k thì trc khi đi ngủ sạc 1h15 là coi như đầy r pin trên 20\n",
            "56 máy pin trâu dùng 2 ngày mới phải sạc . chơi 13 trận liên_quân , lướt fb xem youtube ở mức bình thường.nghe nhạc lướt web mãi ko hết pin . chơi game thì ok . cam đẹp trong tầm giá\n",
            "61 mới mua hôn qua , xài cảm_giác rất ok . pin khá trâu , trâu hơn con 6s cũ của mình tới khoảng gần 2h đồng_hồ vân tay nhạy , chạm nhẹ là đã mở khoá . nút home dạng cảm_ứng khác với các đời iphone trước nên mình cảm_thấy chưa quen lắm . nói_chung sản_phẩm rất tốt phù_hợp với số tiền bỏ ra . là sản_phẩm nên mua xài 2,3 năn nữa vẫn thuộc hàng khủng\n",
            "62 máy này cấu_hình ngon giá ok có_điều còn lõi nhiều nhất_là chế_độ bõ túi và cảm_biến tiệm_cận . đã mua máy ở thế_giới di_động và đã đem trã lại . thít nhất cách phục_vụ của nhân_viên vui vẽ và ân_cần dù đem đi bảo_hành .\n",
            "64 mua dc 1 tháng có nhận_xét như sau máy đẹp camera tốt hiệu_năng rất tốt mặc_dù đã ra lâu , tính ổn_định mượt_mà của máy là thứ mà mình thích nhất trên aple . pin nếu trâu hơn một tú và có sạc nhanh nữa thì quá ok . nói_chung máy dùng mọi tác_vụ từ chơi game cho đến làm_việc đều ngon cả . mình rất hài_lòng\n",
            "66 xài đưocj 1 tuần rồi cảm_nhận mượt chơi game k lag hơi ấm máy k nóng rát tay khi chơi game cả buổi , pin thì ok nó bth cho ai xài đt pin lớn quen còn với người xài pin 2x 3x nó trâu chụp ảnh macro cực nét cam 48p soi tới nái luôn chân_dung đẹp , loa bự , k bị lỗi gì ....\n",
            "75 đầu_tiên xin khen thái_độ phục_vụ và chăm_sóc khách_hàng cực tốt của tgd và dmx . xin nói vài nét về chất_lượng galaxy a50 s.máy mới mua về sạc pin lên lâu . không hiển_thị thời_gian sạc pin ngoài màn_hình chính , chờ , nghĩ . thế_là đem ra tgd mấy anh test máy va đỗi cho con khác . con khác về sạc thì nhanh hơn . nhưng không con nào xem được thời_gian bao_lâu sạc đầy dt , camera thi ko thây gì nổi_trội , đa_phần dòng bình_dân như nay thì con nào cũng hao_hao như nhau . pin thì lâu tụt .\n",
            "94 mới mua máy gần 1 tháng thây mọi thứ đều ổng nhưng cho tôi hỏi tại_sao khoá màng hình 4 tiếng mà mở lại thì nó hiện lên titok ko phải trang chính đt ... lâu_lâu nghe nhạc lại bị đứng ...\n",
            "100 mình mua máy dc 1 tuần thì lỗi màn_hình , ra tgd được đổi máy ngay , xong về dùng dc 3 ngày lại có hiện_tượng nháy màn liên_tục . không biết có được đổi nữa không cảm_thấy buồn quá .\n",
            "104 dùng được 4 tháng , ko có nhu_cầu nhiều chỉ nghe gọi và dùng zalo hoặc đọc báo nhưng nhiều lúc chỉ muốn đập . điện_thoại thường_xuyên bị treo , đơ rất khó_chịu . mỗi lần bị lại phải bấm nút nguồn rồi mở lại , phím bấm phản_hồi chậm . có_khi có người gọi đến thì treo máy luôn bấm mãi ko được đến lúc được thì cũng hết chuông luôn ... nản . ưu_điểm được_mỗi_cái là pin rất trâu . khuyên mọi người có ý_định mua điện_thoại cùng tầm giá thì nên mua loại khác đừng mua loại này sẽ phải hối_tiếc\n",
            "108 mua cho bố ở nhà nên phải dành 1 ngày để test mọi chức_năng trước khi đưa máy cho bố 4/64 pin trâu camera chụp trong điều_kiện_đủ sáng cũng khá tốt dùng các tác_vụ bình_thường rất mượt sử_dụng chip snap 632 nên mấy cái này cũng không lo wifi cũng khá ổn k thấy hiện_tượng bị mất sóng hoặc yếu mặc_dù ở trong phòng kín loa nghe khá tệ màn_hình độ_phân_giải không cao nên có_thể nhìn thấy điểm rỗ vân tay có_vẻ k nhạy và khung điện_thoại có_thể dễ_dàng bị bóc ra nhưng với giá 3tr thì có_thể chấp_nhận được\n",
            "120 máy cực_kì cực_kì ngon luôn , màn_hình amoled hiển_thị rõ vô_cùng , sắc nét , nhưng hơi hao pin , chip p90 chơi liên_quân bật maxseting cực mượt , cứ mãi 5961fps . còn cal of duty bật max đồ_hoạ cũng 5961fps . còn pubg thì mình dùng gpx tol bật mượt 60fps rất ngon , pin thì 1 trận liên_quân 20p tốn 5 pin , còn cal of duty 15 phút thì 3 , còn pubg thì chơi mập sanhok 30 phút tốn 7 . camera thì đẹp khỏi bàn , máy đa nhiện cực mượt . rất đáng mua\n",
            "125 máy lúc đầu mới mua thì gps định_vị không hoạt_động , cập_nhật lên vos 2.5 mới hoạt_động dc , nay lên vos 3.0 rồi , mà sao cập_nhật qua wifi không tải được phải tải qua 4g mới dc . máy nhanh mượt pin trâu , hệ_thống hay bị lỗi , camera thì kêu e e . chụp xấu .\n",
            "127 mình mua sử_dụng khoảng 20 ngày , đánh_giá theo cá_nhân sử_dụng 1 camera thì chụp ảnh ngày và đêm và quay_phim không bằng a71 vì cam chính chỉ có 48mp không bật chế_độ super steady . 2 chơi các thể_loại game thì mượt không bị lag mình mở ful mọi chức_năng , 3 về pin thì nếu chơi game online và lướt fb , zalo .. liên_tục thì được 6h , sạc nhanh thì mất 1h151h25từ 15 . sạc và sử_dụng thì pin ko nóng , còn ít chơi game và fb , zalo thì được 8h , cũng có lúc pin tụt như tụt quần mình ko hiểu tại saoko chạy ngầm ứng dụng4 cảm_biến vân tay thì khá ổn cảm_biến quang_học , mình không dùng cảm_biến khuôn_mặt . cảm_biến màn_hình thì ko được nhạy khi sử_dụng đồ_hoạ . 5 xem phim và youtube thì khá ổn nói_chung phù_hợp chơi game thôi , còn các tính_năng khác thì chán lắm .\n",
            "128 mình mua km 3490k về sử_dụng thây rất ổn trong tầm giá này . mình k quan_trọng camera nên thấy chụp ổn , chơi game thì mượt . pin sạc nhanh , tuột pin chậm . màng hình rực_rỡ đẹp , thêm cái tràng viền k có camera nên nhìu rất đã . có cái loa không đc lớn lắm . nói_chung trong tầm giá này mình rất hài_lòng\n",
            "130 máy có cấu_hình thấp so với các máy khác trong tầm giá nhưng nếu không chơi game thì các tác_vụ bình_thường rất ok . nếu so với s a20s cùng dung_lượng thì con này chất hơn nhiều và cũng rẻ hơn_nữa . tóm_lại nếu anh_em chưa xài , chưa cầm trên tay mà chỉ nhìn vào cấu_hình để đánh_giá thì chưa phản_ánh hết được đâu , điện_thoại ngoài cấu_hình ra thì còn nhiều cái hay lắm . tóm_lại hài_lòng với sp nay\n",
            "131 yên_tâm mua hàng ở đây vì là hàng chính hãng , lại được bảo_hành tới 1 năm . mua hơn 1 năm rồi mà máy không vấn_đề gì , bán hàng rất bền . rất hài_lòng , mình cũng mua hàng ở chuỗi đmx rất nhiều vì yên_tâm\n",
            "132 sản_phẩm tệ so với giá . sóng điện_thoại chập_chờn lúc có lúc không , có_khi sóng đầy vạch nhưng người khác lại không_thể gọi đến , dữ_liệu di_động dldđ thì kém . đã test thử mở dldđ khi chưa có gói cước thì chạy bình_thường , còn khi cài gói cước vào thì phải khởi_động lại , máy mới nhận . so với tầm giá này thì máy không ngon . mua 14/10 nhưng sau hơn 1 tháng 18/1 lại chán .\n",
            "135 sản_phẩm có thiết_kế đẹp , pin trâu , chơi game mượt , ngoại_trừ các phím cứng hơi khó phản_hồi lúc nhận lúc ko , loa ngoài khi nghe ở âm_lượng nhỏ thì bị rè . nói_chung được này thì mất kia , ở tầm giá này với cấu_hình và thiết_kế như_vậy là quá ngon ko đòi_hỏi gì được nữa .\n",
            "142 máy ngon mượt pin_châu , nhưng dính 1 lỗi là rớt cuộc_gọi họ nói mình k nghe dc j . mong nhà phát chiển sớm có bản cập_nhật phần_mềm vá lỗi cho cái chứ dùng đt kiểu này nhiều lúc có việc khẩn_cấp là nguy to .\n",
            "164 điện_thoại chơi game rất ngon . chơi pubg . chỉnh . mượt vs cực_độ bắn khá sướng . có nhiều ông k biết chỉnh lại bảo lag . máy nhanh nóng nhưng khi thoát game độ nóng giảm nhanh dần tôi rất thích\n",
            "166 mới mua về sp oke máy mượt nhân_viên phục_vụ tận_tình chỉ_mỗi_tội sp là hàng chưng_bày và có lỗi nhỏ sp tự_động mở màng hình mà ko có lí_do\n",
            "169 mình hay mua máy ở tgd vì máy ở đây bảo_đảm và nhân_viên phục_vụ nhiệt_tình . lần này ra mua con 9s này là đã có điềm rồi . lúc đầu lấy máy màu xanh bật nguồn ngồi đợi đến 15p máy ko lên luôn , xong đổi ra con máy màu xám . bật cái lên trong vòng 5 đến 10 giây . cảm_thấy hài_lòng và nhận máy đi về . về xài mới thấy máy hay bị đơ quá . đang chơi game nặng 1 xíu là đơ máy luôn . không nhẽ lại ra trả chấp_nhận chịu lỗ tiền vậy . buồn cho ẻm này quá\n",
            "176 cho hỏi xíu ạ .. m áy mình không truy_cập mạng .. để qua đêm tuột 5 ... chỉ lên fb zs zalo thôi nhưng pin vẫn tụt nhanh..choi liên_quân tầm 10p là 5 đến 6 pin .. sạc đầy lên fb tầm 3p là pin bắt_đầu tụt .. pin vậy có phải có vấn_đề không ạ\n",
            "184 quá buồn khi máy tự lên androi 10 . máy phơi sáng 32s giảm còn 16s . mà không dùng được luôn . mất luôn chụp ảnh gốc rộng . mất luôn tính_năng quay_phim màn_hình kết_hợp ghi_âm âm_thanh hệ_thống và micro với nhau . và mất rất nhiều tính_năng khác . quá đau_lòng\n",
            "194 sản_phẩm mua được gần 1 năm máy dùng rất ok pin trâu_bò camera thì tạm ổn nói_chung là ok trong tầm giá chơi games thì ok chơi liên_quân và pubg mobile thì có hiện_tượng giật lag nhưng rất ổn trong tầm giácòn các tác_vụ khác thì rất ok trong tầm giá\n",
            "203 sử_dụng máy được 6 tháng . sản_phẩm khá ổn . vân tay nhạy , cảm_ứng mượt . lướt web thì bình_thường nhưng chơi game thì máy hơi nóng . lúc đầu pin trâu . nhưng sau 1 thời_gian thì pin so vơi máy opo trước của mình xuống nhanh hơn .\n",
            "204 mình đã nhận được hàng tại điện_máy xanh ninh_hoà rồi , sau ngày sử_dụng mình thấy pin trâu lắm bên cạnh đó thì sóng điện_thoại sim 2 tụt quá có lúc có một nất thôi , , , lúc đầu mình mua máy xaomi tầm 3tr cũng bị như_thế , , , người khác gọi không được nên khi máy này ra mình lại mua máy này vì thấy rất nhiều tính_năng rất tốt , , , mình đang dùng xaomi k20 pro không bị tình_trạng như mất sóng , , mình rất ủng_hộ xaomi , , nhưng khi nhận thấy tình_trạng như_vậy rất thất_vọng xaomi tầm trung này , mình có_thể đổi máy khác được không , , mình mới dùng 1ngày thôi , , máy xaomi 3tr mình không biết vì sao người khác gọi không được khi tìm_hiểu nguyên_nhân được thì máy quá ngày đổi rồi nên phải bỏ , , , ,\n",
            "205 điện_thoại lỗi cảm_ứng mới đổi hôm_qua . nóichung là cũng xài rất tốt nên mua về sử_dụng lươt fb , zl , intar hoặc là chơi game lq , f v.v thẻ nhở 64gb đủ sd chụp hình đẹp , quay video 4k có siêu chống rung , sạc nhanh , pin chơi trụ được một ngày có_khi đến 2 ngày mới sạc lại . a50s có nhìu tính_năng hay lắm nhyw vân tay_trong màn_hình nhạy , màn_hình đen , âm_thanh hay và lớn , ... nói_chung là còn nhìu tính_năng hay . câc bạn nên mua về và trải_nghiệm những tính_năng hay trân a50s nhé\n",
            "211 mới mua , máy đẹp , màn_hình bự , pin chơi tầm 5,6,7 tiếng quá ok , điểm trừ là xem youtube ở chế_độ 720p60 thì bị lag , nhưng chuyển sang 480p vẫn xem ngon_lành , fre fire quá ok , dùng hơi nóng máy tí nhưng ok , màn 6in quá đã , camera ổn không chụp đẹp như mấy cái máy đắt tiền , nói_chung là đáng mua , để dùng được tầm 1 năm xem như nào rồi quay lại đánh_giá nha ❤❤❤\n",
            "214 dùng bình_thường khá ổn , máy mỏng đẹp , camera chụp hơi xấu , cảm_biến vân tay dở tệ , set vân tay xong tối , test ok hết sáng_mai mở lại 3 ngón k nhận ngón nào cả ,\n",
            "218 mua được 1 tuần rồi mình để_ý nếu reset và kích_hoạt bằng mạng wifi fpt thì sẽ không bị lỗi vặt còn wifi khác thì sẽ bị lỗi mở sáng màn_hình ko đc nhé đã thử reset và kích_hoạt lại 5 lần rồi\n",
            "221 tôi thấy các bạn nếu có ý_định mua con này thì nên suy_nghĩ bỏ thêm 50k nữa để mua em note 9 pro , trên bản pro màn_hình độ sáng tốt hơn , camera cũng tốt hơn và điều các bạn cần quan_tâm nhất là nó ko có lỗi vặt như note 9s . tôi đã mua note 9 pro dùng khá nhiều tác_vụ trong ngày mà viên pin vẫn còn 12 vào_khoảng 23h30 , pin khá trâu_bò , camera chụp sướng khỏi chê , dưới đây là ảnh chụp dc từ em nó\n",
            "255 ms mua dt h.qua đã trải_nghiệm và mh thay các chnang cam biển thì ok . riêng pin thì mh đanh giá chưa tốt lắm , vì mới sac xog 10 lọ hề mở mạng chỉ lướt dt thoi mà hụt xin 1 2 pin roi . pin ko tụt trừ khi ko đụng tới thôi , con vuốt vai cai la pin tụt 1 . dt mới mua thi thường mh sd lâu lắm ms tụt 1 . con a71 mh cảm thay pin ko trâu lắm . pin chỉ tạm thoi rất tiếc\n",
            "256 camera rất tệ . có_thể nói tệ nhất trong phân khúc giá . dung_lượng pin ít . nói sạc nhanh vậy thôi thật_ra cũng sạc bình_thường . màn_hình thì phải nói màu_sắc không được đẹp cho lắm . quảng_cáo rất nhiều nhưng chất_lượng không như mong_đợi .\n",
            "259 điện_thoại dùng rất ok loa khá là to xem phim tốt game nặng thì ko ổn lắm màn_hình to rất tốt trong việc xem phim 1tr4 thì quá là ok rồi\n",
            "271 mình mua về xài gần 4 tháng rồi , máy rất ok , pin ko hao nhanh như máy bạn khác đã nói pin mình xài ok nhưng 1 ngày là phải sạc , 2 mặt đt đều bằng kính phải xài ốp lưng , không mặt sau trơn lắm màn_hình hiển_thị khá , mới lên miu 12 cách đây 1,2 tuần hiệu_ứng rất mượt , giao_diện đẹp hơn máy ko nóng như lúc mới ra nữa sạc pin thì hơi nóng cụm camera thôi ...\n",
            "281 qua thời_gian dùng máy thì máy có các lỗi sau khi màn_hình tắt dùng vân tay để mở khoá trong 5s thì máy bị tối màn_hình lại mặc_dù đã tắt chế_độ tương_thích . máy phát bluetoth cứ bị giựt giựt . máy có viên pin 40 mà nhanh tụt pin quá .\n",
            "284 dùng cơ_bản fb zalo thấy mượt , sau khi lên realme ui thì có hiện_tượng chạy chậm hay đơ hơn bản cũ . còn độ bền thì xài thử mới biết đc d\n",
            "300 nói_chung là bắt mạng yếu vlin , nên xiaomi năm nay chả dc cái gì ngoài quảng_cáo , nhất mấy thằng rivew\n",
            "304 tức quá trước mua để iphone xách tay xài còn mạnh hơn ở the giới di_động , mua kêu nó tải cho bài nhạc chuông nó ko tải . dt chạy chậm\n",
            "317 máy rất chậm cấu_hình chịp snap460 trong khi nhân_viên kêu chip cao mình test game thì giật lag vả_lại nhân_viên thì khách_hàng vào auto đẩy opo đề_nghị xem_lại cách phục_vụ khách_hàng . mình thật thất_vọng khi mua máy này . mình sẽ trả lại máy và không vào thế_giới di_động mua sản_phẩm này nữa . khách_hàng chưa vào đã chỉ luôn sản phầm opo bạn áo đen có chữ reno 4 . thất_vọng vì cách phục_vụ tiền_mất_tật_mang .\n",
            "328 xài từ trước tết đến giờ , công_nhận đáng đồng_tiền ... máy mạnh , đẹp , pin trâu ... nói túm lại quá xứng_đáng khi mua ẻm này 🤩 ... thêm điểm cho nv của tgd ngay bùng_binh phú lâm , kinh dương_vương q6 vì tư_vấn nhiệt_tình , nói_chuyện dễ_thương từ a quản_lý tới mấy bạn bán hàng đều nhiệt_tình\n",
            "344 máy mơie mua được 3 tháng mà hao pin quá . dạo này covid ở nhà nên mình hay mở youtube . một tuần trước còn xài được nguyên ngày , sang ngày hôm sau mới phải sạc . nhưng qua mấy ngày nay , mình coi youtube cũng ít lại rồi nhưng điện_thoại xà tầm 4h 4h30 đã hết pin . thật phí tiền . buồn .\n",
            "345 thật_sự khi em mua là vừa ra_mắt ... lúch đầu em cảm_thấy rất mượt_mà và pin trâu . khi em mua là 6.90 k đối_với ngta là nó kh cao . nhưng đối_với hs chúng_em nó rất cao và thích và pin cũng trâu , dung_lượng lớn nên em nghĩ sẽ xài rất lâu . nhưng tính đến nay em xài đã 2tháng thì nó lại bị chạm tùm lung và kh hiểu lí_do . em trân_trọng và xài rất kĩ để chưa lần nào bị va_đập mạnh và kh bao h vừa sạc vừa xem phim . em rất thất_vọng về chiếc đt này\n",
            "353 bắt wifi yếu dùng cùng wifi với con iphone 8 , con iphone xem youtube ầm_ầm , con 9s này đứng đơ luôn . loa ngoài quá nhỏ và rè , điện_thoại rung yếu . được_cái pin dùng 3 ngày , xác nhanh .\n",
            "361 về sp thì mọi thứ đều ổn trong tầm giá , pin trâu , thiết_kế đẹp . còn vài hạn_chế ở điểm độ sáng ngoài_trời ko đc tốt , riêng về xiaomi thì sóng luôn chập_chờn mình dùng redmi note 8 đến bgio là note 9s thì wifi và 4g đều chậm như nhau . ngoài_ra những thứ khác đều ok . ai ko qtam nhiều về độ sáng và sóng nhiều thì đây là lậu chọn tốt nhất trong tầm giá .\n",
            "373 máy đẹp , cấu_hình mạnh , cảm_ứng mượt_mà , cầm trên tay khá gọn_gàng .. vỏ máy bóng nên bạn nào mua cần trang_bị ốp lưng có độ nhám tốt để cầm đỡ rơi_rớt ... khui hộp mà mấy chị nhân_viên xin chụp hình máy nữa chứ ..\n",
            "376 đã dùng redmi 5 plus . giờ chuyển xang redmi note 7 và đánh_giá 5 sao cho xiaomi nói_chung và note7 nói_riêng . ko còn đòi_hỏi gì hơn trong tầm giá 4tr đã trừ km nếu cấu_hình này mà dán chứ samsung vào thì chắc phải 13 tr\n",
            "377 mình mới mua con vivo y19 dùm để chạy xe_ôm công_nghệ được 10 ngày máy dùng tất_cả điều tốt . chi là khi mình ở những nơi toà nhà cao nhất 81 nguyên hữu cảnh hay_là ở bên quận 7 thì mất sóng 3g4g . cam ơn e nhân_viên vivo nhiệt_tình và đẹp gái\n",
            "393 máy xài ok , mấy ngày đầu xài thấy tụt pin nhanh , sau tắt bật lại xài thấy lấu hơn , đã up lên ios 1 yếu_điểm là sạc pin 10 vần còn hình tia chớp không biết bị lỗi gì , còn lại tuyệt_vời , à còn tắt wifi với bluetoh chưa tắt hẳn ở phím tắt phải vô cài_đặt mới tắt hẳn .\n",
            "405 máy ok trong tầm giá .. mới mua 1tuần dùng ko vấn_đề gì cả . mọi thứ cơ_bản dùng đều ổn , chưa thấy điều gì đáng nói cả .\n",
            "412 từ lúc cập_nhật đến giờ cảm_thấy điện_thoại sạc lâu vô pin hơn dùng thì lại nhanh hết ngoài dùng cảm_thấy máy nóng đặc_biệt là lúc nói_chuyện điện_thoại lúc chưa cập_nhật thì không có chả hiểu sao cập_nhật xong lại vậy\n",
            "420 nhận_xét về sản_phẩm sau mấy ngày dùng như sau ngoại_hình của máy có thiết_kế đẹp màn_hình lớn cầm_chắc tay , phần viền dưới hơi dày . màn_hình hiển_thị chưa đẹp lắm , camera chụp hơi nhạt , pin dùng thoải_mái 1 ngày , loa ngoài hơi nhỏ , không hỗ_trợ thẻ nhớ ngoài . hiệu_năng thì chỉ tốt trong tầm giá . nhân_viên tgdđ hỗ_trợ mình nhiệt_tình , nên luôn yên_tâm mua_sắm tại tgdđ\n",
            "430 a71 mình sài rất ok pin trâu 9 mình sạc 65p là 10 máy ko ấm luôn cpu 730g được trang_bị củng tầm chơi game mượt máy sử lí ok . còn cái ko thích là hây bị lõi bỏ_qua đem là ko sử dung vân tay và khuôn_mặt được chỉ dùng mật_khẩu để mở camera bố_trí như_vậy mình củng thấy ko đẹp lấm còn khoản trống phải như bố_trí thêm đo nhịp tim hây gì nữa chắc nhìn đẹp hơn điện_thoại củng là thời_trang\n",
            "435 sản_phẩm mua rất tốt tôi rất thích mua sản_phẩm bên điện_máy xanh và thế_giới di_động và cũng sau_này . sảm phẩm thuận_tiện cho công_việc của tôi . tôi rất thích tính_năng và mới\n",
            "439 dùng được một ngày thấy được phết , nhưng_mà điện_thoại này bị mát ra vỏ.hôm qua tắm xong chân ướt có người gọi cầm lên nghe chạm tai vào cái camera thò thụt nó giật cho phát thấy sợ . khi điện_thoại đang sạc pin rồi\n",
            "448 không nên mua điện_thoại gì mới mua 1 ngày mất sóng không ăn sim cả chục lần , bàn_phím thì nhảy loạn_xạ , màn_hình bấm không ăn . mình chủ_yếu mua để nghe gọi lướt face zalo mà cũng không đáp_ứng được . thua\n",
            "455 chiếc máy này ngoại_trừ chip sd85 ko có j nổi_bật , cam xấu và hay bệt màu , thiếu sáng rất tệ , mặt lựng nhựa dễ xước , dấu vân tay khác hoàn_toàn quảng_cáo chậm và nhận_diện sai , giá tiền ko xứng_đáng , với số tiền này bạn có_thể mua đc chip 865 màn_hình 120hz . như mi10 , iqo3 đều vượt_trội hơn s10lite giá rẻ hơn . reviewer của thế_giới di_động đánh_giá ko trung_thực về sản_phẩm\n",
            "479 sau 1 tuần sử_dụng pin cũng bình_thường camera hơi xấu . lướt wed chơi game ở mức_độ tạm chấp_nhận được . máy ram 6gb mà chạy đa_nhiệm cực chán chỉ được bộ_nhớ_trong của máy lên tận 128 nên không lo bị đầy theo đánh_giá của mình trong tầm giá này vivo y19 thua máy khác về mọi mặt\n",
            "480 máy mình mua ở chi_nhánh võ văn ngân hôm_qua , tạm_thời máy xài chưa thâý bị gì , lúc đầu tính chọn 9s nhưng nghe review nhiều lỗi quá nên chọn con này , hôm_qua mình mua đc giảm 30k còn 5tr690 còn đc tặng cục sạc dự_phòng nghe anh bán hàng nói còn 1 cục duy_nhất . anh nhân_viên tư_vấn tên thoại , tư_vấn rất nhiệt_tình , dễ_thương , máy chưa biêtd đánh_giá sao chứ về khoản tư_vấn bán hàng mình thấy quá tốt\n",
            "482 vừa mua hôm_nay , đánh_giá vào ngày đầu sử_dụng là pin rất trâu , mượt_mà để chiến game , loa to nhưng khi max volume nghe cảm_giác hơi rèvân tay nhạy , nhanh ... camera theo thằng ít chụp hình_như mình thì rất tuyệt_vời , về set up máy theo ý của mình một_tí thì xài rất oke from redmi note 9s with love\n",
            "489 mới mua hqa , pin 40 nhưng do màn_hình lớn cug mau tụt , cảm_ứng vân tay ko nhạy bằng cảm_ứng đặt ở mặt lưng . tắt hết ứng_dụng tự_động gửi dữ_liệu đi thì để qua đêm chỉ tụt 1 , tăng độ nhạy_cảm ứng lên thì vuốt mượt do có miếng dán màn hinhnhìu bn ko bit tăng thì chê ko mượt , . trc xài lenovo k6 power pin 40 chuyen qua con này thấy pin con này ko bằng . đươc cái thấy thiết_kế đẹp thì quất , nghe gọi to rõ ko như mấy con tq , vân tay mà nhạy nữa là ưng . nói_chung mấy bạn ko bit chỉnh thì chê cảm_ứng vuốt ko nhạy , pin nhanh tuột , . mih thì thấy cug đc đấy . mua rồi thì xài thôi ko lăn_tăn chi cho mệt , cung quy ra cái dt chủ yêu để nghe gọi và lên mạng thôi ...\n",
            "499 quá thất_vọng cho 1 sp mang_tiếng cấu_hình cao ram 6gb đồ , chụp hình 48mb đồ , xàm xàm , đừng bao_giờ tin mấy cái vỏ bọc ghi bên ngoài . các bạn hãy trải_nghiệm và cảm_nhận mới biết . sau khi sài 10 ngày tao kết_luận như sau pin thì cũng sài tầm 6h như mọi máy khác ý là còn mới khui , sạc nhanh cái q , tầm 4h mới sạc đầy ...vcl chụp hình thì xấu vãi , .. camera thì kêu ọt oẹ ... chơi game thì lag còn hơn con máy tao mua từ 2017 vãi đạn thật ....... còn nhiều nữa .. mà thôi .\n",
            "506 sản_phẩm quá tệ . tệ hơn mình tượng . đang yên đang lành khi không k gỡ đầu được luôn . vào cái đặt lãi mẹo được . đang lượt web thì biếu truy cấp ứng_dụng cập_nhật ứng_dụng .... nói_chung là nhiều thư rát_rạt tệ .\n",
            "516 e mới mua được 2 tuần . tuan đầu_tiên thì ok . 5 ngày_nay e để_ý là cứ xac pin đầy 10 thì bin xuống rất nhanh từ 1090 . e đã bat che độ tiết_kiệm bin và tắt hết tất cat các ứng_dụng ngầm mà nó vẫn xuống bin dù e k có làm j.k biết có nên đem đi đổi cái khác k .\n",
            "517 mình mua dùng làm máy phụ bỏ sim 4g vào chỉ chơi game thôi . chơi pubg đồ_hoạ mượtcực cao thì bao mướt nhé . máy ko bị nóng , mình sạc qua đêm pin đủ dùng 1 ngày vì chơi thường_xuyên . lâu_lâu máy bị đơ và đứng máy nhưng tắt mở lại là khắc_phục được nhé .\n",
            "525 mới mua được 3 ngày ngay lúc giảm_giá 30k , dùng ổn mọi chức_năng . liên_quân ngon_lành , pin rất trâu , sạc đầy từ đêm để đến trưa vẫn đầy 10 . đi làm về đánh lq , dùng 2 ngày mới sạc một lần , giá và hiệu_năng quá ok trong phân khúc 6tr trở xuống . mấy em nữ tgdđ rất hiền_hoà dễ mến , service tuyệt_vời từ trong ra ngoài . mình rất thích mua ở tgdđ vì điều này . chúc tgdđ thành_công hơn_nữa\n",
            "531 tôi ko hài_lòng là khi mua đt nhân_viên tư_vấn là sạc nhanh sạc 1h30’ đầy mà sạc tới 34tieng mới đầy pin cảm_giác như bị dụ vậy chán\n",
            "542 thiết_kế đẹp , cấu_hình tốt trong tầm giá , pin xài onscren hơn 1 ngày gần 2 ngày còn 23 .. quá tốtmỗi tội sạc hơi nóng vì do sạc nhanh . nói về sạc thì cực nhanh luôn hơn 1 tiếng là đầy vậy là tốt rồi so với viên pin 50 mah camera thì khỏi nói ... chụp đẹp nhất phân khúc\n",
            "549 chơi game khá mượt điều mình thích nhất ở vivo y1 , hình_ảnh camera thì không bằng samsung galaxy j7 prime mặc_dù đều là 13 mega pixel và 8 mega pixel , với những ap nước_ngoài như naver thì xử_lí khá chậm còn lại mọi thứ khá ổn so với giá_thành , ah còn dung_lượng hệ_thống quá nhiều , 32g chỉ khả_dụng gần 20g , xem như tạm ổn .\n",
            "554 đt mua được 10 ngày bị lỗi nguồn 2 lần đứng máy sau đó thì tắc nguồn hơn 20p mới có_thể mở lên lại , lần đầu mở lại ngay được ko quan_tâm lắm ra để đổi lại thì kỹ_thuật xác_nhận để đổi , lấy đt mới trong tủ ra chưa mở hộp thì đem cất và ra thông_báo ko có đt để đổi hẹn mai quay lại , ra đt nhìu lần chưa bao_giờ thất_vọng như lần này\n",
            "564 dùng được 1 tuần đt đang rất tốt . game liên_quân mượt , pubg hơi lag xiu , chạy các tác_vụ khác rất mượt . pin trâu xài 12 tiếng xuống 80 , sạc pin 1h30 đầy . cam thì không đẹp , ko đòi_hỏi gì nhiều . nhưng mọi thứ trong tầm giá này thì quá tốt so với các hãng khác , ủng_hộ hàng việt_nam .\n",
            "592 có bị giống không , 10 ngày đầu xài thay pin trâu lắm , xong rồi h nó tuột pin nhanh lắm , nó nhanh hơn mấy hôm trc\n",
            "598 sao máy e mỗi lần xoá hình_ảnh hay video nó đều bị 1 tập_tin lỗi vậy . bị riết luôn rồi tập_tin lỗi nó cứ đầy trog máy nhưg vô trong thư_viện hay tập_tin thì k thấy\n",
            "611 máy đẹp sóng_sánh wifi đều ok .. sao mn nói wifi tệ lắm .. những máy ram 2g thì wifi hơi yếu tý còn bản ram 3g thì sóng_sánh và wifi ầm_ầm .. mượt_mà game liên_quân ok . màn_hình to 6.5 inch chẳng khác gì máy_tính bảng cả . nhưng nhìn rất nhỏ gọn.thao tác 1tay thoải_mái dung_lượng pin quá ấn_tượng 50mah .. 10 * cho vsmart joy3 bản ram 3g .. còn các bản ram 2g nghe mn nói sóng yếu wifi tệ thì mình ko biết .. còn bản ram 3g của mình thì 10 * cho nó rồi ..\n",
            "641 điện mua về nguyên hộp mở ra bỏ sim không nhận mang , giống như chưa kích_hoạt .... lên tra cách kich hoat thì hướng_dẫn lung_ta_lung_tung .... bỏ 1390k ra mua cục tức .... vsmart rất tệ trong khoảng chăm_sóc khách_hàng .... cho tiền cũng k dính vào đồ của vin nữa .\n",
            "643 cho mình hỏi sao sản_phẩm này cuộc_gọi trong mesenger lại không đổ chuông mặc_dù cài_đặt vẫn có chuông , âm_lượng cuộc_gọi , đa_phương_tiện mở mức cao nhất . mới mua dc mấy ngày hm nay xài thử thì thấy vậy . cần tư_vấn\n",
            "657 sản_phẩm với mức giá vậy là rất tốt rồi . lại là sp của việt_nam . phần_cứng ổn với nhu_cầu cơ_bản . nhưng phần_mềm cần update để mượt_mà và ổn_định hơn thì người tiêu_dùng sẽ ưu_tiên vsmart\n",
            "658 tôi đã sử_dụng vsmart live 8 tháng , dù còn một_số lỗi , như vân tay mở máy kém , thỉnh_thoảng máy bị đơ ... còn lại mọi thứ đều khá ổn . tôi lại không gặp vấn_đề gì về sạc nhanh hay thoát ứng_dụng đột_ngột như một_số bạn ý_kiến . dù_sao thì tôi vẫn rất ưng_ý và sẽ tiếp_tục mua dòng sản_phẩm của vsmart . 5 sao cho sản_phẩm .\n",
            "660 tôi mua_sắm a70 dc 2 tuân nối chung may khá ổn , chơi pubg chỉ lên đồ_hoạ hd va cao thôi , còn lqmb cũng vậy , nối chung 2 games chên chơi ko rật lác gì cả . pin thì bt chơi game 6,5 h coi fim hơn 10 h . mơ khoá hơi tệ , tay sạch thì mơ ko dc , tay mà bận mơ phát dc liền chả hiểu tại_sao , ...\n",
            "661 sau hơn 1 tuần cảm_thấy cấu_hình rất mượt chơi game bật max cấu_hình chơi vẫn k lag 1 tí nào nhưng pin có_vẻ như ảo thì phải cũng có tuột nhưng tuột rất ít còn về cam thì khỏi phải bàn còn bạn nào thích selfie thì tải ap mà dùng đối_với mình máy tầm chung như này thì ngon dòy k đòi_hỏi dì thêm mấy bạn đừng dựa vào đánh_giá mà chê đủ kiểu muốn thì ra đó test cho đã r về ai kiu mua gấp quá roài về sài than_thở các kiểu\n",
            "664 mới mua máy tối hôm qua.mình cảm_nhận là máy chạy khá là mượt , loa thì mình cảm_nhận nghệ hay , khá chân_thực và ấm mà sao mình thấy có mấy bạn bảo là nghệ ko hay.còn về phần chụp ảnh mình đánh_giá selfie thì mình đánh_giá ở tháng điem 8 , chụp cảnh các kiểu dưới đkien có ánh_sáng thì khá ổn ở tháng điểm 8 số với tầm giá này.nhưng thật đáng tiếc ở điều_kiện thiếu sáng hoặc bạn đêm thì lại nhiễu hạt , không biết đó máy mình hay ai cũng vậy nữa\n",
            "669 sản_phẩm có thời_lượng pin cực ấn tượng.sạc pin lên đến 40w thực_sự sạc rất nhanh . sử_dụng mượt.chơi game quá ok . sản_phẩm huawei quá ngon\n",
            "670 tui thật_sự không hiểu b key2 giờ này mà_còn giá này thì xác_định tồn_kho dài_dài . cấu_hình đã lỗi_thời trong khi htc và b đã ngưng hợp_tác sản_xuất phần_cứng các thiết_bị . mấy nay tầm 10tr đổ lại may còn có fan b mua .\n",
            "672 pin khoẻ , đèn siêu sáng , loa to , nhân_viên nhiệt_tình . nhưng gửi tin nhắn lâu , bấm kết_thúc cuộc_gọi phải mất 2 3s vào thời_gian nữa , loa trong nói_chuyện ra cả loa ngoài , nhìn_chung nếu mua cho người lớn_tuổi cần loa to thì rất ok còn làm mây phụ thì mất riêng_tư lắm .\n",
            "680 mình mới mua a70 được 3 ngày , 2 ngày đầu mình chụp màn_hình bằng phím âm_lượng và phím nguồn , thao_tác vẫn ok . nhưng hiện_tại mình chụp không được , cứ bấm là nó ra chế_độ tắt nguồn\n",
            "688 pin khá tốt , dùng cả ngày tối về vẫn còn gần 30 , chờ_đợi cập_nhật lên one ui 2.0 là tuyệt_cú mèo . dạo này tgđ bán canh tranh phết . bữa black friday gọp hẳn các km lại với nhau luôn , vừa thu cũ đổi_mới mà_còn được giảm 3 tr qua galaxy gift và giảm thêm 2tr . mức giảm tương_đương những chuỗi khác nhưng dịch_vụ và chăm_sóc khách_hàng bên này vẫn tốt hơn nên chọn tgdđ cho con note tiếp_theo .\n",
            "701 mới mua về bấm phím cứng nút nguồn phím xuống âm_lượng chụp màn_hình k đc bực j đâu . loa hơi loè tạm đc\n",
            "702 cái đầu lõi hỡ sáng , đổi cái sau thì chết điểm_ảnh , đổi cái nữa thì lõi wifi . bây_giờ không biết làm_sao luong , không hiểu tgd làm_ăn sao ak . tgd phải tìm cách giải_quyết cho khách_hàng đi chứ ...\n",
            "708 hơn 2 tuần sử_dụng thì mình cảm_thấy camera trước và camera sau vào tối thì chụp bị lag và chơi game thỉnh_thoảng bị dơ và mình dùng mạng 4g thỉnh_thoảng yếu_kém mà lắp sim 4g vào máy khác lại mạng mạnh ...\n",
            "737 máy dùng cảm_ứng mượt , chụp hình đẹp , thiết_kế ok có_điều phần đục lỗ hơi to so với quảng_cáo và có vầng hơi đen bao quen . nói_chung dùng rất tốt trong tầm giá\n",
            "738 máy bin trâu , loa nghe gọi lớn , sạc nhanh , chụp hình tương_đối ok có chế_độ góc ảnh rộng , chơi game không thấy nóng nhiều , tuy_nhiên màn_hình bị tối . máy phù_hợp trong tầm giá nên mua\n",
            "748 máy oke , nhưng cần khắc_phục lỗi pin dưới 10 không cho bật đèn flash , và để_chế độ bấm nút nguồn là tắt đèn flas sẽ hay hơn . nhiều lúc cần chụp hình vào buổi tối mà nó éo cho bật đèn flas khó_chịu vlh\n",
            "752 máy xài ok . ram 8g khỏi chê . mà ms mua 8 triệu 90 ch đk một tháng còn 8 triệu4 . hơi buồn\n",
            "764 có bác nào bị như e k , mua máy dc gần 2 tháng thì cam có tiếng kêu lọc_xọc , lần 1 bảo_hành thì trả cho hàng trả bảo_hành , lần 2 vẫn lỗi đấy và thay màn , đến bây h máy vẫn bị như tình_trạng ban_đầu là lọc_xọc , quá thất_vọng\n",
            "776 mua được 3 ngày nhìn_chung thiết_kế ổn , cam đủ dùng mình không xài cam nhiều , màn_hình mượt , pin thì đủ dùng trong 1 ngày với tác_vụ bình_thường cũng như vài game nhẹ nhược_điểm máy nóng lên khá nhanh nhưng ở mức chấp_nhận được\n",
            "780 pin quá kém . quảng_cáo thì hơn note 10 mà thực_tế dùng thì k bằng 2/3 note 10 . 1 tiếng tụt 10 pin khi chỉ xem 1 vài cái tin nhắn zalo , để nói time sáng màn_hình chắc đc 5p . sai_lầm\n",
            "784 màn_hình lớn , lướt web xem phim rất thích pin dùng được rất lâu , tuy_nhiên ko nên cài ứng_dụng ofice , ứng dụg lung_tung sẽ gây ko tương_thích gây nóng máy bất_thường âm_thanh nge to , khá thíchcamera chụp ảnh khá ok tuy_nhiên , dùng 1 thời_gian thấy khi bật màn_hình lên ko được nhạy , phải chờ mấy giây mới lên , nhiều lúc nhấn để nhập văn_bản thì bàn_phím ko hiện lên\n",
            "788 chơi game liên_quân j mà lag k đánh đ , máy 7t5 mà_còn thưa cái huawei gr5 nửa , đem ra tgd nó lại nói máy k có j tất_cả điều ổn chán gậm 6g mà như cục gạch\n",
            "789 xài gần cả tuần thấy rất oke thao_tác chạm nhanh_nhạy vân tay nhạy , game rất oke nhưng khuyên nên giảm cấu_hình xuống thấp để có trải_nghiệm mượt_mà , pin trâu_bò , camera cũng oke , loa thì hơi bé 1 tí và âm_thanh nghe cũng được chứ không hay\n",
            "797 trong tầm giá thì xài cũng đc . mỗi cái vân tay vs mở khoá khuôn_mặt là quá tệ . mới đổi từ cái j7 pro qua dùng mà thấy ko ưng_ý lắm , dùng con j7 vẫn ngon hơn\n",
            "799 pin nghe_nói trâu mà sao vẫn tụt nhanh thế ah . chán quá xiaomi ơi còn lại chơi game mượt , chụp hình tam okie .\n",
            "806 máy nhanh mượt , game ok , 4 cam sau chụp đẹp , cam trước k ưng lắm , mình ít selfie nên như_vậy là ok rồi\n",
            "813 2 tháng đầu rất mượt , ok . nhưng sau đó là xuất_hiện hiện_tượng giật lắc và ram k khoẻ như trc . ns chung là chip helio k ổn_định như snapdragon\n",
            "826 tệ nhất mà mình từng dùng . với mức giá gần 8tr nhưng camera k đẹp , cảm_ứng nhảy loạn . cái đầu_tiên loạn cảm_ứng , tự tắt nguồn bật k lên , đổi qua cái thứ 2 dùng đc gần 1 tháng cũng bắt_đầu loạn cảm_ứng . dùng 1 vài dòng của s rồi nhưng cái này tệ thật\n",
            "840 máy đa_nhiệm rất tệ , bắt sóng vô_cùng yếu , màn_hình amoled thua xa con a50 , loa nhỏ , thường_xuyên lag giật , camera thò thụt lâu , tiếng kêu to va rè , xạc pin lâu , hđh cùi , hàng vn như này sao mà ủng_hộ được , bàn phim nhắn_tin cũng lag va chậm nữa , thất_vọng\n",
            "843 wifi rất là yếu luôn , xài hở tí là ko có mạng , dù wifi kết_nối được và mạng nhà mình rất mạnh . bấm tắt wifi rồi mở lại thì có mạng lại , ko xài thì ko có mạng . bàn_phím thì đang bấm thì hay bị out ra lun sms , zalo , mes , trang_web . ảnh_hưởng rất nhiều đến công_việc . đổi hết 1 máy rồi , máy trước thì mặt lưng bị bung keo hở ra luôn , giờ máy này thì bị wifi và bàn_phím .\n",
            "848 nhìn_chung sơ_bộ thì máy khá đẹp , cầm trên tay khá thích , camera ở mức ổn , chơi game hơi giật ở những lần chơi đầu những lần sau thì khá mượt . tuy_nhiên khi sạc thì hơi nóng và cái nữa là cài ứng_dụng khá lâu . tóm_lại tầm 2tr thì quá ngon rồi .\n",
            "849 tất_cả đều ok tốt nhug sóng_sánh k dc ok . bắt wifi 3g yêu nên chơi game hay bí_mật kết nói tôi khi kết nói dc thì thưa r.mặc dù sát bên cực wifi . m chỉ chơi game hago thời chứ k chơi game nặng\n",
            "855 xài đc 2 tuần cảm_thấy khá ổn mình ko chơi game nặng chỉ chơi game tầm trung như game zingsped thôi và chiến rất mượt nếu để fps 60 vân tay thì có lúc nhạy có lúc ko nhạy mà mình ko xài nên bỏ_qua giá này xài cũng khá ổn\n",
            "861 pin trâu tác_vụ cơ_bản nghe , gọi , fb , yt được 8h , đáng mua trong tầm giá , lúc mua vể còn bản cập_nhật cũ pin tuột khá nhanh nhưng xiaomi đã ra bản mới fix lỗi cập_nhật , trong mục camera lại được bật nhanh chế_độ 48mp khỏi phải vào chế_độ pro , mic thu âm hơi tệ , loa to\n",
            "871 con vivo u10 này xài khá ngon trong khi minh vào mua con opo cho vk minh xài gần 5tr mà chơi lien quân khá giật riêng em u10 này giá rẻ mà chơi liên_quân khá ổn mình thấy dòng vivo cầm nặng_tay , riêng o po xiaomi lại cầm rất nhẹ vivo là chuẩn\n",
            "874 thấy tầm giá này máy quá ngon . ngay như năm trước thôi 7tr mới mua đc con a50s 64g . năm này 6tr rưỡi được con máy 128g pin 50 kêu_ca gì nữa . mk dùng 1 đống ap thông_báo gần như 24/24 lại chơi game mà_còn dùng được 1 ngày nữa là ai ít dùng . mỗi là pin lớn nên sạc đầy cũng hơi lâu . nhưng cũng đáng thôi . nói_chung quá ok\n",
            "882 mua được 1 tháng , đánh_giá như sau ưu_điểm sạc nhanh , chạy mượt , pin trâu , camera đẹp khuyết_điểm cmr lồi ra dễ trầy , op lưng k phong_phú , nên cầm dễ tuột . đặc_biệt khi nghe cuộc_gọi áp lên_tay thì tắt màn_hình , lấy ra khỏi tay thì màn_hình k bật sáng lại như cũ . cảm_biến cuộc_gọi thật_sự có vấn_đề\n",
            "888 mới mua đc 1 tuần , pin còn 62 , vừa nghe gọi video cal bình_thường , lát sau lấy điện_thoại ra thì cái màn_hình tối thui , cuộc_gọi và tin nhắn đến thì vẫn có chuông , màn_hình thì k tài nào sáng lên đc\n",
            "892 máy mạnh chơi game ngon , mượt , pin khá trâu . trên youtube đánh_máy nóng , nhưng mình nóng như họ nói , có_lẽ là cập_nhật mới nên đã khắc phục.khuyên ae chơi game pubg thì chỉnh mượtcực độ60fps thoai , máy ấm nhưng ko nóng , còn chỉnh hdr là_hơi nóng đó . và nên chơi wifi , chứ pubg mà chơi = 4g 3g là nóng , máy nào cũng vậy cả.về camera thì ko dùng nhìu nên ko đánh_giá . nhân_viên rất nhiệt_tình , rất vui_vẻ . rất hài_lòng\n",
            "895 sản_phẩm này dùng mượt nhưng chỉ có_điều là chơi game liên_quân mobile và garena fre fire hay rật lag ram 2g lại khả_dụng không đến 1g mình hối_hận vì đá mua sản_phẩm này chơi game\n",
            "901 tui chưa thấy cái máy nào cùi như máy này . 78 triệu bạc chứ có ít đâu . giật lắc tung chảo . thua xa mấy con chinasam làm_ăn kiểu này mất_lòng tin quátui là fan samsung trước giờ , chỉ sài dong s và note 45 máy rồi thấy ok.vừa rồi dẫn thằng em mua a 51 . thật_sự quá thất_vọng\n",
            "902 ko s.dụng nhiều , nên ko rõ cái lỗi của pin . nhưng cam selfie xấu lắm , 4g hay lte chỉ xài đc từ sim2 còn sim1 không , loa ngoài có lúc to lúc nhỏ , cái thanh cuộn trên xuống hôm rồi bị tràng mất 1 phần rìa nay thì ko bị nữa ưu_điểm có nhưng ko nhiều .\n",
            "904 loạn cả cảm_ứng . mới xài đc có 3 ngày . thất_vọng quá . fai lên tgd nói_chuyện lại mới đc . ngta đt qa lần đầu ko nghe gì ... tới lần t2 mới nghe đc\n",
            "909 điện_thoại gì mà bin 50 xài có buổi ko xem video gì cả , chỉ lướt fb thôi mà muốn hết bin . thất_bại\n",
            "911 rất thất_vọng mua tháng 8 2019 đến h 1 lần bảo_hành đổi máy do sạc nóng lên bất_thường , bây giời thì sạc không vào mua bộ cáp sạc chính hãng cũng sạc không vào chỉ có_thể sữ dụng cáp sạc thường của xmobile . lúc trước mua đt nào của samsung cũng rất vừa_lòng nhưng a70 này thất_vọng vô_cùng\n",
            "916 mình mới mua iphone 7plus 128 gh ở điện_máy xanh kim đong hưng_yên ngày hôm_qua , mình sạc lần đầu không để_ý , nhưng hôm_nay mình dùng còn 49bin khi đi làm về là 18gio mình cam sac đến tận 21gio 40 mới đầy , vậy có làm_sao không quá lâu đúng không ạ , 3g io 40 mới được 51bin , mong các bạn giải_đáp ho\n",
            "942 2 tháng sử_dụng máy mượt , mở ứng_dụng nhanh , camera máy tôi bình_thường không lỗi gì , cảm_ứng nhạy , loa trong nghe rỏ bình_thường , loa ngoài tạm ổn , độ sáng không cao lắm , camera chụp đầy_đủ sáng chi_tiết tốt , selfie tạm được máy hơi nặng , ai chơi game pupg lâu_lâu bị lỗi loa trái phải reset lại máy , có phần chỉnh nhạy trong turbo hay phết , sạc nhanh , pin bao trâu ...\n",
            "948 đã mua đc 2 tháng , pin ở tầm trung sài đc hơn ngày với tác_vụ cơ_bản , sóng lúc kết_nối tốt lúc ko , chơi game 1 , 2 ván ok những trận sau giật lag cảm_ứng , vân tay rất nhạy . camera mức trung_bình ko như quảng_cáo , máy chơi game ko nóng chỉ hơi ấm . tóm_lại trong tầm giá này cũng là ok rồi .\n",
            "953 mình mua cho đứa e . thật_sự mua máy song về dùng thử chơi một_số game thịnh_hành rồi mới thấy tiếc máy dưới 3 triệu mà ngon hơn máy 8 triệu của hưawei p30 lite china nghĩ mà tiếc tiền . e này chuẩn hàng việt_nam chất_lượng cao rồi mọi người lên mua\n",
            "954 đặt và lấy máy giá 5tr490 . mới lấy chiều hôm nay tét mọi thứ máy ổn chưa phát_hiện có lỗi nào , cấu_hình mạnh dùng sướng , camera sau đeo ốp lưng nhưng vẫn lồi ra ngoài đổi lại khi rom ảnh lên hết cỡ chụp vẫn dc . tuyệt_vời mọi ng nhe .\n",
            "957 máy mới mua thì dùng cũng tạm nhưng chơi game thì ko mượt . đến bây_giờ dc hơn 2 tháng thì chỉ dùng dc 1 tý là bị đơ cảm_ứng phải tắt màn_hình đi bật lại mới dùng lại dc xong 1 lúc chỉ vài phút là lại bị như_vậy . quá chán cho 1 sp\n",
            "962 ai có ý_định mua máy này thì bỏ đi . không thì hối_hận ko kịp . mới mua về dùng đc 3 tiếng là đơ . nút nguồn phải bấm liên_tục 4 đến 5 lần mới sáng . khi thì bấm 1 lần là sáng nhưng đơ không vuốt màn_hình để mở khoá đc . mang ra đổi máy khác về củng bị như_vậy . khi chưa đăng_nhập gogle thì dùng rất nhạy . đăng_nhập rồi tải vài cái ứng_dụng nhỏ nhỏ , ko đến mức_độ na nặng lắm đâu . là bị đơ máy như_thế liền , pin thì nhanh hết , để im ko xài củng tụt rất nhanh . camera nói là 32 chấm nhưng cứ như là 5 chấm vậy\n",
            "966 tui đang xài vsmart live hơn nửa năm trải_nghiệm mọi thứ đều tốt chỉ có camera là cùi bắp thôi .. chụp hình tia_sáng nó cắt ngang ... c òn những vấn_đề khác vân tay hay sóng các kiểu .. hôm_nay mới cập_nhật mới nên ổn ... máy ko nóng pin ok .. lâu_lâu bị đơ phát ... rất ngon trong tầm giá .. nói thiệt tầm giá dưới 4tr không có cái nào xài qua cái này đâu ...\n",
            "972 mình mới mua thấy sài cũng tốt . pin thì dùng chơi game liên_tục cũng được 9 h.nói chung pin k bang con j7pro .\n",
            "976 tui mua về test pin để max độ sáng 30phút xem video ful hd trên youtube max âm_lượng tầm 8 pin như_vậy tầm 6h on scren với độ sáng 10 vậy pin khá ổn camera tốt , chiến game khá , loa to ấm , thiết_kế đẹp cho 4 sao vì viền bằng nhựa , camera hơi lồi , vuốt từ cạnh không thoải_mái lắm\n",
            "979 đã sử_dụng sang ngày thứ 4 , đánh_giá là rất tốt nhé ae . pin siêu tốt , dùng trọn 2 ngày luôn rất bất_ngờ . màn_hình to , đẹp . camera sáng , nét , đặc_biệt chụp đêm xong ai xử_lý sáng hơn hẳn luôn . phần_mềm phải nói là cực mượt_mà , chau chuốt rất kỹ , hoàn_thiện . giá_cả đánh_giá như đang dùng máy 67 triệu ấy . giống như ô_tô vinfast fadil vô_địch trong tầm giá nhé . ae yên_tâm mua .\n",
            "980 samsung galaxy a51 chiếc đt tuyệt_vời . nhìn_chung máy có cấu_hình ổn , cảm_ứng mượt_mà , màn_hình quá đẹp . thiết_kế , sang_trọng . camera tuyệt_vời . pin trâu . cáu gì cũng hơn a50s hết duy test antutu thì điểm_số lại thua sao mâu thuẩn vậy không biết . nhân_viên tgdđ vui vẽ nhệt tình . oke 5 sao\n",
            "987 viết cho ai sắp có ý_định mua.để viết được cái bài đánh_giá mất 15 phút.tìm được sdt phản_hồi mất 10 ph.chốt lại chậm hơn 1 con bò đọc báo còn k xong . vừa mua gọi điện trả máy bảo mất 20 tôi 80 k.nuốt hận\n",
            "989 màn_hình phải nói đẹp hoàn_hảo , loa ngoài bình_thường . pin ngon sạc 2h đầy pin rồi cho cục sạc cổng c to c quá đã , còn cảm_biến vân tay các bạn cài tối_đa 3 dấu vân tay , các bạn cài ngón chính 3 dấu luôn nha , đảm_bảo với các bạn nó nhận chính_xác luôn , nhớ xoay ngón tay 360 ° là ok . mình ko thấy loạn cảm_ứng gì hết . k chơi pubg ngon . màn_hình 209 đầu_tiên luôn xem phim chiếu rạp bao phê .\n",
            "999 máy quá tệ so vs tầm giá mua đc 1 tháng chơi game thì đơ đơ giật giật . làm gì cũng đơ nt mes hay zalo cũng v . ủa rồi 8tr hay 3 tr vậy\n",
            "1018 cảm_thấy thất_vọng với màn_hình lcd tft quá tệ , hình_ảnh nhạt phết , các chi_tiết khác của máy thì đạt yêu_cầu , ko nên mua con này mọi người ạ , hơi hối_hận khi ko xem kỹ máy trước khi mua .\n",
            "1033 máy dùng tạm ổn trong tầm giá , tản nhiệt hơi kém . về camera iso 320 chụp thiếu sáng rất tốt , camera sau chỉ khoảng 12m không phải 48 . pin sau một thời_gian sử_dụng có dấu_hiệu xuống_cấp , cụ_thể là chơi pubg bạn đầu 15 / h sau 4 tháng 20 / h đã reset , cấu_hình mượtcao\n",
            "1036 sau 2 ngày sử_dụng máy giá rẻ nhưng chất_lượng hoàng thiện tốt , cảm_giác cầm nắm ổn , thao_tác vuốt từ cạnh viền 2 bên không bị cấn tay như những sản_phẩm giá rẻ khác , máy đáp_ứng được nhu_cầu sử_dụng cơ_bản nghe , gọi , nhắn_tin , youtube , facebok , zalo , lướt web . tóm_lại mình chuyển từ galaxy note 7 xuống nokia 2.3 , nokia vẫn cho mình 1 trãi nghiệm về mức sử_dụng những tính_năng cơ_bản tốt và cực_kỳ hài_lòng\n",
            "1066 ko biet ai như mình sạc được một lúc thì điện_thoại nóng muốn bỏng . mới_đầu pin còn trâu , vài bua thì thấy xuông pin rõ nhanh . camera tạm ổn , dt hay hag giật lag , lướt web hay bị lag , chơi game đôi_khi cug hay bị văng . tóm_lại t xài mà t tức á\n",
            "1068 đừng có ham hỗ_trợ sạc nhanh r hối_hận tháng đầu thì ok lắm qua tháng thứ 2 là sạc như bình_thường 2 tiếng hơn mới đầy pin còn lại mau hết pin nữa , lần 2 xài opo mà lần này thất_vọng thật_sự , cái camera thì tối , chụp ban_đêm thì thoy lun ...cho 2 sao\n",
            "1082 quá tệ máy lỗi và lag còn hơn con joy 3 thời_gian đầu chơi liên_quân còn mượt chứ bây_giờ là ko thể vào game đc vì lag v thất_vọng về sản_phẩm này\n",
            "1084 nhận_xét như sau k gì ngoài từ tuyệt_vời .... nhân_viên từ ngoài vào tới trong , , từ khi gởi xe , vào cửa , nhân_viên phục_vụ chu_đáo , mọi người nên mua hàng ở điện_máy xanh , thegioididong.ở đây sẽ k làm mọi người thất_vọng đâu , mọi mặt_hàng hơi mắt một tý nhưng hàng chính hãng , hàng chất_lượng , bảo_hành chu_đáo , nhân_viên phục_vụ ân_cần , chu_đáo .\n",
            "1087 iphone là 1 đẳng_cấp , hàng chính hãng tgd bảo_hành rất là tuyệt_vời , mua hàng điện_thoại ở tgd mình rất yên_tâm , cảm_ơn\n",
            "1101 mình mua s a30s thì tặng cái sạc dự_phòng nghe nói là 70k về nhà tra lại thì chỉ có 390k mà quét mã thì không có sản_phẩm . đúng đồ tặng . còn camera điện_thoại thì xấu lâu_lâu lag . khuyên các bạn chọn đt khác nếu ham giảm_giá thì mua nhưng tới lúc dùng thì hơi tiếc tiền rinh về cái đt như gì\n",
            "1106 android 9 lên 10 là bị lỗi chán . còn lại ko chê đc . pin xài cũng ổn . chỉ có camera chân_dung ko sử_dụng đc khi úp android 10 th ôi .\n",
            "1122 mình là sinh_viên cấp 3 muốn mua máy giá rẻ để chơi game cấu_hình bình_thường cũng được nhưng khi mua con joy 3 này thì bắt wifi cực kém máy hay bị lag giật đơ chơi liên_quân ở mức cấu_hình thấp nhất vẫn bị giật lag đổi trả thì nhân_viên bảo máy khoảng tầm 3 đến 4 triệu thì chơi game mới ngon tóm_lại là không đổi trả được mình thất_vọng khi mua em này về\n",
            "1124 tôi tự_tin dùng chiếc máy vivo y91c này để chiến liên_quân hới bất_kỳ game thủ nào , phải nói rằng chiếc mày này vivo làm con trên cả tuyệt_vời , nếu có thêm 6 sao tôi sẽ cho 6 sao luôn . cảm_ơn các anh_chị tgdđ đã tư_vấn cho tôi khi mua được chiếc máy ngon bổ rẻ này .\n",
            "1141 đánh_giá sau gần 20 ngày sử_dụng . mọi thứ đều ổn , chụp hình đẹp , camera sắc nét chân_thật , không biết co hao pin không chứ 1 ngày sạc 3 lần bằng củ sạc siêu_tốc 45w chắc từ 20 lên 80 tầm hơn nửa tiếng game chiến mượt mọi thứ vẫn ổn nhưng có 1 điểm trừ không biết là do máy hay do phần_mềm chứ mình sài fb nhiều mỗi lần vào fb trả_lời cmt thì toàn là không thành côn g hầu_như ngày nào củng bị , đã đem máy đi đổi chưa sài nên chưa biết , được cái nhân_viên tư_vấn nhiệt_tình .\n",
            "1159 mình mua về tới nay là 1 tháng khoảng 15 ngày . vậy_mà điện_thoại đã hỏng pin . mấy ngày gần đây không dùng pin nhưng sáng hôm sau đã gần hết pin . rồi tới ngày hôm_nay thì điện_thoại hoàn_toàn hỏng pin khi mình sạc không vào pin . điện_thoại dùng ngay khi mua về dùng được mấy hôm thì bị đơ , nhưng do nhân_viên bảo là xoá cài_đặt đi cài lại thì sẽ ổn . thì mình cũng xoá đi làm lại , nhưng thỉnh_thoảng lướt face đơ nhưng mình nghĩ đó là do mạng các thứ . đến hôm_nay thì mình cảm_thấy rất không đáng để mua máy này . lúc mình mua là lúc máy mới về đc khoảng 4,5 ngày theo nhân_viên giới_thiệu . giờ thì cảm_thấy rất hối_hận khi dùng máy này . nếu ai có suy_nghĩ mua máy này thì nên cân_nhắc .\n",
            "1161 đã test pin sạc đầy , được 3 trận liên_quan đấu hạng 5v5 , chơi xong vẫn còn 20 pin , đa_nhiệm tốt , giá trả_góp quá rẻ nên mua nếu hoàn_cảnh chưa đủ tốt , mấy con giá tiền ngang k con nào cấu_hình khoẻ pằng\n",
            "1163 sao camre bị hột quá sao thời_gian sử dụnglúc mua về bt sữ dụg đc khoảg 1tuần camre bị vậy\n",
            "1171 sài cũng được tháng mọi thứ rất ok trừ cái lỗi nhỏ tắt hết loa nhưng có 1 số ứng_dụng vẫn phát ra âm_thanh vd như cac clip quảng_cáo tự chạy trong file ảnh video của mình\n",
            "1173 máy có mẫu_mã đẹp , pin sử_dụng được 2 ngày , giá phù_hợp với sinh_viên . tôi mua máy màu tím ở thế_giới di_động đồng_nai , tôi rất ưng_ý .\n",
            "1175 tin vào mấy ông reviewer điện_thoại đúng là một sai_lầm , chiếc a51 của mình có hai vấn_đề thứ nhất là cảm_biến tiệm_cận khi gọi điện ko dc nhạy lắm gọi xong hạ điện_thoại xuống màn_hình ko sáng trở_lại . thứ hai là màn_hình màu_sắc phải nói là tệ , so với các hãng khác cùng mức giá đều thua ở điểm này . màu_da người sẽ sậm màu hơn máy khác , các màu_sắc khác đều ko tươi_tắn . trong khi mấy ông reviewer lại khen tấm_tắc cái màn_hình . mình tin là máy a71 và a51 nào cũng bị vì đây là vấn_đề của tấm nền màn_hình đc sử_dụng trên 2 mẫu điện_thoại này . mua máy chủ_yếu để xem phim mà giờ thấy khá thất_vọng .\n",
            "1176 con samsung này dùng chán quá suốt dùng chơi game toàn bị lag . lắp 2 sim thỉnh_thoảng lại bị mất sóng 1 sim . pin thì tụt_dốc không phanh . mình mua con a70 với con vsmart live của việt_nam thì con vsmart dùng ngon và pin trâu hơn giá có hơn 3triệu . samsung nên xem_lại .\n",
            "1186 quá tệ nt 1 lúc là giật quá sai làm với lựa_chọn . bỏ số tiền 7t ra mua dt về . cảm_thấy bị gạt nhièu hơn . sản_phẩm quá tệ\n",
            "1188 sản_phẩm khá ổn trong tầm giá , ping khá trâu , khá mượt , nhưng mk mua thì b ị lỗi tai nghe cấm vô vẫn có âm_thanh loa ngoài , và không có báo là đã cắm tai nghe\n",
            "1190 màn_hình tràn viền mỏng rất đẹp , oai . nhiều người nói pin tụt nhưng tui lướt face , mes , gole , .... mãi pin từ chiều_tối hôm_qua đến giờ vẫn trên 70 . rất xứng_đáng hơn a51 trong tầm giá dưới 8 triệu .\n",
            "1193 chụp hình quá tệ . không đáng với giá_trị bỏ ra.mọi ng cân nhẵc trk khi mua.quá tệ với số tiền trên 13tr\n",
            "1202 máy e ms mua trưa qua tại tgdhnay e xạc đầy pin và chs game pubg đc 3 tiếg.trog khi trên máy k có bất_cứ ứg dụg j hay_là game khác nữa . cho e hỏi nv có fai pin bị lỗi k s nhanh hết v ạ\n",
            "1204 dùng đc 1 tháng , máy cảm_ứng k nhạy , mang ra tgd gửi đi bảo_hành , xong nhận máy về dùng vẫn bị lỗi cảm_ứng , thật_sự thất_vọng\n",
            "1208 máy thực_sự quá đẹp và đẳng_cấp , khả_năng hoàn_thiện phải nói là tốt nhất của samsung từ trước đến nay , màn_hình tràn viền sexy và đẹp nhất thế_giới , hiệu_năng thì quá mượt_mà rồi , thực_sự xứng_đáng với số tiền bỏ ra ..\n",
            "1217 lướt mượt dẫu phản_hồi chậm khoảng 0.2 s nhưng tạm ổn , game oke , bật mức trung_bình là chiến cân hết , điểm trừ là giao_diện màn_hình nhìn cực_kì bực mắt , wifi bắt kém hơn của xiaomi , nhưng cũg không quá tệ lắm , vẫn ngon , khuyên nên mua bản 4g / 6 4g b thì tốt hơn\n",
            "1218 lần đầu thử mua máy hãng trung_quốc xài mà quá thất_vọng , máy chậm_rì , lag giật khi mở ứng_dụng nhẹ như zalo hay uc , fb dù không cài game nào trong máy , lắp thẻ nhớ vào thư_viện 5 tiếng sau vẫn load hình_ảnh trên thẻ nhớ chưa xong dù chỉ xài thẻ 32gb ,\n",
            "1219 mình mua máy đc 18 ngày rùi , máy xài thì ok , có đều e ai gọi đến ko nhận cuộc_gọi đc , tin nhắn cũng ko , phải khởi_động máy lại mới xài đc\n",
            "1227 sản_phẩm ok .. pin trâu .. có sạc nhanh , khi sạc bị nóng máy lắm sản_phẩm mới ra thì 6.490 ... gio con 5690 giá hạ nhanh mất mười mấy phần của giá điện_thoại\n",
            "1237 giá này sẽ không có đối_thủ , mọi thứ đều ngon , nói_chung là tuyệt , chụp hình nhiều chức_năng hay như máy cơ nhất_là khoản lấy sáng khi chụp đặc_tả rất chuẩn lấy đúng nét mới sập màng chụp , còn muốn chụp nhanh giữ nút chụp khoảng 5s là xong . chụp đêm tạm .\n",
            "1239 mới mua số chiều hqua pin khá trâu cảm_ứng hơi khó_chịu cam hơi xấu lưu_ý cho ae nào chiến game thì chọn máy này nhé còn ai muon chụp ảnh đẹp thì quá dòng realme nói_chung 1 chiếc đt giá gần 4m cỡ này mà ad như_vậy là ổn r\n",
            "1241 đt máy đẹp , pin trâu . chỉ vào youtobe , fb , zalo , ko chơi game nên 2 ngày mới sạc 1 lần . cảm_thấy pin ổn . mấy ngày đầu vào các ứng_dụng còn bị đơ , tự out ra . nhưng dc nv kĩ_thuật hỗ_trợ nên máy chạy mượt hơn rồi . vào cho bù 5 sao\n",
            "1255 khi không dùng thì lâu_lâu sẽ có hiện_tượng tự_động mở bằng vân tay nhưng hiện lên_đồng chữ vân tay_không khớp vì mình đâu có mở điện_thoại , điện_thoại tự mở rồi tự không khớp về âm_thanh âm_thanh nhạc chuông tỉ_lệ_nghịch với media , nhạc chuông thì chỉ cần mức 2 là đã to có_thể đủ nghe , còn khi mở media thì phải mở ở mức cao nhất mới có_thể nghe rõ\n",
            "1259 a70 hình_như tất_cả điều lỗi khi chơi game là loạn cảm_ứng không di_chuyển được , liên_quân , mobile legend . máy mình cũng bị không biết lỗi gì hỏi admin tgdđ cũng như_không\n",
            "1260 máy ngon_lành đẹp bền . pin trâu . chụp ảnh tạm loa thì tạm không to nhung có đặc_điểm không lo rè vì bật anh hảo cover vẫn không rè ok xem phim ok chơi game ok . mỗi 1 tội là hay bị đơ . nhưng_mà mỗi ngày khởi_động lại máy 1 lần là hết đơ . nói_chung ok hết\n",
            "1265 tôi thích cái cảm_biến mống mắt mà_lại thiếu trên một siêu phẩm , độ bảo_mật của nó tiện_lợi và an_toàn hơn quét vân tay . camera thì lồi quá cao\n",
            "1268 máy mới mua về một ngày thì bị sập nguồn định mang đi trả thì khởi_động lại máy hoạt_động nên thôi , sau đó máy bị lag chơi game thì giật , thật_sự rất thất_vọng , khuyên mọi người không nên mua\n",
            "1302 máy sài tạm . pin quá tệ . bị lỗi hay sao sài mau tụt . coi fb cái bay vèo pin liền mới mua 4 ngáy ko hài_lòng tí nào . đổi thì mât tiền cũng phí . thời đaàh sài tạm vây\n",
            "1304 ai có ý_định mua về cày liên_quân thì máy này chưa phải tốt . chưa bật ful hd , chưa cài mức cao nhất mà vào geam tầm trận thứ 4 là thấy hơi giật lác .\n",
            "1307 dòng vivo khá bền tôi rất thích dòng này về độ bền của vivo vivo v5s tôi sài hơn 3 năm mà vẫn ok dòng này vừa mua lúc sáng thấy khá tốt\n",
            "1312 m mới mua được hơn tháng tại tgdđ cua ông quảng_ninh . sau hơn tháng dùng m rất hài_lòng với mức giá này , nv bán hàng các e ý rất thân_thiện . khi m mua là 5.690 , m đc giảm thêm 250k nữa vì đc là kh thân_thiện . với cá_nhân m đánh_giá máy dùng cuc mượt , pin khoẻ , sóng khoẻ , wf bắt cực_kỳ khoẻ luôn . với giá gần 6tr máy này quá xứng_đáng . mọi người nên mua mà dùng . m sẽ còn ủng_hộ tgdđ nhiều\n",
            "1321 đọc mấy coment của các bác thấy hơi kì mình thấy con này sài ổm trong tầm tiền mà không nói là ngon nhất mạng bắt sóng vừa đủ dùng , mượt chiền ful cấu_hình lqm hình có sụt fps nhưng nói_chung là ngon cam đủ dùng đừng có nhìn ở lúc chụp mà hãy nhìn vào lúc đã chụp thì mới thấy nó ổn cả trước lẫn sau _ cam trước gọi video cal đủ _ lúc chụp trước muốn đẹp thì cài ulike vô pin thì thừa sức sài 1 ngày rưỡi với tác_vụ bình_thường còn màn_hình thì hd thì hơi thua_thiệt với hãng khác nhưng ok không rỗ lắm còn vân tay thì chạm là mở rồi mà khuôn_mặt thì cho nó có đủ ánh_sáng nha nói_chung là ổn với tầm giá > >\n",
            "1332 mik mua máy cx gần 5 tháng r . máy mạnh chơi game ht bài , nhưng chơi 1 game nào đó hơi 180p nó sẽ tự ngắt 4g của . sạc nhanh , mượt_mà , tất_cả điều tốt . mà cho mik hỏi máy có trống dc nc ko ạ .\n",
            "1344 dạ máy rất tốt . nói_chung là rất tốt không có gì để nói . ngoài_ra cho mình hỏi là miếng dán màn_hình của con này bị nổi bong_bóng mới cả nó dính bụi cho hỏi làm cách nào để hết bụi ở miếng dán vậy ạ\n",
            "1349 nói_chung về pin thì ok chơi game thì ko biết có phải mình tháo tác nhanh quá khiến máy giật ko , có lúc nó hơi giật . ko biết là do game pubg hay do máy mà bấm vào x ở góc màn_hình để tắt kho đồ các kiểu , mà bấm mãi ko đc phải dùng đến phím ∆ của máy mở trình_duyệt thì mình có lưu icon web ở td bấm cái là vào , vậy_mà có lúc bấm mãi ko đc phải mở tab mới , mới bấm đc\n",
            "1356 sau gần 1 tháng trải_nghiệm thì mấy ổn trong tầm giá ... pin thì có_thể k trâu lắm nhưng cũng tầm một ngày nhưg nếu mọi người tắt ứng_dụng chạy ngầm với 1 vài thứ khác thì mấy pin rất ổn ... qua một đêm có_khi quên tắt 3g máy mình tuột tầm 23 thôi vì mk vào cài_đặt chỉnh_sửa một_số cái cần_thiết k gây hao pin .\n",
            "1366 mới mua được 10 ngày , máy rất tốt , chụp hình đẹp , chơi game mượt không nóng máy , loa ngoài rất lớn nhưng âm_thanh không trong bằng dòng ip6 , pin rất trâu sạc nhanh đầy , bạn nào mở 3g 24/24 thì máy nhanh hết pin là phải\n",
            "1373 cập_nhật phiên_bản mới xong hay bị treo máy , tắt nguồn k đc luôn , 1 lúc khá lâu nó tự tắt rồi bật lại . có ai bị giong mình k ạ\n",
            "1376 em mới mua được 3 hôm . mọi thứ điều tốt , sạc pin 2 tiếng đã đầy xài từ tối , tới chiều ngày hôm sau , mượt_mà , chụp hình đẹp nhưng nó mịn quá_xá luôn . k cần chỉnh áp luôn . nhưng nó hay bị đơ màn_hình , bấm k chạy . em không có chơi game gì nặng mấy cả . hôm_nay tự_dưng bị dính 2 quả tim trên zalo k hiểu nổi luôn . qtv tư_vấn giúp em ạ\n",
            "1378 mình thấy được mà cứ chê_ỏng_chê_eo . đt hợp làm vlog lắm camera chê siêu chống rung nhưng khi hết lưu_lượng 4g hoặc ko có wifi công_nhận là có chậm nhưng có wifi và sóng 4g đủ lưu_lượng tốc_độ thì tớ thấy mượn chơi liên_quân ok . nghe gọi nghe nhạc cũng ok . thích nhất vẫn là camera siêu chống rung\n",
            "1384 đã dùng 3 tháng , máy ngon chơi game cả ngày mới hết pin , sạc 2h30 đã đầy . vsmart là hàng mới nền phần_mềm còn chưa được đẹp như hãng khác nhưng cho bản cập_nhật liên_tục để fix lỗi vặt . ủng hộc vsmart để lớn nhanh hơn .\n",
            "1397 đã đổi đến con thứ 2 và đang định đi đổi con thứ 3 . máy đẹp , cam cũng đẹp , dùng khá thích . cho đến khi nó đơ như cây cơ . máy mới mua vài ngày mà đơ đơ liên_tục . con thứ 1 vừa đơ vừa chụp selfie bị lỗi , bouns thêm quả tụt pin thần_thánh = > đổicon thứ 2 , mượt được 2 ngày , giờ thì đơ , cam trước oke thì cam sau giở_quẻ , chụp ảnh lạc trôi luôn , may_mà pin xịn , dùng k nhiều lắm nên 2 ngày sạc 1 lần.giờ đi đổi cũng chả biết nên gởi lòng tin / vận may của mình vào máy nào . bác nào xài con nào ngon trong tầm giá 56 củ cho e xin ý_kiến . tks\n",
            "1398 mới mua máy a51 dc 20 ngày mà chán wa màn_hình hay dơ đơ . bultut thi luc nghe dc lúc hk . nản vãi\n",
            "1410 mua đc một tháng rồi dùng ổn mỗi_tội hơi bâm vân tay . chơi pubg mượt . bị lỗi loa trong nhưng đi sửa là do chơi game nhiều nên đơ reset lại là đc . pin trâu nhưng do các bn cứ để_ý quá kiểu tụt pin 1 tý là lại lo . quá ok với giá 5tr7\n",
            "1412 sau 2 ngày trải_nghiệm thấy máy tốt trong tầm giá , mượt , pin 6p tụt 1 chỉ dùng các tác_vụ bình_thường kh chơi game có dc kh mọi ngườikh hài_lòng lắm , camera nét , bắt wifi khoẻ .\n",
            "1414 máy a91 thiết_kế đẹp_mắt cấu_hình thì ok . nhưng về camera dc trag bị 48 mp khi chụp chưa dc đẹp lắm xử_lý ảnh ko rõ nét và làm biến_dạng ảnh về pin thì sạc rất nhanh và tôi đag lo_lắng liệu sạc nhanh v thì có sao ko . và khi trải_nghiệm nói_chung pin đầy chơi game nghe nhạc xem phim trong 5 tiếng thì cũng khá là ok còn nếu chỉ nghe nhạc lướt wed thì cũng ít_nhất là 8 tiếng cũng tạm dc . có_điều camera tôi chưa dc hài_lòng lắm .\n",
            "1416 mới mua hôm_qua . sau mấy ngày tìm_hiểu cái điện_thoại này mk thấy đt có luôn bản cập_nhật t3 rồi có nhận_diện khuôn_mặt , nhưng thingr thoảng tối không nhận được . bắt mạng khá tốt không thấy bị lỗi . pin thì trâu thật . nói_chung là ổn lắm .\n",
            "1435 máy dùng cũng ok . nhiều chế_độ thông_minh ở phân khúc tâm trung . giá ở tầm 8tr4 thì hợp_lý hơn . còn ai hay chơi game k nên mua vù đa_điểm cảm_ứng hoặc phần_mềm chưa tốt bị lỗi di chuyền trên game pubg và liên quângame mk testđang di_chuyển thì đứng lại .\n",
            "1461 máy dùng khá mượt pin trâu chs game ngon nếu chs pubg mà dùng gyro thì nên xem_xét vì máy này dùng gyro di tâm khá chậm hợp vs ai mua về chs game còn ai muốn sống ảo chụp hình đẹp thì mua máy khác\n",
            "1487 cụm 3 camera . nhưng camera đầu và cuối để làm cảnh , chỉ có camera giữa chụp đc . nhờ đó thiết_kế trở_nên sáng trọng = . vân tay nhạy . còn lại chất_lượng xứng_đáng với tầm giá\n",
            "1500 mình mua đã 2 máy cho ba và mẹ sử_dụng rồi với nhu_cầu giải_trí , facebok , nghe gọi cơ_bản . đến nay đã qua vài tháng vẫn ổn_định . pin trâu , bền . mình thấy các bạn khác chê quá . máy có 1 triệu hơn mà đòi_hỏi cao quá mấy ba\n",
            "1506 đt lỗi toàn_tập từ mạng 4g tới màn_hình loa đủ thứ . nói_chung lỗi toàn tập.chãng hài_lòng được gi . khuyên ai có ý_định mua thù nên suy_nghĩ lại.chứ mình mua là thấy sai lâm rồi\n",
            "1514 em mới mua còn này mà cảm_ứng quá tệ_hại .. tệ nhất điện_thoại mà em từng dùng .. bỏ ra hơn 9 triệu.mà đổi được cái đt cảm_ứng tệ_hại như thế_này . bạn nào chưa dùng thì mình khuyên thật các bạn không nên mua a70 nhé .. mình mới dùng mà mình muốn đổi con mới luôn ý .. vân tay thì yếu.cam ứng nảy lung tung..nt nhiều khi muôn vứt luôn cả đt\n",
            "1516 cảm_thấy rất hài_lòng về sản_phẩm , chơi game , gọi điện coi phim nghe nhạc rất tuyệt_vời , chỉ hơi tiếc về camera viên thuốc , khiến coi phim không thoải_mái lắm , dù_sao cảm_ơn các anh_chị ở cn phước_long , đã hộ trợ tư_vấn giúp mình\n",
            "1525 có ai bị lỗi màn_hình dóng mình không.dag xem ytb quay ngang màn_hình là bị nhìu đường sọc sọc nửa màn_hình nhìn khó_chịu ghê . còn lại là ổn .\n",
            "1545 trong tầm giá này thì y1 cân tất quá ngon so với xiaomi redmi 8 và không hối_hận khi mua máy này máy này sánh ngang với nokia 5.1 vplú vẫn ok\n",
            "1552 mới mua về sài đc 1 tháng là máy ổn . về sau máy có tình trạng màng hình cảm_ứng hiển_thị lung_tung . chụp màng hình không đc . sài 1 chút máy đã nóng tay ko chịu đc . tầm giá mua 7.790 vs thương_hiệu lớn như samsung làm mình trải_nghiệm rất tệ .\n",
            "1557 đang định mua mà phân_vân với con nokia 7.2 thực_sự mà nói thì chât lượng hiển_thị va chât lượng ảnh chụp cua nokia gần_gần như iphon , chứ những con này thông_số là 64 mp mà chụp chât lượng va độ thật chi tiêt bức ảnh còn thua cả 12mp iphon...ngta thường nói thùng_rỗng_kêu_to mà\n",
            "1567 mua sd 1 hôm chơi game đc 2h máy treo . mang qua đổi cái mới vẫn ko khắc_phục đc . máy yếu ra .. dùng đc hơn tháng lại bị lỗi khi nghe cuộc_gọi đến ko đc . phải bật loa ngoài .. lần đầu sd sp bên này nãn thật . có_thể ht đổi sp khác ko vây\n",
            "1592 mình mới mua hàng xiaomi note9s thấy g hi thông_số kỹ_thuật là dùng chip 720g nhưng khi về kiểm_tra trên phần_mềm thì nó báo là chip 712 tgd lừa khách_hàng rồi đề_nghị admin của tgd kiểm_tra lại và ghi lại thông_số . máy chạy game nóng\n",
            "1598 mờ khoá vân tay ko đc nhanh , chơi game thì có nhiều hiện_tượng lag rất khó_chịu , wifi 4g thì cũng ổn_định , nghe gọi cũng oke , lướt wed cũng lag . nói_chung là s a50s ko đánh với cái giá hơn 6tr\n",
            "1599 máy rất mượt . mua đợt sale giá 8tr5 . pin cực tốt xài vài ngày sẽ ổn . loa to . màn_hình thì khỏi chê . sóng_sánh cực ổn_định ưu_điểm vỏ nhựa . máy nhẹ , cam cực tốt . chip tối_ưu rất tốt . vân tay nhạy . có thương_hiệu hàng chính hãng cty đừng so_sánh với hàng_xách tay tq . cảm_ơn\n",
            "1609 lúc đầu chơi game pubg xong thoát ra thì bị đơ luôn màn_hình . phải đợi màn_hình tự_động tối lại mới hết . thấy vậy đem ra đổi . giờ máy mới về dô game pubg thì tự quay màn_hình qua trái . xoá đi tải lại thì tự quay qua phải . mua để chơi game mà như_vậy thì tiêu . bên nhân_viên xem mà đổi lại máy đàng_hoàng cho mình . chứ vầy không hài_lòng 1 chút nào\n",
            "1614 mình cũng sành công_nghệ . mua e này xong thì thất_vọng quá mức . rất rất ít chức_năng . chỉ gói gọn trong từ buồn . em này giá dưới 5 triệu . mới mua 3 ngày . ai cưới gả liền . mua hum trước giá 790k . chán lắm .\n",
            "1616 ngoại_trừ việc pin quá hẻo 1 ngày mình phải sạc 2 lần là ít và rom 1gb thì nhiều lúc đơ đơ , còn lại mình không chê được vào đâu máy s60 này . đến bây_giờ mình mua máy được gần nủa năm rồi , mà máy vẫn chạy phà phà , đủ cho mọi thao_tác cơ_bản trong cuộc_sống . với mức giá hạt_dẻ này , thì mobel s60 là lựa_chọn vô_cùng sáng_suốt\n",
            "1621 mới trải_nghiệm nhưng máy thao_tác cơ_bản thì ổn , nhưng so với con realme c3 thì pin ko bằng , thao_tác trên game ko nhanh , tiền cao hơn realme c3 gấp đôi , nhưng hiệu_năng ko bằng , giờ ko đổi được , thất_vọng\n",
            "1625 iphone của aple thì k chê được rồi chê mỗi pin của iphone thì tất_cả đều dung_lượng thấp và từ iphonex không còn cảm_biến vân tay nếu kết_hợp cả vân tay và face id và nâng thêm dung_lượng pin thì hoàn_hảo android không bao_giờ theo kịp kảnh mình chụp thử_nghiệm thôi nhé\n",
            "1635 mua được 1 tuần , lướt web lên mạng liên lục cũng dc 7,8 tiếng . 3 ngày đầu pin ok , để cũng dc 2 ngày nếu ít lướt web . mấy ngày sau pin tụt nhanh , sáng sạc đầy 10 đem đi làm chạy tới chỗ làm khoản 8 phút mất 1 pin . sạc nhanh , hơi nóng máy lúc sạc . wifi bắt hơi kém . được cái chụp hình_sắc nét , loa to nghe nhạc đã tai , có_điều nghe âm_lượng lúc thoại trong cuộc_gọi hơi lớn , người đứng kế bên cũng nghe thấy , đang kiếm chỗ chỉnh mà chưa được . nhân_viên tư_vấn nhiệt_tình , dịch_vụ tốt .\n",
            "1658 máy sài rất ngon các tác_vụ lướt facebok , zalo rất nhanh , pin rất khoẻ 50mình sài chơi game 910 tiếng mới hết pin , thời giac sạc tầm 2h2h30 đầy pin , chơi game rất mượt luôn rất ngon tầm giá , anh_chị nhân_viên tgd dễ_thương nhiệt_tình . ae nào thích pin trâu , chơi gaming tốt nên lựa con này nha .\n",
            "1662 đang sử_dụng s a10 ko máy rớt vô hông . ra tgd mua luôn e a10s . xin được có ý kiện cái hơn chỉ có mới vân tay là ra_hồn . còn camera thêm 1 cái đó góc rộng đó sau nhưng ko thấy sự khác_biệt . cái thua về hiệu_năng a10s sử_dụng chíp mtk helo p2 chậm hơn nhiều so với a10 thường . chưa kể đến giá kênh đến 70k . nếu quay lại tôi vẫn sẽ chọn a10 thường . ace tham_khảo xin cám_ơn và cân_nhắc\n",
            "1674 rõ_ràng là mua máy đang khuyến_mãi mà mình phải hỏi thì nhân_viên tgd mới kiểm_tra và báo lại . xong rồi mua ốp lưng . giảm 49 từ ngày 13.5 đến 31.5 nhưng hôm mình mua là 2.5 vẫn không được giảm_giá . và lấy của mình giá gốc ..\n",
            "1683 mới mua cái màu đỏ được 1 tuần tại shop nguyễn_trãi q5 , khỏi phải bàn_cãi về chất_lượng , màn_hình to , nét , chip khủng , pin trâu . bùn cái là phải đầu_tư thêm bộ sạc nhanh mới sạc nhanh được.shop nguyễn trãi có_vẻ thiếu các bạn tư vẫn nữ\n",
            "1688 đã dùng được 18 ngày , ... gặp một_vài lỗi sau đâycamera trước thụt thò chậm , sóng yếu , nếu ở trong phòng thì chỉ 12 vạch sóng , lỗ phát loa thoại nhỏ nên phải căn đúng lỗ tai mới nghe rõ , loa ngoài mở lớn bị rè .\n",
            "1698 cá_nhân mjh mua con này dùng dc 1 ngày cảm_thấy như sauưu điểm trong tầm giá là pin trâu và sạc cũng nhanh . màn_hình nét đẹp , chơi game ổn_định , lướt wep mượt , camers sau chụp đẹp hơn live đời_đầu nhược_điểm là camera trước khá tệ ... loa lúc mới mua hơi kém nhưng cập_nhật xog loa ổn .. máy chơi game nhanh nóng ở phía lưng . ứng_dụng nhìu lúc tự thoát ra . mong hãng sớm có bản vá lỗi . ... nói_chung là giá 4tr ăn_đứt mấy hãng khác và được vsmast biết quan_tâm lắng_nghe người dùng .\n",
            "1712 mình dùng được 1 tuần cảm_thấy ở tầm giá này thì con này khá ok . chơi pubg khá ổn , đồ_hoạ thì bật hdr và cực_độ thì chơi vẫn mướt k giật lag . tuy_nhiên nếu bật đồ_hoạ cao thì sẽ hao pin và nóng máy đó là chuyện bình_thường . pin thì cũng khá ổn , camera cũng khá chứ k gọi là chụp đẹp . tuỳ nhu_cầu của mỗi người thôi , riêng mình chỉ cần chơi game nên còn này mình cho 5 sao , cảm_thấy trong tầm giá này e này ăn_đứt mấy e khác . nhân_viên tgdđ thì lúc_nào cũng dễ_thương rùi haha .\n",
            "1716 pin trâu cực_kì nghe nhạc 12 tiếng mà vẫn còn 50 , chơi game thì mượt khỏi bàn . tự_hào hàng việt nam.ít khi đánh_giá gì nhưng nay mua đc con máy ngon quá phải đánh_giá cho ae mua vè chiến game thì khỏi bàn\n",
            "1718 mình mới mua đt samsung a1 sản_phẩm rất tệ pin nhanh tụt , dù mình mở độ sáng nhỏ nhất loa mở trung_bình nhé nhỏ dù mình chỉ lướt web không xem phim bin cũng nhanh từ để không cùng vậy\n",
            "1727 là 1 fan của samsung nhưng tôi cảm_thấy thất_vọng về ẩn phẩm rất nhiều . dù đã đổi máy mới nhưng vẫn bị các tình_trạng như sau nhận wifi chậm và hạn_chế bán kính.vân tay lúc được lúc không và mất khoảng 2s để nhận_diện cả máy cũ và máy mới đã đổi chơi game khoảng 10p có hiện_tượng giật , đơứng dụng dư_thừa quá nhiều.sài mes hoặc zalo kiểu thả_nổi vô_cùng giật máy , có lúc đơ máy tự tắt nguồn luôn . được cái pin trâu chắc do mới chụp hình cũng gọi_là tạm được tầm giá này không hợp_lí tí nào . thật hối_hận khi mua máy .\n",
            "1731 đã mua ở điện_máy xanh . nhân_viên nhiệt_tình phục_vụ chu_đáo . lần đầu sài iphone cảm_giác sướng camera tạp đc . đang dần làm_quen với ios . hôm_nay là 15 ngày chưa thấy lỗi gì cả . còn 15 ngày nữa theo_dõi máy như_thế_nào . con_tính tiếp.hơn 25 triệu ôi cái giá phải trả . cảm_ơn dienmayxanh đã mang lại cảm_giác mua sắp thoả mái thân_thiện vui_vẻ .\n",
            "1746 máy mạnh xài rất ngon và tốt camera chụp hình đẹp dung_lượng bộ_nhớ cao chip g90t chơi game max phê với k nóng mà s bác nào cũng la chơi nóng vs lỗi trong khi mình chơi thì có cảm_thấy lỗi vs nóng gì đâu nhở nóng nhìu nhất cũng 40 độ thôi là cùng nói_chung máy xài rất đã và ok , nhân_viên tư_vấn vui_vẻ cảm_ơn .\n",
            "1758 chip snap 730 ram 8g giá 10tr phải nói xài mau chán .... 4g bắt yếu tuột 3g liên_tục ... chip chơi game lq để cấu_hình trung_bình chơi game đầu thì ngon qua mấy game sau chip nóng bắt_đầu bị giật lag .... dòng này được cái pin trâu thôi xài tác_vụ trung_bình thì ok còn chơi game hay tác_vụ nặng thời_gian dài thì thua\n",
            "1760 dùng đk 3 tháng đang ở bãn miui 3.12.0 để qua đêm k bị tụt pin pin 4k cũng ỗn k trâu lam\n",
            "1769 máy mới mua được 2 ngày , nhưng vào mạng wf lại văng ra hoài , vào game & fb mấy lần cũng lỗi luôn , phải khởi_động lại mới kết_nối internet được . máy sạc pin màu vô cũng màu hết , onl 4 tiếng hết sạch pin trong khi máy nhỏ em bằng dung_lượng pin lại còn hơn phân nữa ..... về vấn_đề vào mạng mk muốn hỏi vậy có phải là lỗi nhà sx k nhà mk xa tgd lắm\n",
            "1771 không phù_hợp với giá tiền màn_hình fun hd chứ không phải 4k hay 8k nữa mặt lưng nhựa dùng dat khó_chịu camera thì quá tệ có 12mp thôi thất_vọng hoàn_toàn đây là cải lùi của samsung mà không phải cải_tiến nữa không phải sản_phẩm cao_cấp nữa dùng rất chán\n",
            "1787 mới mua hồi chiều . xài cũng ok . mình mua cho bé nhà mình 3 tuổi chỉ xem youtube , trên show rom mình ko để_ý , về nhà mở trình_duyệt web ra nó lưu lịch_sử như hình , tắt mở lại nó vẫn ở đó nó ghim luôn mình thật_sự hoang_mang , may bé nhà mình chưa bấm vô , mình phải mò mãi mới xoá đc nó . mình mua hàng mới 10 mà giờ có cảm_giác như đang xài đồ của ai đó sử_dụng rồi ah . lúc mua hộp cũng ko còn nguyên seal . hay hàng này là hàng đổi trả ta . bó_tay , trong khi mình bỏ tiền mua mới\n",
            "1794 tuyệt_vời quá luôn ý . đã là 1 tín_đồ mê dòng đt opo lâu lắm rồi . ưng từ cái màn_hình đến các chứng năng của máy . nhất_là camera trước và sau phải gọi là tuyệt_phẩm . mê quá\n",
            "1796 xài 1 thời_gian thì sạc chậm vào pin nhằm lúc pin không vào mặt còn nóng máy ... máy có hỗ_trợ sạc nhanh mà cắm sạc lại không thấy\n",
            "1798 ngày đầu_tiên mua về thì khá tốt . chơi pubg mất mẹ 12 pin , nhưng ok đây hiểu . nhưng đel hiểu sao ngày thứ 2 và thứ 3 chai mẹn 8 pin , chưa hết sặc máy đến 10 pin lúc 7h thì còn 65 khi 1h . củ_đậu . khuyên tiết_kiệm tiền thì đừng mua , thừa tiền thì kệ không ai care .\n",
            "1817 được gia_đình mua cho con redmi note 7 cũng đc 1 tháng lúc đầu mua về sài đc 1 tuần thì tình_trạng tự ngắt wifi và dùng được 2 3 tuần thì pin tụt hơi nhanh so với lúc mới mua và tình_trạng tự ngắt wifi cứ liên_tục xẩy ra khởi_động máy thì nó vẫn v\n",
            "1819 sản_phẩm dùng cho nghe gọi ok . loa lớn . màu_sắc xanh đen lạ , điện_thoại đẹp , nhỏ gọn , nhẹ . nhắn_tin hơi chậm . tính_năng bluetoth để nghe gọi hay , rõ nhưng thỉnh_thoảng máy k0 kết_nối . màn_hình không đẹp nhưng điện_thoại cơ_bản cũng k0 cần_thiết .\n",
            "1834 xài rất ok chơi game thì rất mau hết pin còn để nghe gọi thì hơn 1 ngày xem phim này_nọ thì hơn_nữa ngày camera chụp rất đẹp . nói_chung rất là ngon khi chọn iphone 7 plus .\n",
            "1844 hôm bữa có đánh_giá về sản_phẩm 2 * , vì bị đen màn_hình điện_thoại . nhưng mình tắt nguồn và mở lên thì đã bình_thường trở_lại . không còn vấn_đề gì nữa . điện_thoại mình chỉ dùng để lướt fb vs liên_lạc là nhiều , nên ko có vấn_đề gì ko ổn cả . máy cũng dùng khá ok . chỉ là lần trước máy có 1 lần bị treo và lần này bị đen màn_hình , nhưng mình đã có lên mạng và sửa lại được và vẫn dùng ổn\n",
            "1857 tất_cả ok hết chỉ có pin tụt khá nhah khi k cài tiết_kiệm pin .... mình dọc từ 9h tôi gần 14h hết 50 khi không cái tiệt kìm pin ... max sáng ... ol suốt ... đ êm nhận_diện khuôn_mặt cùng khá nhah khi không có ánh_sáng chỉ có nền dt . bn ngày thj nhận_diện nhanh . mới mua lúc sáng dọc dc v thời ... h dag test chế_độ tiệt kìm pin ... àk mà bắt wf cùng khá ổn ạ ... mấy b xem_lại wf mình dag xài đi ạ\n",
            "1893 camera nó s á mấy bạn ơi chụp không sắc gì cả chụp bị nhoè ... hình_ảnh màu nhạt tái ... còn lai dùng bình_thường chỉ tiếc camera máy này chỉ đáng tầm 56tr\n",
            "1898 mua dt này cách đây 2 tháng , và đã đổi cái này là cái thứ 2 , cái đầu mua bị lỗi mạng chậm và k gửi dc ảnh 64mp , đổi sang cái thứ 2 thì khi xài dc gần tháng thì bắt_đầu lại là lỗi wifi , ful sóng mà chơi game thì chập_chờn nên lag , và đặc_biệt là anh_em nào làm tài_xế hay thường nghe tai nghe bluetoth để nói_chuyện điện_thoại thì k nên mua cái này , vì tai nghe bluetoth khi nói_chuyện với người khác , thì họ không nghe dc tiếng mình nói đâu nó rất nhỏ\n",
            "1901 điện_thoại xài rất oke , chup anh tuyệt_vời chức_năng tuyệt_vời pin khủng xài cả ngày chơi game lướt wep tẹt ga nhưng từ lúc sd dòng xiaomi đến nay . tui công_nhận chưa có coa cái đt nào quét code qr và 128 cùi như con này cực_kì dở , bực_mình , dở tệ . . quét code dợi 20s 30s mới quét xong .\n",
            "1908 đã từng sử_dụng qua opo reno 2f . chơi game có phần mượt hơn nhưng cũng có nhiều lúc đứng máy hoặc văng game . có_khi như bị lỗi , chết máy hoặc chậm máy , camera trước cũng lỗi phải tắt nguồn khởi_động lại máy . ảnh chụp chân_dung khi kê sát mặt sẽ thấy bị lỗ , bị nhoè . lần đầu chuyển qua xài opo cảm_thấy tiếc tiền .\n",
            "1915 mới sài được 3 ngày sản_phẩm thì khá là ok , lỗi thì chưa thấy nhưng chỉ có cái nghe gọi thì loa hơi nhỏ phải bật loa ngoài mới nghe được , chụp hình thì đẹp rõ chơi game thì đối_với liên_quân nha , lúc không giao_tranh thì mạng hơi cao nhưng lúc giao_tranh chỉ 8ms hoặc ít hơn , còn bubg thì mượt bắn thì khá là đc mạng thì không cao lắm mua tầm giá này chắc là ok pin sài thì 2 ngày sạc 1 lần có chơi game đấy , 1 trận liên_quân mấy chục phút mà tuột có 45 ℅ pin thì khá là ok\n",
            "1928 sao đt e sạc đc tới 85 e rút thì pin tụt xuống 79 rất nhanh nhưng từ 79 thì e lại xài tới ngày_mai luôn mong bên shop phản_hồi giúp e ạ e mới mua đc 1 tuần thì bị\n",
            "1929 máy khuyên thật dung chơi game nóng pin sụt nhanh vì trc dùng max 2 thấy quá nhanh . cam trước xấu kinh_khủng . cam sau thì 12mp thôi . dùng gcam chụp cũng đẹp đó mn viên nhựa nhìn kì . mọi người nên mua củ sạc nhanh sạc sẽ nhanh . sạc nóng dùng nóng chắc do kính . sóng bắt hoi kém . có s nói vậy ko dìm vì mình fan mì\n",
            "1941 giá 2.9 được gì . 1 wifi định_vị mạnh và nhanh . pin trâu . màn_hình sáng rõ . chạy xe công_nghệ quá ok . 2 camera đánh_giá chụp sáng ok nhưng thiếu sáng nhìn nó giống bức tranh hơn bức ảnh độ chi_tiết kém thua cả con máy giá 2tr3 đổ lại . 4 phần mền tối_ưu tốt phản_hồi nhanh . kết_quả còn máy phù_hợp với xe_ôm công_nghệ hơn và học_sinh sinh_viên hơn\n",
            "1948 máy chỉ được cái màn_hình 120hz còn lại đều tệ . hiệu_năng rất rất kém , chắc chỉ bằng snap 720g nhưng lại nóng rang và hao pin cực_kì . samsung sắp đến ngày tàn vì mãi ôm cái exynos này.mua con này 20tr và thấy chỉ đáng 10tr . khuyên mọi người nên mua các dòng khác vd note 10 lite snap 85 hoặc mua bản s20 ultra snap 865 .\n",
            "1952 mình dùng cũng gần 5 tháng rồi . mới mua về thì sài ok lắm nhưng_mà dạo gần đây hay bị lag . mở vân tay thì 4s mới lên . bấm nút nguồn cũng lâu như vân tay v . ai có cách khắc_phục ko ạ . nói_chung mọi thứ đều ổn .\n",
            "1956 nói_khó tin nhưng là sự_thật , mình đang sử_dụng tự_nhiên nó bị cong từ_từ làm mình sợ nổ quá_trời luôn , . đem ra thì không được bảo_hành nửa , điện mua chưa được 2tháng chán thật\n",
            "1968 máy rất xứng_đáng với giá tiền , pin trâu , giao_diện đẹp , vân tay và face id cực nhạy , màn_hình viền mỏng đẹp không có vướng cam nên độc_đáo . cam đẹp khỏi bàn opo khỏi nói . mua về ai cũng khen đẹp . sạc nhanh mà ko nóng lắm . tái_bút opo reno 2f ko có gì để chê . nên mua vì khi mua về mới quay lại cảm_ơn tui .\n",
            "1972 mọi thứ đều rất ổn , ngoại_trừ vân tay được 1đ , giống như thời mà điện_thoại hàng lậu giả mở khoá bằng vân tay vậy , đùa chứ mở mãi vân tay ko được ấy , pin bình_thường\n",
            "1989 lỗi phầm mềm , sạc pin ko vào , đem ra bảo_trì thì cài lại máy . _ . vẫn ko hết lỗi , mua quả máy 4tr10k ram 3gb về để chơi pubg lag vãi chưởng\n",
            "1997 lần đầu nhìn máy rất ấn_tượng về thiết_kế , camera chụp rất đẹp , đúng là opo chuyên camera nên tấm nào chụp cũng đẹp , pin sạc nhanh voc nên không sợ vấn_đề về pin . mình ghét màn_hình khuyết_điểm như đục lỗ , giọt nước , .... nhưng reno2 f đã làm tốt điều này , điểm cộng là máy dùng tấm nền amoled nên màu_sắc rực_rỡ . máy tác_vụ khá mượt , nhưng game thì tạm ổn . nói_chung , mình rất hài_lòng vố sản_phẩm này .\n",
            "1999 mình có mua sản_phẩm này cho mẹ dùng , tất_cả ok vượt mong_đợi với tầm giá , pin rất trâu , cảm ưng nhạy . màn_hình to dễ bấm , wifi 2 cục nhưng chạy rất nhanh 2 hay 3 cục chỉ là do hiển_thị thôi , chứ ko phản_ánh chất_lượng bắt wifi . chí có tính_năng chạm tắt màn_hình hơi khó xài .\n",
            "2000 mới mua về . chưa tìm_hiểu bên trong gì cả . nhìn đẹp quá , phím bấm bàn_phím rất nhẹ và sướng . máy đẹp , nhìn chất_ngất luôn . đặt_hàng 7day nhưng chỉ 2 ngày là có . để time tới mân_mê mình mới đánh_giá kỹ hơn được . mới cầm trên tay nó sướng , nó phê như cầm tay bạn gái vậy á cám_ơn tgd\n",
            "2001 trước khi mua hay đắng đo một_chút vì lên xem coment toàn là rất ít sao , nhưng khi trải_nghiệm mua về thì đôi phần cũng rất đúng . sạc nhanh thì vô_cùng 10 sạc tầm 1h30p là cùng . chụp hình thì khỏi chê , bao ảo , bảo đẹp , mình bỏ gần 7 chai là mua camera nên rất hài_lòng . cảm_ứng vân tay và khuôn_mặt nhiều người bảo là k nhạy nhưng theo mình là nhạy và tốt . pin thì k trâu lắm , nhanh xuống lắm , tư 10 xuống 9 rất nhanh . opo a91 ok nhưng pin thì nên xem_lại .\n",
            "2005 mới mua mọi thứ tốt trừ cameracamera siêu lồi lồi ra khoảng 2 m với 4 camera sau cấu_hình khủngnhưng độ chi_tiết của ảnh thì không bằng con redmi note 4 cũ đã test thửthật hài_hước\n",
            "2022 lúc chơi game moba con_quay chuột thi_thoảng mất kiểm_soát bang bang pubg mobile pin cực trâu 50 độ sáng vân tay nhạy ghê ấy mà đọc toàn lỗi sóng_sánh thật_sự noai thì cùng điều_kiện hết tốc_độ cao 4g nhưng_mà con j3pro 2016 chip 410 nó load fb mượt kinh mà con a70 này load toàn trắng màn_hình phải một lúc mới có wifi bắt yếu hơn mấy con china sự_thật , còn lại tuyệt_vời\n",
            "2029 quá tệ . lỗi màng hình . đơ cảm_ứng siêu_âm . tắt đen màng hình khi đàm_thoại phải bấm nút nguồn mới phát sáng đúng_ra chỉ chạm màng hình 2 lần . cuộc_gọi tới chỉ nghe chuông màng hình tối đen . đổi trả máy nhiệt_tình vì có quá nhiều kinh_nghiệm chăng . yêu_cầu máy còn seal hộp thì được trả_lời toàn_bộ máy bên em mở seal hộp sẳn hết rồi a71 redmi note 9 pro đều được trả_lời như nhau .\n",
            "2039 mua lúc tháng 4 mới_đầu chơi rất tốt pin trâu và nhạy nhưng bây h tôi chơi pin xuống rất nhanh lúc trước chơi 1h mất 2 nhưng bây h chơi dc 1520p mắt 3 rồi tắt máy k chơi còn hiện_tượng xuống pin 12 pin , chơi liên_quân lúc đầu rất mượt nhung h nó rất lag k tính_mạng yếu thỉnh_thoảng nó cứ giật giật rồi kêu tiếng j đó rè rè ...chung sơ_bộ 2 tháng này phả đợi xem sau nó sau nx nên 4 sao thôi\n",
            "2041 mới mua đc 1 tuần . pin 40 mà quá tệ , cảm_ứng hơi đơ , nhận sim bị lỗi lúc nhận lúc không , đó là chưa thử nghe nhạc , chơi game nghe các bình_luận khác có_vẻ ko ổn lắm , mà pin vậy chơi kiểu j đc . có chính_sách 1 đổi 1 mà ko biết họ hành_xử sao đây . cảm_thấy lo_lắng , ôi trời giá_mà khi mua đừng chỉ dựa vào thông_số .\n",
            "2048 mình mua được 2 ngày . tầm giá này mà camera máy chụp ảnh đẹp . camera sau xoá phông chuẩn . chụp đủ sáng màu tươi . camera trước xoá phông siêu đã . vân tay_trong màn_hình ok . nói_chung samsung kèm thêm tính_năng hay thì ăn_đứt mấy hàng tàu rồi ạ\n",
            "2052 điện_thoại hoạt_động ổn đinh , thiết_kế đẹp_mắt . camer chụp đẹp màu , sáng . pin trâuđể cả đêm tụt 1 nếu tắt hết các thông_báo , ... , ..... đối_với giá tầm trung mình tin_tưởng huawei .\n",
            "2067 mjh mới đổi dt opo reno 2f opo reno 4 đc 2ngay thấy sai ok lam reno 2f sai k im lam sai k hài_lòng opo reno 4 ok nhé mấy bạn\n",
            "2068 sau 15 ngày xử dụng em note 9s này mình có đánh_giá như sau mức điểm như sau so với tầm giá 6 triệu sản_phẩm nhìn khá là đẹp 9 điểm camara do mình thấy đủ dùng 8 điểm chơi geam liên_quân khá ok 9,5 điểm máy sử_dụng tác_vụ và chơi geam 8h 9h sóng điện_thoại hơi kém tầm 4 điểm bắt sóng tệkết luận ae mua về xác_định sóng_sánh hơi chập_chờn\n",
            "2073 máy mình bị lỗi còn bảo_hành mà đem ra tgd đổi lại thì nói ko có gì khuyên các bạn nên mua redmi note 7 cho đã rẻ ko bị lỗi máy thứ hai của mình là opo a7 chơi game liên_quân ko hiện_tượng giật lát sps 31 đỡ hơn con đt thứ 1 là s a70 chơi game bị giật lag\n",
            "2076 vsmart joy 3 pin trâu , màn_hình hơi tối trong tầm giá này là ok . nhân_viên tư_vấn tốt , thân_thiện , máy mình mua bị lỗi nhận viên nhiệt_tình cho đổi dù máy k có tại cửa_hàng , phải chạy nợi khác về đổi . mua đt tại thế_giới di_động gầp bồn_binh cầu lấp_vò , huyện lấp_vò tỉnh đồng_tháp .\n",
            "2079 nói_chung là cũng ổn trong tầm giá . máy xài tác_vụ cơ_bản như facebok , zalo , web , youtube thì quá ok . chỉ chơi game nhẹ nhẹ giải_trí , chứ chơi game nặng thì chịu . camera đủ dùng . có sạc nhanh có giống như ko có . trong tầm giá thì nó vậy k đòi_hỏi thêm . chỉ trừ sóng 4g và wifi quá yếu ko bằng mấy máy khác thui .\n",
            "2080 sản_phẩm tốt , giao_diện và tuỳ biến của samsung hơn hẳng opo , máy có một_số lổi nhỏ khi dùng nhưng do bên ứng_dụng thứ 3 chưa hổ trợ tốt trên máy do máy mới ra_mắt nên chấp_nhận được .\n",
            "2093 xài rất oke , mong lần tới ra phiên bảng cập_nhật tốt hơn về độ nhạy , khởi_động game lượt qua_lại mượt hơn . cần tối_ưu về game có vào phần k thik lắm\n",
            "2095 dc cái pin trâu ngoài_ra ko dc j hết . cứ bị lỗi camera rồi lỗi hệ_thống . cứ nhảy tùm_lum khi mới mở khoá . ko thì đen_thui màn_hình . mới lần đầu xài hãng này thất_vọng quá . mới mua về chưa dc 2 tháng . ra tgd cài_đặt lại về xài ra_tới_ra_lui hết gần 2 tháng trời\n",
            "2104 máy đẹp , để màn 120hz tụt pin hơi nhanh so với note 10 , nếu để 60hz chắc pin trâu hơn\n",
            "2107 mới mua trả_góp được một ngày . ngoại_hình thấy máy đẹp , chắc_chắn . về cập_nhật ngày bản vá mới nhất , tắt chế_độ hiệu_ứng_động , thấy máy rất mượt , cảm_ứng nhạy , chơi game với chip 720g rất mượt , không lag . mình không chụp hình nhiều nhưng cũng chụp thử vài tấm thấy cũng được , chủ_yếu lưu lại khoảnh_khắc . nhược_điểm cảm_ứng vân tay đặt ở cạnh bên hơi bất_tiện khi cầm trái tay . camera trước hơi to , thích kiểu popup hơn . mở khoá cảm_ứng thỉnh_thoảng không hiển_thị icon , chỉ lên hình nền , nhưng làm lại thì được ngay . tóm_lại với tầm giá chưa tới 6tr thì đây là một máy toàn_diện đáng mua tuy có vài lỗi nhỏ . sắp tới khuyến_mãi ai còn lăn_tăn thì hãy nhanh tay , với 5,7 tr thì quá_đáng đồng_tiền .\n",
            "2112 dịch_vụ của tgd rất tốt nhưng xài dt mà bực_mình , cứ khoảng 30p không xài thì dù wifi bình_thường nhưng vẫn báo không có mạng , tin nhắn không vào , chỉ khi tắt rồi bật chế_độ wifi lại thì ok . cầm dt cả ngày không sao , chỉ cần không đụng tới 1 chút là bị vậy . máy đầu bị lỗi wifi , hở sáng 4 góc và 1 điểm đen trên màn_hình . đổi máy mới thì tình_trạng vẫn y_nguyên , chỉ đỡ hơn là không bị điểm đen\n",
            "2116 rất là ok . nhân_viên phục_vụ xinh gái . cảm_thấy tuyệt_vời về mọi chức_năng . game các thứ rất ok . loát ap fb hay mes ytb rất nhanh . màn_hình to coi phim rất đã . camera thì không đẹp lắm . nhưng_mà dô ap lightrom chỉnh lại thì tuyệt_vời . mọi người nên mua sp này\n",
            "2128 đã mua hôm 9/5 chơi game và coi phim liên_tục . máy có ốp lưng cảm_giác hơi ấm . chụp hình tạm ổn vì ko mê chụp hình lắm . khi sạc pin , zalo , tn đến ko thấy đèn báo nhấp_nháy khi ko sử_dụng máy . để test thêm .\n",
            "2129 ứng_dụng hằng ngày chưa ổn_định ram 8 nhưng đa_nhiệm kiếm vào ứng_dụng chậm chíp 65 vs giá gần 7 tr là wa yếu chỉ chơi game ở mức bình_thường nếu quay lại tui sẽ mua redmi note8pro đến h vẫn chưa lên đc android 10\n",
            "2136 giá tốt . máy tương_đối . pin cũng tạm oki . sạc ổn . cảm_ứng bình_thường . cấu_hình phù_hợp từ nhân_viên văn_phòng bình_thường , sinh_viên . không nên cài nhiều lớp bảo_mật , dễ bị lag . màn_hình to rõ . màu_sắc oki . kết_luận có_thể mua làm món quà tặng được . đã mượn máy của người bạn test mấy ngày = > > còn mình dự_định mua s20 đây .\n",
            "2139 minh mua đc 20 ngày . thấy ổn , chụp hình rõ nét , màn_hình to , màu săc nét . máy mỏng đẹp . pin khá là ngon_lành . mjnh làm bưu_tá nghe gọi suôt ngày mà ság ra sạc đầy pin hoạt_động gần như liên_tục mà tới luc đi ngủ tầm sau 10h đêm mới báo sạc pin . hiện_tại chưa có j phải phàn_nàn ko biêt lâu_dài ra sao\n",
            "2144 máy dùng tốt . có vài lỗi là cảm_ứng tiệm_cận thỉnh_thoảng không sáng màn khi không che tiệm cận.nhận diện khuôn_mặt hơi chậm.vân tay cũng không được nhạy mặc_dù đã setup 3 vân tay đều là 1 ngón.mong rằng bản cập_nhật mới sẽ sửa được . còn lại máy đa_nhiệm tốt . pin 450 dùng được 8 tiếng không chơi game . nói_chung là rất hài_lòng đối_với nhu_cầu của bản_thân . mong rằng sẽ dùng được lâu_dài .\n",
            "2159 mình mới mua hôm_nay . thật_tình mà nói đó khá thất_vọng . máy bắt wifi rất yếu thậm_chí bật 4g cũng muốn k nổi . tải ứng_dụng trên ch play gần 30p chưa tải đc màn_hình cảm_ứng k nhậy . so với con nova 3i rất kém xa . đây là ý_kiến sau khi mua về nhà sau hơn 1h của mình . xin cảm_ơn\n",
            "2162 máy mua chưa đc 30ngày bị nhiều lỗi mau nóng máy , hay lag , tự thoát ứng_dụng đặc_biệt camera bị đơ màn_hình đen_thui luôn ra thế_giới di_động 2 lần nhân_viên kĩ_thuật bảo về dùng thử xem sao mà cứ lâu_lâu bấm máy lại bị lỗi\n",
            "2170 máy dùng tốt với tầm giá khá nhanh_nhạy pin trâu lần đâu tiên mua máy chưa tới 2tr mà ưng ghê luôn á mọi người nên mua\n",
            "2174 rất tốt , nhân_viên nhiệt_tình lắm , lấy máy chiều hôm_qua , toi về nhìn thấy vết sướt , sáng_qua đoi máy khác ngay , nhân_viên 3 hoàng_liên sơn , lao cai .\n",
            "2194 cấu_hình ok . nhưng dạo này tn và các cuộc_gọi từ fb , zalo ko hiện ra ngoài . phải vào trong mới thấy . cuộc_gọi từ fb ko thấy hình đưa đi bảo_hành thì ng ta tl mình ko thích tí nào . nói lỗi ứng_dụng mặc_dù ng ta cũng xài có bị sao đâu . trong lúc đó đt mới mua\n",
            "2196 mình mua con này gần 1 tháng . dạo này có tình_trạng hay thoát các ap đặc_biệt là zalo , và camera có tình_trạng bị đứng khi quay video và sau đó thoát ra vô_lại thì bị lỗi camera đành phải khởi_động lại . thực_sự không như mong_đợi\n",
            "2197 tầm giá này thì ok nhưng bị lỗi phần_mềm . dường_như máy nào cũng bị , sạc pin , tắt máy bình_thường cũng bị . phải khởi_động lại liên_tục , rất bực_mình . đề_nghị tgd có chính_sách trả lại máy . chứ đổi lần thứ 2 rồi vẫn bị . quá thất_vọng\n",
            "2198 vì công_việc nên mới xài vị_trí ... đến lúc xài mất cả 1thoi giận mới lên được cái vì trí , rất là tức , , k nhại bén bằng ios , ứng_dụng tải về thì ít , nhưng ứng_dụng trên máy thì qúa nhiều thật vọng\n",
            "2205 mới mua máy đc 4 ngày mà rất nhiều lỗi cpu thì xử_lý chậm bắt wifi thì kém kể_cả 3g 4g cũng vậy sóng đt thoại nữa rất yếu chơi game bằng 4g thì kh mượt cho lắm cái đáng nói ở đây là mình dô xem tin đăng trên facebok và nhấn vào lượt xem thì bị như này ức_chế 2 3 hôm giờ mà gửi phản_hồi thì ad kh hồi_âm thực_sự rất thất_vọng về con glaxy a51 này ..... quá tệ sai_lầm khi mua\n",
            "2219 máy xài tuyệt_vời ko chê game liên_quân thì test thử xog xoá máy chủ_yếu xài lướt web lm vc rất là mượt mặc_dù chỉ là con chíp mediatek g90t nhưng đem trải_nghiệm tốt mà hình_như máy cứ sạc tới 10 xài 5 phút tụt xuống 96 cho hỏi máy nên sạc như_thế_nào là đúng cách để ko bị chai pin vs lại mình có voucher mua đồng_hồ bảo_hành dc 1 năm nếu mai_mốt hết pin có_thể mag ra thế_giới di_động thay dc ko\n",
            "2223 nhận máy m 7 . hôm_nay đc 5 hôm thì máy lỗi đen màn . gọi vẫn rung , nhấn vẫn rung , làm gì cũng k sáng màn . lần đầu m tự khởi_động lại , lần 2 gọi tổng_đài thì bảo retore lại cài_đặt gốc , lần 3 gọi tổng_đài bảo mang ra quán thì nhân_viên vọc tí rồi cũng khởi_động lại bảo máy bt và k cho đổi . mình tin_tưởng tgd nên hay mua hàng ở đây . nghĩ bh các kiểu tốt . ai dè lần này thất_vọng vô_cùng .\n"
          ]
        }
      ],
      "source": [
        "for row in range(len(pred)):\n",
        "  count = 0\n",
        "  for i in range(MAX_LEN):\n",
        "    if true[row][i] != pred[row][i]:\n",
        "      count += 1\n",
        "  if count >= 20:\n",
        "    print(row,X_test[row])"
      ]
    },
    {
      "cell_type": "code",
      "execution_count": null,
      "metadata": {
        "colab": {
          "base_uri": "https://localhost:8080/"
        },
        "id": "Mpbgb4q45vZ9",
        "outputId": "6130e1a9-f7a8-4c3c-f0da-37acde3725af"
      },
      "outputs": [
        {
          "name": "stdout",
          "output_type": "stream",
          "text": [
            "<s> => O => O\n",
            "chụp => O => O\n",
            "hình => O => O\n",
            "quá => O => O\n",
            "tệ => O => O\n",
            ". => O => O\n",
            "không => B-GENERAL#NEGATIVE => O\n",
            "đáng => I-GENERAL#NEGATIVE => O\n",
            "với => I-GENERAL#NEGATIVE => O\n",
            "giá_trị => I-GENERAL#NEGATIVE => O\n",
            "bỏ => I-GENERAL#NEGATIVE => O\n",
            "ra@@ => I-GENERAL#NEGATIVE => O\n",
            ".@@ => I-GENERAL#NEGATIVE => O\n",
            "mọi => I-GENERAL#NEGATIVE => O\n",
            "ng => I-GENERAL#NEGATIVE => O\n",
            "cân => I-GENERAL#NEGATIVE => O\n",
            "nhẵ@@ => I-GENERAL#NEGATIVE => O\n",
            "c => I-GENERAL#NEGATIVE => O\n",
            "tr@@ => I-GENERAL#NEGATIVE => O\n",
            "k => I-GENERAL#NEGATIVE => O\n",
            "khi => I-GENERAL#NEGATIVE => O\n",
            "mu@@ => I-GENERAL#NEGATIVE => O\n",
            "a.@@ => I-GENERAL#NEGATIVE => O\n",
            "quá => I-GENERAL#NEGATIVE => O\n",
            "tệ => I-GENERAL#NEGATIVE => O\n",
            "với => I-GENERAL#NEGATIVE => O\n",
            "số => I-GENERAL#NEGATIVE => I-GENERAL#NEGATIVE\n",
            "tiền => I-GENERAL#NEGATIVE => I-GENERAL#NEGATIVE\n",
            "trên => I-GENERAL#NEGATIVE => O\n",
            "13@@ => I-GENERAL#NEGATIVE => I-GENERAL#NEGATIVE\n",
            "tr => I-GENERAL#NEGATIVE => I-GENERAL#NEGATIVE\n",
            "</s> => O => O\n"
          ]
        }
      ],
      "source": [
        "k = 1193\n",
        "for word, token_true, token_pred in zip(tokenizer.convert_ids_to_tokens(tokenizer(X_test[k])['input_ids']),true[k],pred[k]):\n",
        "  # if word != '<pad>':\n",
        "  print(word, \"=>\", token_true ,\"=>\", token_pred)"
      ]
    },
    {
      "cell_type": "code",
      "execution_count": null,
      "metadata": {
        "id": "mQQ8Qr70gMUy"
      },
      "outputs": [],
      "source": [
        "aspect_true = true.copy()\n",
        "aspect_pred = pred.copy()\n",
        "\n",
        "for i in range(aspect_true.shape[0]):\n",
        "  aspect_true[i] = list(map(lambda x: x[:x.find(\"#\")] if len(x[:x.find(\"#\")]) >= 2 else \"0\",aspect_true[i]))\n",
        "\n",
        "for i in range(aspect_pred.shape[0]):\n",
        "  aspect_pred[i] = list(map(lambda x: x[:x.find(\"#\")] if len(x[:x.find(\"#\")]) >= 2 else \"0\",aspect_pred[i]))\n"
      ]
    },
    {
      "cell_type": "code",
      "execution_count": null,
      "metadata": {
        "id": "oZ9b-EWrgMUy"
      },
      "outputs": [],
      "source": [
        "# https://github.com/MantisAI/nervaluate\n",
        "from nervaluate import Evaluator\n",
        "\n",
        "evaluator = Evaluator(true, pred, tags=tags, loader=\"list\")\n",
        "\n",
        "results, results_by_tag = evaluator.evaluate()\n"
      ]
    },
    {
      "cell_type": "code",
      "execution_count": null,
      "metadata": {
        "colab": {
          "base_uri": "https://localhost:8080/"
        },
        "id": "s46iA6qogMUy",
        "outputId": "67b9f1a7-bf03-47cf-aecd-e1934b0927fd"
      },
      "outputs": [
        {
          "data": {
            "text/plain": [
              "{'ent_type': {'correct': 4649,\n",
              "  'incorrect': 809,\n",
              "  'partial': 0,\n",
              "  'missed': 381,\n",
              "  'spurious': 1892,\n",
              "  'possible': 5839,\n",
              "  'actual': 7350,\n",
              "  'precision': 0.632517006802721,\n",
              "  'recall': 0.7961979791060113,\n",
              "  'f1': 0.7049814239138675},\n",
              " 'partial': {'correct': 3618,\n",
              "  'incorrect': 0,\n",
              "  'partial': 1840,\n",
              "  'missed': 381,\n",
              "  'spurious': 1892,\n",
              "  'possible': 5839,\n",
              "  'actual': 7350,\n",
              "  'precision': 0.6174149659863946,\n",
              "  'recall': 0.7771878746360679,\n",
              "  'f1': 0.6881492152551368},\n",
              " 'strict': {'correct': 3371,\n",
              "  'incorrect': 2087,\n",
              "  'partial': 0,\n",
              "  'missed': 381,\n",
              "  'spurious': 1892,\n",
              "  'possible': 5839,\n",
              "  'actual': 7350,\n",
              "  'precision': 0.4586394557823129,\n",
              "  'recall': 0.5773248843980133,\n",
              "  'f1': 0.5111835620592917},\n",
              " 'exact': {'correct': 3618,\n",
              "  'incorrect': 1840,\n",
              "  'partial': 0,\n",
              "  'missed': 381,\n",
              "  'spurious': 1892,\n",
              "  'possible': 5839,\n",
              "  'actual': 7350,\n",
              "  'precision': 0.4922448979591837,\n",
              "  'recall': 0.6196266483986984,\n",
              "  'f1': 0.548639017362954}}"
            ]
          },
          "execution_count": 38,
          "metadata": {},
          "output_type": "execute_result"
        }
      ],
      "source": [
        "results"
      ]
    },
    {
      "cell_type": "code",
      "execution_count": null,
      "metadata": {
        "colab": {
          "base_uri": "https://localhost:8080/"
        },
        "id": "bhWorFM4q3dx",
        "outputId": "e84ed347-3e41-4680-da7d-ace0bdf6b759"
      },
      "outputs": [
        {
          "data": {
            "text/plain": [
              "{'SCREEN#POSITIVE': {'ent_type': {'correct': 132,\n",
              "   'incorrect': 14,\n",
              "   'partial': 0,\n",
              "   'missed': 7,\n",
              "   'spurious': 22,\n",
              "   'possible': 153,\n",
              "   'actual': 168,\n",
              "   'precision': 0.7857142857142857,\n",
              "   'recall': 0.8627450980392157,\n",
              "   'f1': 0.8224299065420562},\n",
              "  'partial': {'correct': 122,\n",
              "   'incorrect': 0,\n",
              "   'partial': 24,\n",
              "   'missed': 7,\n",
              "   'spurious': 22,\n",
              "   'possible': 153,\n",
              "   'actual': 168,\n",
              "   'precision': 0.7976190476190477,\n",
              "   'recall': 0.8758169934640523,\n",
              "   'f1': 0.8348909657320872},\n",
              "  'strict': {'correct': 114,\n",
              "   'incorrect': 32,\n",
              "   'partial': 0,\n",
              "   'missed': 7,\n",
              "   'spurious': 22,\n",
              "   'possible': 153,\n",
              "   'actual': 168,\n",
              "   'precision': 0.6785714285714286,\n",
              "   'recall': 0.7450980392156863,\n",
              "   'f1': 0.7102803738317757},\n",
              "  'exact': {'correct': 122,\n",
              "   'incorrect': 24,\n",
              "   'partial': 0,\n",
              "   'missed': 7,\n",
              "   'spurious': 22,\n",
              "   'possible': 153,\n",
              "   'actual': 168,\n",
              "   'precision': 0.7261904761904762,\n",
              "   'recall': 0.7973856209150327,\n",
              "   'f1': 0.7601246105919004}},\n",
              " 'CAMERA#POSITIVE': {'ent_type': {'correct': 314,\n",
              "   'incorrect': 24,\n",
              "   'partial': 0,\n",
              "   'missed': 4,\n",
              "   'spurious': 29,\n",
              "   'possible': 342,\n",
              "   'actual': 367,\n",
              "   'precision': 0.8555858310626703,\n",
              "   'recall': 0.9181286549707602,\n",
              "   'f1': 0.8857545839210156},\n",
              "  'partial': {'correct': 292,\n",
              "   'incorrect': 0,\n",
              "   'partial': 46,\n",
              "   'missed': 4,\n",
              "   'spurious': 29,\n",
              "   'possible': 342,\n",
              "   'actual': 367,\n",
              "   'precision': 0.8583106267029973,\n",
              "   'recall': 0.9210526315789473,\n",
              "   'f1': 0.8885754583921015},\n",
              "  'strict': {'correct': 279,\n",
              "   'incorrect': 59,\n",
              "   'partial': 0,\n",
              "   'missed': 4,\n",
              "   'spurious': 29,\n",
              "   'possible': 342,\n",
              "   'actual': 367,\n",
              "   'precision': 0.7602179836512262,\n",
              "   'recall': 0.8157894736842105,\n",
              "   'f1': 0.7870239774330042},\n",
              "  'exact': {'correct': 292,\n",
              "   'incorrect': 46,\n",
              "   'partial': 0,\n",
              "   'missed': 4,\n",
              "   'spurious': 29,\n",
              "   'possible': 342,\n",
              "   'actual': 367,\n",
              "   'precision': 0.7956403269754768,\n",
              "   'recall': 0.8538011695906432,\n",
              "   'f1': 0.8236953455571226}},\n",
              " 'FEATURES#POSITIVE': {'ent_type': {'correct': 214,\n",
              "   'incorrect': 25,\n",
              "   'partial': 0,\n",
              "   'missed': 11,\n",
              "   'spurious': 49,\n",
              "   'possible': 250,\n",
              "   'actual': 288,\n",
              "   'precision': 0.7430555555555556,\n",
              "   'recall': 0.856,\n",
              "   'f1': 0.7955390334572491},\n",
              "  'partial': {'correct': 187,\n",
              "   'incorrect': 0,\n",
              "   'partial': 52,\n",
              "   'missed': 11,\n",
              "   'spurious': 49,\n",
              "   'possible': 250,\n",
              "   'actual': 288,\n",
              "   'precision': 0.7395833333333334,\n",
              "   'recall': 0.852,\n",
              "   'f1': 0.79182156133829},\n",
              "  'strict': {'correct': 175,\n",
              "   'incorrect': 64,\n",
              "   'partial': 0,\n",
              "   'missed': 11,\n",
              "   'spurious': 49,\n",
              "   'possible': 250,\n",
              "   'actual': 288,\n",
              "   'precision': 0.6076388888888888,\n",
              "   'recall': 0.7,\n",
              "   'f1': 0.6505576208178439},\n",
              "  'exact': {'correct': 187,\n",
              "   'incorrect': 52,\n",
              "   'partial': 0,\n",
              "   'missed': 11,\n",
              "   'spurious': 49,\n",
              "   'possible': 250,\n",
              "   'actual': 288,\n",
              "   'precision': 0.6493055555555556,\n",
              "   'recall': 0.748,\n",
              "   'f1': 0.6951672862453532}},\n",
              " 'BATTERY#POSITIVE': {'ent_type': {'correct': 542,\n",
              "   'incorrect': 42,\n",
              "   'partial': 0,\n",
              "   'missed': 14,\n",
              "   'spurious': 89,\n",
              "   'possible': 598,\n",
              "   'actual': 673,\n",
              "   'precision': 0.8053491827637445,\n",
              "   'recall': 0.9063545150501672,\n",
              "   'f1': 0.8528717545239969},\n",
              "  'partial': {'correct': 479,\n",
              "   'incorrect': 0,\n",
              "   'partial': 105,\n",
              "   'missed': 14,\n",
              "   'spurious': 89,\n",
              "   'possible': 598,\n",
              "   'actual': 673,\n",
              "   'precision': 0.7897473997028231,\n",
              "   'recall': 0.8887959866220736,\n",
              "   'f1': 0.8363493312352477},\n",
              "  'strict': {'correct': 461,\n",
              "   'incorrect': 123,\n",
              "   'partial': 0,\n",
              "   'missed': 14,\n",
              "   'spurious': 89,\n",
              "   'possible': 598,\n",
              "   'actual': 673,\n",
              "   'precision': 0.6849925705794948,\n",
              "   'recall': 0.7709030100334449,\n",
              "   'f1': 0.7254130605822188},\n",
              "  'exact': {'correct': 479,\n",
              "   'incorrect': 105,\n",
              "   'partial': 0,\n",
              "   'missed': 14,\n",
              "   'spurious': 89,\n",
              "   'possible': 598,\n",
              "   'actual': 673,\n",
              "   'precision': 0.711738484398217,\n",
              "   'recall': 0.8010033444816054,\n",
              "   'f1': 0.7537372147915029}},\n",
              " 'PERFORMANCE#POSITIVE': {'ent_type': {'correct': 585,\n",
              "   'incorrect': 60,\n",
              "   'partial': 0,\n",
              "   'missed': 28,\n",
              "   'spurious': 146,\n",
              "   'possible': 673,\n",
              "   'actual': 791,\n",
              "   'precision': 0.7395701643489254,\n",
              "   'recall': 0.8692421991084696,\n",
              "   'f1': 0.7991803278688525},\n",
              "  'partial': {'correct': 499,\n",
              "   'incorrect': 0,\n",
              "   'partial': 146,\n",
              "   'missed': 28,\n",
              "   'spurious': 146,\n",
              "   'possible': 673,\n",
              "   'actual': 791,\n",
              "   'precision': 0.7231352718078382,\n",
              "   'recall': 0.849925705794948,\n",
              "   'f1': 0.7814207650273225},\n",
              "  'strict': {'correct': 473,\n",
              "   'incorrect': 172,\n",
              "   'partial': 0,\n",
              "   'missed': 28,\n",
              "   'spurious': 146,\n",
              "   'possible': 673,\n",
              "   'actual': 791,\n",
              "   'precision': 0.5979772439949431,\n",
              "   'recall': 0.7028231797919762,\n",
              "   'f1': 0.6461748633879781},\n",
              "  'exact': {'correct': 499,\n",
              "   'incorrect': 146,\n",
              "   'partial': 0,\n",
              "   'missed': 28,\n",
              "   'spurious': 146,\n",
              "   'possible': 673,\n",
              "   'actual': 791,\n",
              "   'precision': 0.6308470290771175,\n",
              "   'recall': 0.7414561664190193,\n",
              "   'f1': 0.6816939890710383}},\n",
              " 'STORAGE#POSITIVE': {'ent_type': {'correct': 13,\n",
              "   'incorrect': 2,\n",
              "   'partial': 0,\n",
              "   'missed': 0,\n",
              "   'spurious': 9,\n",
              "   'possible': 15,\n",
              "   'actual': 24,\n",
              "   'precision': 0.5416666666666666,\n",
              "   'recall': 0.8666666666666667,\n",
              "   'f1': 0.6666666666666667},\n",
              "  'partial': {'correct': 11,\n",
              "   'incorrect': 0,\n",
              "   'partial': 4,\n",
              "   'missed': 0,\n",
              "   'spurious': 9,\n",
              "   'possible': 15,\n",
              "   'actual': 24,\n",
              "   'precision': 0.5416666666666666,\n",
              "   'recall': 0.8666666666666667,\n",
              "   'f1': 0.6666666666666667},\n",
              "  'strict': {'correct': 11,\n",
              "   'incorrect': 4,\n",
              "   'partial': 0,\n",
              "   'missed': 0,\n",
              "   'spurious': 9,\n",
              "   'possible': 15,\n",
              "   'actual': 24,\n",
              "   'precision': 0.4583333333333333,\n",
              "   'recall': 0.7333333333333333,\n",
              "   'f1': 0.5641025641025641},\n",
              "  'exact': {'correct': 11,\n",
              "   'incorrect': 4,\n",
              "   'partial': 0,\n",
              "   'missed': 0,\n",
              "   'spurious': 9,\n",
              "   'possible': 15,\n",
              "   'actual': 24,\n",
              "   'precision': 0.4583333333333333,\n",
              "   'recall': 0.7333333333333333,\n",
              "   'f1': 0.5641025641025641}},\n",
              " 'DESIGN#POSITIVE': {'ent_type': {'correct': 185,\n",
              "   'incorrect': 14,\n",
              "   'partial': 0,\n",
              "   'missed': 5,\n",
              "   'spurious': 33,\n",
              "   'possible': 204,\n",
              "   'actual': 232,\n",
              "   'precision': 0.7974137931034483,\n",
              "   'recall': 0.9068627450980392,\n",
              "   'f1': 0.8486238532110091},\n",
              "  'partial': {'correct': 154,\n",
              "   'incorrect': 0,\n",
              "   'partial': 45,\n",
              "   'missed': 5,\n",
              "   'spurious': 33,\n",
              "   'possible': 204,\n",
              "   'actual': 232,\n",
              "   'precision': 0.7607758620689655,\n",
              "   'recall': 0.8651960784313726,\n",
              "   'f1': 0.8096330275229359},\n",
              "  'strict': {'correct': 147,\n",
              "   'incorrect': 52,\n",
              "   'partial': 0,\n",
              "   'missed': 5,\n",
              "   'spurious': 33,\n",
              "   'possible': 204,\n",
              "   'actual': 232,\n",
              "   'precision': 0.6336206896551724,\n",
              "   'recall': 0.7205882352941176,\n",
              "   'f1': 0.6743119266055047},\n",
              "  'exact': {'correct': 154,\n",
              "   'incorrect': 45,\n",
              "   'partial': 0,\n",
              "   'missed': 5,\n",
              "   'spurious': 33,\n",
              "   'possible': 204,\n",
              "   'actual': 232,\n",
              "   'precision': 0.6637931034482759,\n",
              "   'recall': 0.7549019607843137,\n",
              "   'f1': 0.706422018348624}},\n",
              " 'PRICE#POSITIVE': {'ent_type': {'correct': 34,\n",
              "   'incorrect': 75,\n",
              "   'partial': 0,\n",
              "   'missed': 3,\n",
              "   'spurious': 101,\n",
              "   'possible': 112,\n",
              "   'actual': 210,\n",
              "   'precision': 0.1619047619047619,\n",
              "   'recall': 0.30357142857142855,\n",
              "   'f1': 0.2111801242236025},\n",
              "  'partial': {'correct': 23,\n",
              "   'incorrect': 0,\n",
              "   'partial': 86,\n",
              "   'missed': 3,\n",
              "   'spurious': 101,\n",
              "   'possible': 112,\n",
              "   'actual': 210,\n",
              "   'precision': 0.3142857142857143,\n",
              "   'recall': 0.5892857142857143,\n",
              "   'f1': 0.40993788819875776},\n",
              "  'strict': {'correct': 14,\n",
              "   'incorrect': 95,\n",
              "   'partial': 0,\n",
              "   'missed': 3,\n",
              "   'spurious': 101,\n",
              "   'possible': 112,\n",
              "   'actual': 210,\n",
              "   'precision': 0.06666666666666667,\n",
              "   'recall': 0.125,\n",
              "   'f1': 0.08695652173913045},\n",
              "  'exact': {'correct': 23,\n",
              "   'incorrect': 86,\n",
              "   'partial': 0,\n",
              "   'missed': 3,\n",
              "   'spurious': 101,\n",
              "   'possible': 112,\n",
              "   'actual': 210,\n",
              "   'precision': 0.10952380952380952,\n",
              "   'recall': 0.20535714285714285,\n",
              "   'f1': 0.14285714285714285}},\n",
              " 'GENERAL#POSITIVE': {'ent_type': {'correct': 693,\n",
              "   'incorrect': 47,\n",
              "   'partial': 0,\n",
              "   'missed': 72,\n",
              "   'spurious': 242,\n",
              "   'possible': 812,\n",
              "   'actual': 982,\n",
              "   'precision': 0.7057026476578412,\n",
              "   'recall': 0.853448275862069,\n",
              "   'f1': 0.7725752508361203},\n",
              "  'partial': {'correct': 525,\n",
              "   'incorrect': 0,\n",
              "   'partial': 215,\n",
              "   'missed': 72,\n",
              "   'spurious': 242,\n",
              "   'possible': 812,\n",
              "   'actual': 982,\n",
              "   'precision': 0.6440936863543788,\n",
              "   'recall': 0.7789408866995073,\n",
              "   'f1': 0.7051282051282052},\n",
              "  'strict': {'correct': 505,\n",
              "   'incorrect': 235,\n",
              "   'partial': 0,\n",
              "   'missed': 72,\n",
              "   'spurious': 242,\n",
              "   'possible': 812,\n",
              "   'actual': 982,\n",
              "   'precision': 0.5142566191446029,\n",
              "   'recall': 0.6219211822660099,\n",
              "   'f1': 0.5629877369007804},\n",
              "  'exact': {'correct': 525,\n",
              "   'incorrect': 215,\n",
              "   'partial': 0,\n",
              "   'missed': 72,\n",
              "   'spurious': 242,\n",
              "   'possible': 812,\n",
              "   'actual': 982,\n",
              "   'precision': 0.5346232179226069,\n",
              "   'recall': 0.646551724137931,\n",
              "   'f1': 0.5852842809364549}},\n",
              " 'SER&ACC#POSITIVE': {'ent_type': {'correct': 353,\n",
              "   'incorrect': 19,\n",
              "   'partial': 0,\n",
              "   'missed': 20,\n",
              "   'spurious': 87,\n",
              "   'possible': 392,\n",
              "   'actual': 459,\n",
              "   'precision': 0.7690631808278867,\n",
              "   'recall': 0.9005102040816326,\n",
              "   'f1': 0.8296122209165687},\n",
              "  'partial': {'correct': 279,\n",
              "   'incorrect': 0,\n",
              "   'partial': 93,\n",
              "   'missed': 20,\n",
              "   'spurious': 87,\n",
              "   'possible': 392,\n",
              "   'actual': 459,\n",
              "   'precision': 0.7091503267973857,\n",
              "   'recall': 0.8303571428571429,\n",
              "   'f1': 0.7649823736780258},\n",
              "  'strict': {'correct': 272,\n",
              "   'incorrect': 100,\n",
              "   'partial': 0,\n",
              "   'missed': 20,\n",
              "   'spurious': 87,\n",
              "   'possible': 392,\n",
              "   'actual': 459,\n",
              "   'precision': 0.5925925925925926,\n",
              "   'recall': 0.6938775510204082,\n",
              "   'f1': 0.6392479435957698},\n",
              "  'exact': {'correct': 279,\n",
              "   'incorrect': 93,\n",
              "   'partial': 0,\n",
              "   'missed': 20,\n",
              "   'spurious': 87,\n",
              "   'possible': 392,\n",
              "   'actual': 459,\n",
              "   'precision': 0.6078431372549019,\n",
              "   'recall': 0.7117346938775511,\n",
              "   'f1': 0.6556991774383079}},\n",
              " 'SCREEN#NEUTRAL': {'ent_type': {'correct': 0,\n",
              "   'incorrect': 7,\n",
              "   'partial': 0,\n",
              "   'missed': 2,\n",
              "   'spurious': 9,\n",
              "   'possible': 9,\n",
              "   'actual': 16,\n",
              "   'precision': 0.0,\n",
              "   'recall': 0.0,\n",
              "   'f1': 0},\n",
              "  'partial': {'correct': 0,\n",
              "   'incorrect': 0,\n",
              "   'partial': 7,\n",
              "   'missed': 2,\n",
              "   'spurious': 9,\n",
              "   'possible': 9,\n",
              "   'actual': 16,\n",
              "   'precision': 0.21875,\n",
              "   'recall': 0.3888888888888889,\n",
              "   'f1': 0.28},\n",
              "  'strict': {'correct': 0,\n",
              "   'incorrect': 7,\n",
              "   'partial': 0,\n",
              "   'missed': 2,\n",
              "   'spurious': 9,\n",
              "   'possible': 9,\n",
              "   'actual': 16,\n",
              "   'precision': 0.0,\n",
              "   'recall': 0.0,\n",
              "   'f1': 0},\n",
              "  'exact': {'correct': 0,\n",
              "   'incorrect': 7,\n",
              "   'partial': 0,\n",
              "   'missed': 2,\n",
              "   'spurious': 9,\n",
              "   'possible': 9,\n",
              "   'actual': 16,\n",
              "   'precision': 0.0,\n",
              "   'recall': 0.0,\n",
              "   'f1': 0}},\n",
              " 'CAMERA#NEUTRAL': {'ent_type': {'correct': 53,\n",
              "   'incorrect': 23,\n",
              "   'partial': 0,\n",
              "   'missed': 1,\n",
              "   'spurious': 34,\n",
              "   'possible': 77,\n",
              "   'actual': 110,\n",
              "   'precision': 0.4818181818181818,\n",
              "   'recall': 0.6883116883116883,\n",
              "   'f1': 0.5668449197860963},\n",
              "  'partial': {'correct': 48,\n",
              "   'incorrect': 0,\n",
              "   'partial': 28,\n",
              "   'missed': 1,\n",
              "   'spurious': 34,\n",
              "   'possible': 77,\n",
              "   'actual': 110,\n",
              "   'precision': 0.5636363636363636,\n",
              "   'recall': 0.8051948051948052,\n",
              "   'f1': 0.6631016042780749},\n",
              "  'strict': {'correct': 39,\n",
              "   'incorrect': 37,\n",
              "   'partial': 0,\n",
              "   'missed': 1,\n",
              "   'spurious': 34,\n",
              "   'possible': 77,\n",
              "   'actual': 110,\n",
              "   'precision': 0.35454545454545455,\n",
              "   'recall': 0.5064935064935064,\n",
              "   'f1': 0.4171122994652406},\n",
              "  'exact': {'correct': 48,\n",
              "   'incorrect': 28,\n",
              "   'partial': 0,\n",
              "   'missed': 1,\n",
              "   'spurious': 34,\n",
              "   'possible': 77,\n",
              "   'actual': 110,\n",
              "   'precision': 0.43636363636363634,\n",
              "   'recall': 0.6233766233766234,\n",
              "   'f1': 0.5133689839572192}},\n",
              " 'FEATURES#NEUTRAL': {'ent_type': {'correct': 17,\n",
              "   'incorrect': 14,\n",
              "   'partial': 0,\n",
              "   'missed': 0,\n",
              "   'spurious': 14,\n",
              "   'possible': 31,\n",
              "   'actual': 45,\n",
              "   'precision': 0.37777777777777777,\n",
              "   'recall': 0.5483870967741935,\n",
              "   'f1': 0.4473684210526315},\n",
              "  'partial': {'correct': 13,\n",
              "   'incorrect': 0,\n",
              "   'partial': 18,\n",
              "   'missed': 0,\n",
              "   'spurious': 14,\n",
              "   'possible': 31,\n",
              "   'actual': 45,\n",
              "   'precision': 0.4888888888888889,\n",
              "   'recall': 0.7096774193548387,\n",
              "   'f1': 0.5789473684210527},\n",
              "  'strict': {'correct': 9,\n",
              "   'incorrect': 22,\n",
              "   'partial': 0,\n",
              "   'missed': 0,\n",
              "   'spurious': 14,\n",
              "   'possible': 31,\n",
              "   'actual': 45,\n",
              "   'precision': 0.2,\n",
              "   'recall': 0.2903225806451613,\n",
              "   'f1': 0.2368421052631579},\n",
              "  'exact': {'correct': 13,\n",
              "   'incorrect': 18,\n",
              "   'partial': 0,\n",
              "   'missed': 0,\n",
              "   'spurious': 14,\n",
              "   'possible': 31,\n",
              "   'actual': 45,\n",
              "   'precision': 0.28888888888888886,\n",
              "   'recall': 0.41935483870967744,\n",
              "   'f1': 0.34210526315789475}},\n",
              " 'BATTERY#NEUTRAL': {'ent_type': {'correct': 13,\n",
              "   'incorrect': 50,\n",
              "   'partial': 0,\n",
              "   'missed': 2,\n",
              "   'spurious': 90,\n",
              "   'possible': 65,\n",
              "   'actual': 153,\n",
              "   'precision': 0.08496732026143791,\n",
              "   'recall': 0.2,\n",
              "   'f1': 0.11926605504587158},\n",
              "  'partial': {'correct': 17,\n",
              "   'incorrect': 0,\n",
              "   'partial': 46,\n",
              "   'missed': 2,\n",
              "   'spurious': 90,\n",
              "   'possible': 65,\n",
              "   'actual': 153,\n",
              "   'precision': 0.26143790849673204,\n",
              "   'recall': 0.6153846153846154,\n",
              "   'f1': 0.3669724770642202},\n",
              "  'strict': {'correct': 8,\n",
              "   'incorrect': 55,\n",
              "   'partial': 0,\n",
              "   'missed': 2,\n",
              "   'spurious': 90,\n",
              "   'possible': 65,\n",
              "   'actual': 153,\n",
              "   'precision': 0.05228758169934641,\n",
              "   'recall': 0.12307692307692308,\n",
              "   'f1': 0.07339449541284404},\n",
              "  'exact': {'correct': 17,\n",
              "   'incorrect': 46,\n",
              "   'partial': 0,\n",
              "   'missed': 2,\n",
              "   'spurious': 90,\n",
              "   'possible': 65,\n",
              "   'actual': 153,\n",
              "   'precision': 0.1111111111111111,\n",
              "   'recall': 0.26153846153846155,\n",
              "   'f1': 0.1559633027522936}},\n",
              " 'PERFORMANCE#NEUTRAL': {'ent_type': {'correct': 31,\n",
              "   'incorrect': 30,\n",
              "   'partial': 0,\n",
              "   'missed': 5,\n",
              "   'spurious': 45,\n",
              "   'possible': 66,\n",
              "   'actual': 106,\n",
              "   'precision': 0.29245283018867924,\n",
              "   'recall': 0.4696969696969697,\n",
              "   'f1': 0.36046511627906974},\n",
              "  'partial': {'correct': 28,\n",
              "   'incorrect': 0,\n",
              "   'partial': 33,\n",
              "   'missed': 5,\n",
              "   'spurious': 45,\n",
              "   'possible': 66,\n",
              "   'actual': 106,\n",
              "   'precision': 0.419811320754717,\n",
              "   'recall': 0.6742424242424242,\n",
              "   'f1': 0.5174418604651162},\n",
              "  'strict': {'correct': 19,\n",
              "   'incorrect': 42,\n",
              "   'partial': 0,\n",
              "   'missed': 5,\n",
              "   'spurious': 45,\n",
              "   'possible': 66,\n",
              "   'actual': 106,\n",
              "   'precision': 0.1792452830188679,\n",
              "   'recall': 0.2878787878787879,\n",
              "   'f1': 0.2209302325581395},\n",
              "  'exact': {'correct': 28,\n",
              "   'incorrect': 33,\n",
              "   'partial': 0,\n",
              "   'missed': 5,\n",
              "   'spurious': 45,\n",
              "   'possible': 66,\n",
              "   'actual': 106,\n",
              "   'precision': 0.2641509433962264,\n",
              "   'recall': 0.42424242424242425,\n",
              "   'f1': 0.3255813953488372}},\n",
              " 'STORAGE#NEUTRAL': {'ent_type': {'correct': 2,\n",
              "   'incorrect': 2,\n",
              "   'partial': 0,\n",
              "   'missed': 3,\n",
              "   'spurious': 3,\n",
              "   'possible': 7,\n",
              "   'actual': 7,\n",
              "   'precision': 0.2857142857142857,\n",
              "   'recall': 0.2857142857142857,\n",
              "   'f1': 0.2857142857142857},\n",
              "  'partial': {'correct': 3,\n",
              "   'incorrect': 0,\n",
              "   'partial': 1,\n",
              "   'missed': 3,\n",
              "   'spurious': 3,\n",
              "   'possible': 7,\n",
              "   'actual': 7,\n",
              "   'precision': 0.5,\n",
              "   'recall': 0.5,\n",
              "   'f1': 0.5},\n",
              "  'strict': {'correct': 1,\n",
              "   'incorrect': 3,\n",
              "   'partial': 0,\n",
              "   'missed': 3,\n",
              "   'spurious': 3,\n",
              "   'possible': 7,\n",
              "   'actual': 7,\n",
              "   'precision': 0.14285714285714285,\n",
              "   'recall': 0.14285714285714285,\n",
              "   'f1': 0.14285714285714285},\n",
              "  'exact': {'correct': 3,\n",
              "   'incorrect': 1,\n",
              "   'partial': 0,\n",
              "   'missed': 3,\n",
              "   'spurious': 3,\n",
              "   'possible': 7,\n",
              "   'actual': 7,\n",
              "   'precision': 0.42857142857142855,\n",
              "   'recall': 0.42857142857142855,\n",
              "   'f1': 0.42857142857142855}},\n",
              " 'DESIGN#NEUTRAL': {'ent_type': {'correct': 2,\n",
              "   'incorrect': 8,\n",
              "   'partial': 0,\n",
              "   'missed': 3,\n",
              "   'spurious': 11,\n",
              "   'possible': 13,\n",
              "   'actual': 21,\n",
              "   'precision': 0.09523809523809523,\n",
              "   'recall': 0.15384615384615385,\n",
              "   'f1': 0.11764705882352941},\n",
              "  'partial': {'correct': 3,\n",
              "   'incorrect': 0,\n",
              "   'partial': 7,\n",
              "   'missed': 3,\n",
              "   'spurious': 11,\n",
              "   'possible': 13,\n",
              "   'actual': 21,\n",
              "   'precision': 0.30952380952380953,\n",
              "   'recall': 0.5,\n",
              "   'f1': 0.3823529411764706},\n",
              "  'strict': {'correct': 1,\n",
              "   'incorrect': 9,\n",
              "   'partial': 0,\n",
              "   'missed': 3,\n",
              "   'spurious': 11,\n",
              "   'possible': 13,\n",
              "   'actual': 21,\n",
              "   'precision': 0.047619047619047616,\n",
              "   'recall': 0.07692307692307693,\n",
              "   'f1': 0.058823529411764705},\n",
              "  'exact': {'correct': 3,\n",
              "   'incorrect': 7,\n",
              "   'partial': 0,\n",
              "   'missed': 3,\n",
              "   'spurious': 11,\n",
              "   'possible': 13,\n",
              "   'actual': 21,\n",
              "   'precision': 0.14285714285714285,\n",
              "   'recall': 0.23076923076923078,\n",
              "   'f1': 0.17647058823529413}},\n",
              " 'PRICE#NEUTRAL': {'ent_type': {'correct': 35,\n",
              "   'incorrect': 13,\n",
              "   'partial': 0,\n",
              "   'missed': 12,\n",
              "   'spurious': 72,\n",
              "   'possible': 60,\n",
              "   'actual': 120,\n",
              "   'precision': 0.2916666666666667,\n",
              "   'recall': 0.5833333333333334,\n",
              "   'f1': 0.38888888888888895},\n",
              "  'partial': {'correct': 13,\n",
              "   'incorrect': 0,\n",
              "   'partial': 35,\n",
              "   'missed': 12,\n",
              "   'spurious': 72,\n",
              "   'possible': 60,\n",
              "   'actual': 120,\n",
              "   'precision': 0.25416666666666665,\n",
              "   'recall': 0.5083333333333333,\n",
              "   'f1': 0.3388888888888889},\n",
              "  'strict': {'correct': 9,\n",
              "   'incorrect': 39,\n",
              "   'partial': 0,\n",
              "   'missed': 12,\n",
              "   'spurious': 72,\n",
              "   'possible': 60,\n",
              "   'actual': 120,\n",
              "   'precision': 0.075,\n",
              "   'recall': 0.15,\n",
              "   'f1': 0.1},\n",
              "  'exact': {'correct': 13,\n",
              "   'incorrect': 35,\n",
              "   'partial': 0,\n",
              "   'missed': 12,\n",
              "   'spurious': 72,\n",
              "   'possible': 60,\n",
              "   'actual': 120,\n",
              "   'precision': 0.10833333333333334,\n",
              "   'recall': 0.21666666666666667,\n",
              "   'f1': 0.14444444444444446}},\n",
              " 'GENERAL#NEUTRAL': {'ent_type': {'correct': 23,\n",
              "   'incorrect': 12,\n",
              "   'partial': 0,\n",
              "   'missed': 8,\n",
              "   'spurious': 18,\n",
              "   'possible': 43,\n",
              "   'actual': 53,\n",
              "   'precision': 0.4339622641509434,\n",
              "   'recall': 0.5348837209302325,\n",
              "   'f1': 0.47916666666666663},\n",
              "  'partial': {'correct': 23,\n",
              "   'incorrect': 0,\n",
              "   'partial': 12,\n",
              "   'missed': 8,\n",
              "   'spurious': 18,\n",
              "   'possible': 43,\n",
              "   'actual': 53,\n",
              "   'precision': 0.5471698113207547,\n",
              "   'recall': 0.6744186046511628,\n",
              "   'f1': 0.6041666666666666},\n",
              "  'strict': {'correct': 13,\n",
              "   'incorrect': 22,\n",
              "   'partial': 0,\n",
              "   'missed': 8,\n",
              "   'spurious': 18,\n",
              "   'possible': 43,\n",
              "   'actual': 53,\n",
              "   'precision': 0.24528301886792453,\n",
              "   'recall': 0.3023255813953488,\n",
              "   'f1': 0.27083333333333326},\n",
              "  'exact': {'correct': 23,\n",
              "   'incorrect': 12,\n",
              "   'partial': 0,\n",
              "   'missed': 8,\n",
              "   'spurious': 18,\n",
              "   'possible': 43,\n",
              "   'actual': 53,\n",
              "   'precision': 0.4339622641509434,\n",
              "   'recall': 0.5348837209302325,\n",
              "   'f1': 0.47916666666666663}},\n",
              " 'SER&ACC#NEUTRAL': {'ent_type': {'correct': 1,\n",
              "   'incorrect': 1,\n",
              "   'partial': 0,\n",
              "   'missed': 0,\n",
              "   'spurious': 10,\n",
              "   'possible': 2,\n",
              "   'actual': 12,\n",
              "   'precision': 0.08333333333333333,\n",
              "   'recall': 0.5,\n",
              "   'f1': 0.14285714285714285},\n",
              "  'partial': {'correct': 2,\n",
              "   'incorrect': 0,\n",
              "   'partial': 0,\n",
              "   'missed': 0,\n",
              "   'spurious': 10,\n",
              "   'possible': 2,\n",
              "   'actual': 12,\n",
              "   'precision': 0.16666666666666666,\n",
              "   'recall': 1.0,\n",
              "   'f1': 0.2857142857142857},\n",
              "  'strict': {'correct': 1,\n",
              "   'incorrect': 1,\n",
              "   'partial': 0,\n",
              "   'missed': 0,\n",
              "   'spurious': 10,\n",
              "   'possible': 2,\n",
              "   'actual': 12,\n",
              "   'precision': 0.08333333333333333,\n",
              "   'recall': 0.5,\n",
              "   'f1': 0.14285714285714285},\n",
              "  'exact': {'correct': 2,\n",
              "   'incorrect': 0,\n",
              "   'partial': 0,\n",
              "   'missed': 0,\n",
              "   'spurious': 10,\n",
              "   'possible': 2,\n",
              "   'actual': 12,\n",
              "   'precision': 0.16666666666666666,\n",
              "   'recall': 1.0,\n",
              "   'f1': 0.2857142857142857}},\n",
              " 'SCREEN#NEGATIVE': {'ent_type': {'correct': 72,\n",
              "   'incorrect': 12,\n",
              "   'partial': 0,\n",
              "   'missed': 9,\n",
              "   'spurious': 34,\n",
              "   'possible': 93,\n",
              "   'actual': 118,\n",
              "   'precision': 0.6101694915254238,\n",
              "   'recall': 0.7741935483870968,\n",
              "   'f1': 0.6824644549763034},\n",
              "  'partial': {'correct': 54,\n",
              "   'incorrect': 0,\n",
              "   'partial': 30,\n",
              "   'missed': 9,\n",
              "   'spurious': 34,\n",
              "   'possible': 93,\n",
              "   'actual': 118,\n",
              "   'precision': 0.5847457627118644,\n",
              "   'recall': 0.7419354838709677,\n",
              "   'f1': 0.6540284360189573},\n",
              "  'strict': {'correct': 48,\n",
              "   'incorrect': 36,\n",
              "   'partial': 0,\n",
              "   'missed': 9,\n",
              "   'spurious': 34,\n",
              "   'possible': 93,\n",
              "   'actual': 118,\n",
              "   'precision': 0.4067796610169492,\n",
              "   'recall': 0.5161290322580645,\n",
              "   'f1': 0.4549763033175356},\n",
              "  'exact': {'correct': 54,\n",
              "   'incorrect': 30,\n",
              "   'partial': 0,\n",
              "   'missed': 9,\n",
              "   'spurious': 34,\n",
              "   'possible': 93,\n",
              "   'actual': 118,\n",
              "   'precision': 0.4576271186440678,\n",
              "   'recall': 0.5806451612903226,\n",
              "   'f1': 0.5118483412322274}},\n",
              " 'CAMERA#NEGATIVE': {'ent_type': {'correct': 144,\n",
              "   'incorrect': 13,\n",
              "   'partial': 0,\n",
              "   'missed': 9,\n",
              "   'spurious': 44,\n",
              "   'possible': 166,\n",
              "   'actual': 201,\n",
              "   'precision': 0.7164179104477612,\n",
              "   'recall': 0.8674698795180723,\n",
              "   'f1': 0.7847411444141689},\n",
              "  'partial': {'correct': 107,\n",
              "   'incorrect': 0,\n",
              "   'partial': 50,\n",
              "   'missed': 9,\n",
              "   'spurious': 44,\n",
              "   'possible': 166,\n",
              "   'actual': 201,\n",
              "   'precision': 0.6567164179104478,\n",
              "   'recall': 0.7951807228915663,\n",
              "   'f1': 0.7193460490463216},\n",
              "  'strict': {'correct': 103,\n",
              "   'incorrect': 54,\n",
              "   'partial': 0,\n",
              "   'missed': 9,\n",
              "   'spurious': 44,\n",
              "   'possible': 166,\n",
              "   'actual': 201,\n",
              "   'precision': 0.5124378109452736,\n",
              "   'recall': 0.6204819277108434,\n",
              "   'f1': 0.561307901907357},\n",
              "  'exact': {'correct': 107,\n",
              "   'incorrect': 50,\n",
              "   'partial': 0,\n",
              "   'missed': 9,\n",
              "   'spurious': 44,\n",
              "   'possible': 166,\n",
              "   'actual': 201,\n",
              "   'precision': 0.5323383084577115,\n",
              "   'recall': 0.6445783132530121,\n",
              "   'f1': 0.5831062670299727}},\n",
              " 'FEATURES#NEGATIVE': {'ent_type': {'correct': 356,\n",
              "   'incorrect': 57,\n",
              "   'partial': 0,\n",
              "   'missed': 38,\n",
              "   'spurious': 132,\n",
              "   'possible': 451,\n",
              "   'actual': 545,\n",
              "   'precision': 0.653211009174312,\n",
              "   'recall': 0.7893569844789357,\n",
              "   'f1': 0.7148594377510041},\n",
              "  'partial': {'correct': 225,\n",
              "   'incorrect': 0,\n",
              "   'partial': 188,\n",
              "   'missed': 38,\n",
              "   'spurious': 132,\n",
              "   'possible': 451,\n",
              "   'actual': 545,\n",
              "   'precision': 0.5853211009174312,\n",
              "   'recall': 0.7073170731707317,\n",
              "   'f1': 0.640562248995984},\n",
              "  'strict': {'correct': 205,\n",
              "   'incorrect': 208,\n",
              "   'partial': 0,\n",
              "   'missed': 38,\n",
              "   'spurious': 132,\n",
              "   'possible': 451,\n",
              "   'actual': 545,\n",
              "   'precision': 0.3761467889908257,\n",
              "   'recall': 0.45454545454545453,\n",
              "   'f1': 0.41164658634538154},\n",
              "  'exact': {'correct': 225,\n",
              "   'incorrect': 188,\n",
              "   'partial': 0,\n",
              "   'missed': 38,\n",
              "   'spurious': 132,\n",
              "   'possible': 451,\n",
              "   'actual': 545,\n",
              "   'precision': 0.41284403669724773,\n",
              "   'recall': 0.49889135254988914,\n",
              "   'f1': 0.45180722891566266}},\n",
              " 'BATTERY#NEGATIVE': {'ent_type': {'correct': 312,\n",
              "   'incorrect': 33,\n",
              "   'partial': 0,\n",
              "   'missed': 15,\n",
              "   'spurious': 70,\n",
              "   'possible': 360,\n",
              "   'actual': 415,\n",
              "   'precision': 0.7518072289156627,\n",
              "   'recall': 0.8666666666666667,\n",
              "   'f1': 0.8051612903225805},\n",
              "  'partial': {'correct': 222,\n",
              "   'incorrect': 0,\n",
              "   'partial': 123,\n",
              "   'missed': 15,\n",
              "   'spurious': 70,\n",
              "   'possible': 360,\n",
              "   'actual': 415,\n",
              "   'precision': 0.6831325301204819,\n",
              "   'recall': 0.7875,\n",
              "   'f1': 0.7316129032258065},\n",
              "  'strict': {'correct': 210,\n",
              "   'incorrect': 135,\n",
              "   'partial': 0,\n",
              "   'missed': 15,\n",
              "   'spurious': 70,\n",
              "   'possible': 360,\n",
              "   'actual': 415,\n",
              "   'precision': 0.5060240963855421,\n",
              "   'recall': 0.5833333333333334,\n",
              "   'f1': 0.5419354838709678},\n",
              "  'exact': {'correct': 222,\n",
              "   'incorrect': 123,\n",
              "   'partial': 0,\n",
              "   'missed': 15,\n",
              "   'spurious': 70,\n",
              "   'possible': 360,\n",
              "   'actual': 415,\n",
              "   'precision': 0.5349397590361445,\n",
              "   'recall': 0.6166666666666667,\n",
              "   'f1': 0.5729032258064516}},\n",
              " 'PERFORMANCE#NEGATIVE': {'ent_type': {'correct': 331,\n",
              "   'incorrect': 76,\n",
              "   'partial': 0,\n",
              "   'missed': 31,\n",
              "   'spurious': 223,\n",
              "   'possible': 438,\n",
              "   'actual': 630,\n",
              "   'precision': 0.5253968253968254,\n",
              "   'recall': 0.7557077625570776,\n",
              "   'f1': 0.6198501872659177},\n",
              "  'partial': {'correct': 190,\n",
              "   'incorrect': 0,\n",
              "   'partial': 217,\n",
              "   'missed': 31,\n",
              "   'spurious': 223,\n",
              "   'possible': 438,\n",
              "   'actual': 630,\n",
              "   'precision': 0.4738095238095238,\n",
              "   'recall': 0.6815068493150684,\n",
              "   'f1': 0.5589887640449439},\n",
              "  'strict': {'correct': 173,\n",
              "   'incorrect': 234,\n",
              "   'partial': 0,\n",
              "   'missed': 31,\n",
              "   'spurious': 223,\n",
              "   'possible': 438,\n",
              "   'actual': 630,\n",
              "   'precision': 0.2746031746031746,\n",
              "   'recall': 0.3949771689497717,\n",
              "   'f1': 0.3239700374531835},\n",
              "  'exact': {'correct': 190,\n",
              "   'incorrect': 217,\n",
              "   'partial': 0,\n",
              "   'missed': 31,\n",
              "   'spurious': 223,\n",
              "   'possible': 438,\n",
              "   'actual': 630,\n",
              "   'precision': 0.30158730158730157,\n",
              "   'recall': 0.4337899543378995,\n",
              "   'f1': 0.35580524344569286}},\n",
              " 'STORAGE#NEGATIVE': {'ent_type': {'correct': 4,\n",
              "   'incorrect': 4,\n",
              "   'partial': 0,\n",
              "   'missed': 1,\n",
              "   'spurious': 7,\n",
              "   'possible': 9,\n",
              "   'actual': 15,\n",
              "   'precision': 0.26666666666666666,\n",
              "   'recall': 0.4444444444444444,\n",
              "   'f1': 0.33333333333333337},\n",
              "  'partial': {'correct': 0,\n",
              "   'incorrect': 0,\n",
              "   'partial': 8,\n",
              "   'missed': 1,\n",
              "   'spurious': 7,\n",
              "   'possible': 9,\n",
              "   'actual': 15,\n",
              "   'precision': 0.26666666666666666,\n",
              "   'recall': 0.4444444444444444,\n",
              "   'f1': 0.33333333333333337},\n",
              "  'strict': {'correct': 0,\n",
              "   'incorrect': 8,\n",
              "   'partial': 0,\n",
              "   'missed': 1,\n",
              "   'spurious': 7,\n",
              "   'possible': 9,\n",
              "   'actual': 15,\n",
              "   'precision': 0.0,\n",
              "   'recall': 0.0,\n",
              "   'f1': 0},\n",
              "  'exact': {'correct': 0,\n",
              "   'incorrect': 8,\n",
              "   'partial': 0,\n",
              "   'missed': 1,\n",
              "   'spurious': 7,\n",
              "   'possible': 9,\n",
              "   'actual': 15,\n",
              "   'precision': 0.0,\n",
              "   'recall': 0.0,\n",
              "   'f1': 0}},\n",
              " 'DESIGN#NEGATIVE': {'ent_type': {'correct': 36,\n",
              "   'incorrect': 39,\n",
              "   'partial': 0,\n",
              "   'missed': 8,\n",
              "   'spurious': 61,\n",
              "   'possible': 83,\n",
              "   'actual': 136,\n",
              "   'precision': 0.2647058823529412,\n",
              "   'recall': 0.43373493975903615,\n",
              "   'f1': 0.3287671232876712},\n",
              "  'partial': {'correct': 27,\n",
              "   'incorrect': 0,\n",
              "   'partial': 48,\n",
              "   'missed': 8,\n",
              "   'spurious': 61,\n",
              "   'possible': 83,\n",
              "   'actual': 136,\n",
              "   'precision': 0.375,\n",
              "   'recall': 0.6144578313253012,\n",
              "   'f1': 0.4657534246575342},\n",
              "  'strict': {'correct': 17,\n",
              "   'incorrect': 58,\n",
              "   'partial': 0,\n",
              "   'missed': 8,\n",
              "   'spurious': 61,\n",
              "   'possible': 83,\n",
              "   'actual': 136,\n",
              "   'precision': 0.125,\n",
              "   'recall': 0.20481927710843373,\n",
              "   'f1': 0.1552511415525114},\n",
              "  'exact': {'correct': 27,\n",
              "   'incorrect': 48,\n",
              "   'partial': 0,\n",
              "   'missed': 8,\n",
              "   'spurious': 61,\n",
              "   'possible': 83,\n",
              "   'actual': 136,\n",
              "   'precision': 0.19852941176470587,\n",
              "   'recall': 0.3253012048192771,\n",
              "   'f1': 0.24657534246575338}},\n",
              " 'PRICE#NEGATIVE': {'ent_type': {'correct': 41,\n",
              "   'incorrect': 13,\n",
              "   'partial': 0,\n",
              "   'missed': 12,\n",
              "   'spurious': 23,\n",
              "   'possible': 66,\n",
              "   'actual': 77,\n",
              "   'precision': 0.5324675324675324,\n",
              "   'recall': 0.6212121212121212,\n",
              "   'f1': 0.5734265734265734},\n",
              "  'partial': {'correct': 24,\n",
              "   'incorrect': 0,\n",
              "   'partial': 30,\n",
              "   'missed': 12,\n",
              "   'spurious': 23,\n",
              "   'possible': 66,\n",
              "   'actual': 77,\n",
              "   'precision': 0.5064935064935064,\n",
              "   'recall': 0.5909090909090909,\n",
              "   'f1': 0.5454545454545454},\n",
              "  'strict': {'correct': 24,\n",
              "   'incorrect': 30,\n",
              "   'partial': 0,\n",
              "   'missed': 12,\n",
              "   'spurious': 23,\n",
              "   'possible': 66,\n",
              "   'actual': 77,\n",
              "   'precision': 0.3116883116883117,\n",
              "   'recall': 0.36363636363636365,\n",
              "   'f1': 0.3356643356643357},\n",
              "  'exact': {'correct': 24,\n",
              "   'incorrect': 30,\n",
              "   'partial': 0,\n",
              "   'missed': 12,\n",
              "   'spurious': 23,\n",
              "   'possible': 66,\n",
              "   'actual': 77,\n",
              "   'precision': 0.3116883116883117,\n",
              "   'recall': 0.36363636363636365,\n",
              "   'f1': 0.3356643356643357}},\n",
              " 'GENERAL#NEGATIVE': {'ent_type': {'correct': 81,\n",
              "   'incorrect': 53,\n",
              "   'partial': 0,\n",
              "   'missed': 36,\n",
              "   'spurious': 111,\n",
              "   'possible': 170,\n",
              "   'actual': 245,\n",
              "   'precision': 0.3306122448979592,\n",
              "   'recall': 0.4764705882352941,\n",
              "   'f1': 0.39036144578313253},\n",
              "  'partial': {'correct': 34,\n",
              "   'incorrect': 0,\n",
              "   'partial': 100,\n",
              "   'missed': 36,\n",
              "   'spurious': 111,\n",
              "   'possible': 170,\n",
              "   'actual': 245,\n",
              "   'precision': 0.34285714285714286,\n",
              "   'recall': 0.49411764705882355,\n",
              "   'f1': 0.4048192771084338},\n",
              "  'strict': {'correct': 27,\n",
              "   'incorrect': 107,\n",
              "   'partial': 0,\n",
              "   'missed': 36,\n",
              "   'spurious': 111,\n",
              "   'possible': 170,\n",
              "   'actual': 245,\n",
              "   'precision': 0.11020408163265306,\n",
              "   'recall': 0.1588235294117647,\n",
              "   'f1': 0.13012048192771086},\n",
              "  'exact': {'correct': 34,\n",
              "   'incorrect': 100,\n",
              "   'partial': 0,\n",
              "   'missed': 36,\n",
              "   'spurious': 111,\n",
              "   'possible': 170,\n",
              "   'actual': 245,\n",
              "   'precision': 0.13877551020408163,\n",
              "   'recall': 0.2,\n",
              "   'f1': 0.163855421686747}},\n",
              " 'SER&ACC#NEGATIVE': {'ent_type': {'correct': 30,\n",
              "   'incorrect': 27,\n",
              "   'partial': 0,\n",
              "   'missed': 22,\n",
              "   'spurious': 74,\n",
              "   'possible': 79,\n",
              "   'actual': 131,\n",
              "   'precision': 0.22900763358778625,\n",
              "   'recall': 0.379746835443038,\n",
              "   'f1': 0.28571428571428575},\n",
              "  'partial': {'correct': 14,\n",
              "   'incorrect': 0,\n",
              "   'partial': 43,\n",
              "   'missed': 22,\n",
              "   'spurious': 74,\n",
              "   'possible': 79,\n",
              "   'actual': 131,\n",
              "   'precision': 0.27099236641221375,\n",
              "   'recall': 0.44936708860759494,\n",
              "   'f1': 0.3380952380952381},\n",
              "  'strict': {'correct': 13,\n",
              "   'incorrect': 44,\n",
              "   'partial': 0,\n",
              "   'missed': 22,\n",
              "   'spurious': 74,\n",
              "   'possible': 79,\n",
              "   'actual': 131,\n",
              "   'precision': 0.09923664122137404,\n",
              "   'recall': 0.16455696202531644,\n",
              "   'f1': 0.1238095238095238},\n",
              "  'exact': {'correct': 14,\n",
              "   'incorrect': 43,\n",
              "   'partial': 0,\n",
              "   'missed': 22,\n",
              "   'spurious': 74,\n",
              "   'possible': 79,\n",
              "   'actual': 131,\n",
              "   'precision': 0.10687022900763359,\n",
              "   'recall': 0.17721518987341772,\n",
              "   'f1': 0.13333333333333333}}}"
            ]
          },
          "execution_count": 137,
          "metadata": {},
          "output_type": "execute_result"
        }
      ],
      "source": [
        "results_by_tag"
      ]
    },
    {
      "attachments": {},
      "cell_type": "markdown",
      "metadata": {
        "id": "tRrC7aW_hMhT"
      },
      "source": [
        "## RANDOM SENTENCE"
      ]
    },
    {
      "cell_type": "code",
      "execution_count": null,
      "metadata": {
        "colab": {
          "base_uri": "https://localhost:8080/",
          "height": 53
        },
        "id": "Lia_8Bw8i97I",
        "outputId": "8aff9468-c013-4f3c-dca6-37002456dbc4"
      },
      "outputs": [
        {
          "data": {
            "application/vnd.google.colaboratory.intrinsic+json": {
              "type": "string"
            },
            "text/plain": [
              "'máy xài tốt , mượt , sạc rất nhanh , pin trâu , mình dùng tác _ vụ bình _ thường zalo , fb , youtube thì được 1 ngày rưỡi . camera thì đẹp ảo .'"
            ]
          },
          "execution_count": 50,
          "metadata": {},
          "output_type": "execute_result"
        }
      ],
      "source": [
        "sample_sentence = \"máy xài tốt , mượt , sạc rất nhanh , pin trâu , mình dùng tác_vụ bình_thường zalo , fb , youtube thì được 1 ngày rưỡi . camera thì đẹp ảo .\"\n",
        "sample_sentence = [\" \".join(s) for s in rdrsegmenter.tokenize(sample_sentence)]\n",
        "sample_sentence = \" \".join(sample_sentence)\n",
        "sample_sentence"
      ]
    },
    {
      "cell_type": "code",
      "execution_count": null,
      "metadata": {
        "colab": {
          "base_uri": "https://localhost:8080/"
        },
        "id": "Dnb9UGgJS3AV",
        "outputId": "64fd4194-ae74-4947-f2ba-8ee4e4646866"
      },
      "outputs": [
        {
          "data": {
            "text/plain": [
              "{'input_ids': [0, 558, 8480, 167, 4, 11537, 4, 3941, 59, 485, 4, 2179, 2959, 4, 68, 175, 18116, 2926, 178, 2404, 2926, 311, 1791, 22818, 4, 1866, 2774, 4, 31167, 54, 11, 99, 43, 7164, 5, 1901, 54, 258, 2156, 5, 2, 1, 1, 1, 1, 1, 1, 1, 1, 1, 1, 1, 1, 1, 1, 1, 1, 1, 1, 1, 1, 1, 1, 1, 1, 1, 1, 1, 1, 1, 1, 1, 1, 1, 1, 1, 1, 1, 1, 1, 1, 1, 1, 1, 1, 1, 1, 1, 1, 1, 1, 1, 1, 1, 1, 1, 1, 1, 1, 1, 1, 1, 1, 1, 1, 1, 1, 1, 1, 1, 1, 1, 1, 1, 1, 1, 1, 1, 1, 1, 1, 1, 1, 1, 1, 1, 1, 1, 1, 1, 1, 1, 1, 1, 1, 1, 1, 1, 1, 1, 1, 1, 1, 1, 1, 1, 1, 1, 1, 1, 1, 1, 1, 1, 1, 1, 1, 1, 1, 1, 1, 1, 1, 1, 1, 1, 1, 1, 1, 1, 1, 1, 1, 1, 1, 1, 1, 1, 1, 1, 1, 1, 1, 1, 1, 1, 1, 1, 1, 1, 1, 1, 1, 1, 1, 1, 1, 1, 1, 1, 1, 1, 1, 1, 1, 1, 1, 1, 1, 1, 1, 1, 1, 1, 1, 1, 1, 1, 1, 1, 1, 1, 1, 1, 1, 1, 1, 1, 1, 1, 1, 1, 1, 1, 1, 1, 1, 1, 1, 1, 1, 1, 1, 1, 1, 1, 1, 1, 1, 1, 1, 1, 1, 1, 1, 1], 'token_type_ids': [0, 0, 0, 0, 0, 0, 0, 0, 0, 0, 0, 0, 0, 0, 0, 0, 0, 0, 0, 0, 0, 0, 0, 0, 0, 0, 0, 0, 0, 0, 0, 0, 0, 0, 0, 0, 0, 0, 0, 0, 0, 0, 0, 0, 0, 0, 0, 0, 0, 0, 0, 0, 0, 0, 0, 0, 0, 0, 0, 0, 0, 0, 0, 0, 0, 0, 0, 0, 0, 0, 0, 0, 0, 0, 0, 0, 0, 0, 0, 0, 0, 0, 0, 0, 0, 0, 0, 0, 0, 0, 0, 0, 0, 0, 0, 0, 0, 0, 0, 0, 0, 0, 0, 0, 0, 0, 0, 0, 0, 0, 0, 0, 0, 0, 0, 0, 0, 0, 0, 0, 0, 0, 0, 0, 0, 0, 0, 0, 0, 0, 0, 0, 0, 0, 0, 0, 0, 0, 0, 0, 0, 0, 0, 0, 0, 0, 0, 0, 0, 0, 0, 0, 0, 0, 0, 0, 0, 0, 0, 0, 0, 0, 0, 0, 0, 0, 0, 0, 0, 0, 0, 0, 0, 0, 0, 0, 0, 0, 0, 0, 0, 0, 0, 0, 0, 0, 0, 0, 0, 0, 0, 0, 0, 0, 0, 0, 0, 0, 0, 0, 0, 0, 0, 0, 0, 0, 0, 0, 0, 0, 0, 0, 0, 0, 0, 0, 0, 0, 0, 0, 0, 0, 0, 0, 0, 0, 0, 0, 0, 0, 0, 0, 0, 0, 0, 0, 0, 0, 0, 0, 0, 0, 0, 0, 0, 0, 0, 0, 0, 0, 0, 0, 0, 0, 0, 0], 'attention_mask': [1, 1, 1, 1, 1, 1, 1, 1, 1, 1, 1, 1, 1, 1, 1, 1, 1, 1, 1, 1, 1, 1, 1, 1, 1, 1, 1, 1, 1, 1, 1, 1, 1, 1, 1, 1, 1, 1, 1, 1, 1, 0, 0, 0, 0, 0, 0, 0, 0, 0, 0, 0, 0, 0, 0, 0, 0, 0, 0, 0, 0, 0, 0, 0, 0, 0, 0, 0, 0, 0, 0, 0, 0, 0, 0, 0, 0, 0, 0, 0, 0, 0, 0, 0, 0, 0, 0, 0, 0, 0, 0, 0, 0, 0, 0, 0, 0, 0, 0, 0, 0, 0, 0, 0, 0, 0, 0, 0, 0, 0, 0, 0, 0, 0, 0, 0, 0, 0, 0, 0, 0, 0, 0, 0, 0, 0, 0, 0, 0, 0, 0, 0, 0, 0, 0, 0, 0, 0, 0, 0, 0, 0, 0, 0, 0, 0, 0, 0, 0, 0, 0, 0, 0, 0, 0, 0, 0, 0, 0, 0, 0, 0, 0, 0, 0, 0, 0, 0, 0, 0, 0, 0, 0, 0, 0, 0, 0, 0, 0, 0, 0, 0, 0, 0, 0, 0, 0, 0, 0, 0, 0, 0, 0, 0, 0, 0, 0, 0, 0, 0, 0, 0, 0, 0, 0, 0, 0, 0, 0, 0, 0, 0, 0, 0, 0, 0, 0, 0, 0, 0, 0, 0, 0, 0, 0, 0, 0, 0, 0, 0, 0, 0, 0, 0, 0, 0, 0, 0, 0, 0, 0, 0, 0, 0, 0, 0, 0, 0, 0, 0, 0, 0, 0, 0, 0, 0]}"
            ]
          },
          "execution_count": 51,
          "metadata": {},
          "output_type": "execute_result"
        }
      ],
      "source": [
        "tokenized = tokenizer(convert_unicode(TextNormalize().normalize(sample_sentence)),add_special_tokens = True,padding = 'max_length',max_length = MAX_LEN,truncation=True,)\n",
        "tokenized"
      ]
    },
    {
      "cell_type": "code",
      "execution_count": null,
      "metadata": {
        "colab": {
          "base_uri": "https://localhost:8080/",
          "height": 140
        },
        "id": "e_1EoRtXT0EZ",
        "outputId": "631238a9-0ac6-4341-c6e2-18aa5ec53c27"
      },
      "outputs": [
        {
          "data": {
            "application/vnd.google.colaboratory.intrinsic+json": {
              "type": "string"
            },
            "text/plain": [
              "'<s> máy hình chưa chưa tới 1gb, chỉ tải vài ứng_dụng cơ_bản thôi máy lag rồi, chỉ có 2 điểm cảm_ứng trên máy, facebok lướt không được một_vài phút out ra. game thì khỏi nói chả có nào chiến được. android 8.1 cho vui chứ tải game hay ứng_dụng về để chưng thôi, dùng không nổi. thề, thà để 1tr mua cái qua tay cũ xíu vẫn ngon hơn cái máy này, mua được 1 tuần thay liền ấm_ức chịu không nổi</s><pad><pad><pad><pad><pad><pad><pad><pad><pad><pad><pad><pad><pad><pad><pad><pad><pad><pad><pad><pad><pad><pad><pad><pad><pad><pad><pad><pad><pad><pad><pad><pad><pad><pad><pad><pad><pad><pad><pad><pad><pad><pad><pad><pad><pad><pad><pad><pad><pad><pad><pad><pad><pad><pad><pad><pad><pad><pad><pad><pad><pad><pad><pad><pad><pad><pad><pad><pad><pad><pad><pad><pad><pad><pad><pad><pad><pad><pad><pad><pad><pad><pad><pad><pad><pad><pad><pad><pad><pad><pad><pad><pad><pad><pad><pad><pad><pad><pad><pad><pad><pad><pad><pad><pad><pad><pad><pad><pad><pad><pad><pad><pad><pad><pad><pad><pad><pad><pad><pad><pad><pad><pad><pad><pad><pad>'"
            ]
          },
          "execution_count": 60,
          "metadata": {},
          "output_type": "execute_result"
        }
      ],
      "source": [
        "tokenizer.decode(tokenized['input_ids'])"
      ]
    },
    {
      "cell_type": "code",
      "execution_count": null,
      "metadata": {
        "id": "Ce1RxEqz0QEu"
      },
      "outputs": [],
      "source": [
        "features = {i : [[tokenized[i]]] for i in tokenizer.model_input_names}"
      ]
    },
    {
      "cell_type": "code",
      "execution_count": null,
      "metadata": {
        "colab": {
          "base_uri": "https://localhost:8080/"
        },
        "id": "gaBNvKT_1Eg2",
        "outputId": "141680b1-38cd-4c37-d9cd-8f04fe2acae2"
      },
      "outputs": [
        {
          "data": {
            "text/plain": [
              "<_TensorSliceDataset element_spec={'input_ids': TensorSpec(shape=(1, 256), dtype=tf.int32, name=None), 'token_type_ids': TensorSpec(shape=(1, 256), dtype=tf.int32, name=None), 'attention_mask': TensorSpec(shape=(1, 256), dtype=tf.int32, name=None)}>"
            ]
          },
          "execution_count": 53,
          "metadata": {},
          "output_type": "execute_result"
        }
      ],
      "source": [
        "te = Dataset.from_tensor_slices(features)\n",
        "te"
      ]
    },
    {
      "cell_type": "code",
      "execution_count": null,
      "metadata": {
        "colab": {
          "base_uri": "https://localhost:8080/"
        },
        "id": "sba2l28-jAYD",
        "outputId": "da693760-cc56-4d2e-9d28-95292afee4b0"
      },
      "outputs": [
        {
          "name": "stderr",
          "output_type": "stream",
          "text": [
            "/usr/local/lib/python3.10/dist-packages/keras/engine/functional.py:639: UserWarning: Input dict contained keys ['token_type_ids'] which did not match any model input. They will be ignored by the model.\n",
            "  inputs = self._flatten_to_reference_inputs(inputs)\n"
          ]
        },
        {
          "name": "stdout",
          "output_type": "stream",
          "text": [
            "1/1 [==============================] - 3s 3s/step\n"
          ]
        },
        {
          "data": {
            "text/plain": [
              "array([[ 0,  0,  0,  0,  0,  5,  0,  4, 34, 34, 34, 34, 34, 34, 34, 34,\n",
              "        34, 34, 34, 34, 34, 34, 34, 34, 34, 34, 34, 34, 34, 34, 34, 34,\n",
              "        34, 34,  0,  2, 32, 32, 32,  0,  0,  0,  0,  0,  0,  0,  0,  0,\n",
              "         0,  0,  0,  0,  0,  0,  0,  0,  0,  0,  0,  0,  0,  0,  0,  0,\n",
              "         0,  0,  0,  0,  0,  0,  0,  0,  0,  0,  0,  0,  0,  0,  0,  0,\n",
              "         0,  0,  0,  0,  0,  0,  0,  0,  0,  0,  0,  0,  0,  0,  0,  0,\n",
              "         0,  0,  0,  0,  0,  0,  0,  0,  0,  0,  0,  0,  0,  0,  0,  0,\n",
              "         0,  0,  0,  0,  0,  0,  0,  0,  0,  0,  0,  0,  0,  0,  0,  0,\n",
              "         0,  0,  0,  0,  0,  0,  0,  0,  0,  0,  0,  0,  0,  0,  0,  0,\n",
              "         0,  0,  0,  0,  0,  0,  0,  0,  0,  0,  0,  0,  0,  0,  0,  0,\n",
              "         0,  0,  0,  0,  0,  0,  0,  0,  0,  0,  0,  0,  0,  0,  0,  0,\n",
              "         0,  0,  0,  0,  0,  0,  0,  0,  0,  0,  0,  0,  0,  0,  0,  0,\n",
              "         0,  0,  0,  0,  0,  0,  0,  0,  0,  0,  0,  0,  0,  0,  0,  0,\n",
              "         0,  0,  0,  0,  0,  0,  0,  0,  0,  0,  0,  0,  0,  0,  0,  0,\n",
              "         0,  0,  0,  0,  0,  0,  0,  0,  0,  0,  0,  0,  0,  0,  0,  0,\n",
              "         0,  0,  0,  0,  0,  0,  0,  0,  0,  0,  0,  0,  0,  0,  0,  0]])"
            ]
          },
          "execution_count": 54,
          "metadata": {},
          "output_type": "execute_result"
        }
      ],
      "source": [
        "y_pred = model.predict(te,batch_size=1)\n",
        "y_pred = np.argmax(y_pred,axis=-1)\n",
        "y_pred"
      ]
    },
    {
      "cell_type": "code",
      "execution_count": null,
      "metadata": {
        "colab": {
          "base_uri": "https://localhost:8080/"
        },
        "id": "m9SEIkVuw7CW",
        "outputId": "982a03a0-e183-4637-ba89-139facd35a76"
      },
      "outputs": [
        {
          "name": "stdout",
          "output_type": "stream",
          "text": [
            "<s> => O\n",
            "máy => O\n",
            "xài => O\n",
            "tốt => O\n",
            ", => O\n",
            "mượt => B-PERFORMANCE#POSITIVE\n",
            ", => O\n",
            "sạc => B-BATTERY#POSITIVE\n",
            "rất => I-BATTERY#POSITIVE\n",
            "nhanh => I-BATTERY#POSITIVE\n",
            ", => I-BATTERY#POSITIVE\n",
            "pin => I-BATTERY#POSITIVE\n",
            "trâu => I-BATTERY#POSITIVE\n",
            ", => I-BATTERY#POSITIVE\n",
            "mình => I-BATTERY#POSITIVE\n",
            "dùng => I-BATTERY#POSITIVE\n",
            "tác => I-BATTERY#POSITIVE\n",
            "_ => I-BATTERY#POSITIVE\n",
            "vụ => I-BATTERY#POSITIVE\n",
            "bình => I-BATTERY#POSITIVE\n",
            "_ => I-BATTERY#POSITIVE\n",
            "thường => I-BATTERY#POSITIVE\n",
            "z@@ => I-BATTERY#POSITIVE\n",
            "alo => I-BATTERY#POSITIVE\n",
            ", => I-BATTERY#POSITIVE\n",
            "f@@ => I-BATTERY#POSITIVE\n",
            "b => I-BATTERY#POSITIVE\n",
            ", => I-BATTERY#POSITIVE\n",
            "youtube => I-BATTERY#POSITIVE\n",
            "thì => I-BATTERY#POSITIVE\n",
            "được => I-BATTERY#POSITIVE\n",
            "1 => I-BATTERY#POSITIVE\n",
            "ngày => I-BATTERY#POSITIVE\n",
            "rưỡi => I-BATTERY#POSITIVE\n",
            ". => O\n",
            "camera => B-CAMERA#POSITIVE\n",
            "thì => I-CAMERA#POSITIVE\n",
            "đẹp => I-CAMERA#POSITIVE\n",
            "ảo => I-CAMERA#POSITIVE\n",
            ". => O\n",
            "</s> => O\n"
          ]
        }
      ],
      "source": [
        "for word, token_pred in zip(tokenized['input_ids'],y_pred[0]):\n",
        "  word = tokenizer.convert_ids_to_tokens(word)\n",
        "  if word != '<pad>':\n",
        "    print(word, \"=>\", idx2tag[token_pred])"
      ]
    }
  ],
  "metadata": {
    "accelerator": "GPU",
    "colab": {
      "provenance": [],
      "toc_visible": true
    },
    "gpuClass": "standard",
    "kernelspec": {
      "display_name": "base",
      "language": "python",
      "name": "python3"
    },
    "language_info": {
      "codemirror_mode": {
        "name": "ipython",
        "version": 3
      },
      "file_extension": ".py",
      "mimetype": "text/x-python",
      "name": "python",
      "nbconvert_exporter": "python",
      "pygments_lexer": "ipython3",
      "version": "3.9.7"
    },
    "widgets": {
      "application/vnd.jupyter.widget-state+json": {
        "095d6d15ee0e4a629ea198e6188f010c": {
          "model_module": "@jupyter-widgets/controls",
          "model_module_version": "1.5.0",
          "model_name": "HTMLModel",
          "state": {
            "_dom_classes": [],
            "_model_module": "@jupyter-widgets/controls",
            "_model_module_version": "1.5.0",
            "_model_name": "HTMLModel",
            "_view_count": null,
            "_view_module": "@jupyter-widgets/controls",
            "_view_module_version": "1.5.0",
            "_view_name": "HTMLView",
            "description": "",
            "description_tooltip": null,
            "layout": "IPY_MODEL_6cf67131f3c242fe83f87ab3f8f476f5",
            "placeholder": "​",
            "style": "IPY_MODEL_a5e982638cfb4dc19e17fa6e8fe5c5c3",
            "value": "Downloading (…)solve/main/vocab.txt: 100%"
          }
        },
        "0e4a5d8b54be4285a03f98bd4988cb8f": {
          "model_module": "@jupyter-widgets/controls",
          "model_module_version": "1.5.0",
          "model_name": "HTMLModel",
          "state": {
            "_dom_classes": [],
            "_model_module": "@jupyter-widgets/controls",
            "_model_module_version": "1.5.0",
            "_model_name": "HTMLModel",
            "_view_count": null,
            "_view_module": "@jupyter-widgets/controls",
            "_view_module_version": "1.5.0",
            "_view_name": "HTMLView",
            "description": "",
            "description_tooltip": null,
            "layout": "IPY_MODEL_1a4b998e08ae4cb6af8aab35943eea9a",
            "placeholder": "​",
            "style": "IPY_MODEL_ab78172298254120b9cdf1126108f138",
            "value": "Downloading (…)lve/main/config.json: 100%"
          }
        },
        "14127951558f4bcebeb94ae16cc6c4b5": {
          "model_module": "@jupyter-widgets/base",
          "model_module_version": "1.2.0",
          "model_name": "LayoutModel",
          "state": {
            "_model_module": "@jupyter-widgets/base",
            "_model_module_version": "1.2.0",
            "_model_name": "LayoutModel",
            "_view_count": null,
            "_view_module": "@jupyter-widgets/base",
            "_view_module_version": "1.2.0",
            "_view_name": "LayoutView",
            "align_content": null,
            "align_items": null,
            "align_self": null,
            "border": null,
            "bottom": null,
            "display": null,
            "flex": null,
            "flex_flow": null,
            "grid_area": null,
            "grid_auto_columns": null,
            "grid_auto_flow": null,
            "grid_auto_rows": null,
            "grid_column": null,
            "grid_gap": null,
            "grid_row": null,
            "grid_template_areas": null,
            "grid_template_columns": null,
            "grid_template_rows": null,
            "height": null,
            "justify_content": null,
            "justify_items": null,
            "left": null,
            "margin": null,
            "max_height": null,
            "max_width": null,
            "min_height": null,
            "min_width": null,
            "object_fit": null,
            "object_position": null,
            "order": null,
            "overflow": null,
            "overflow_x": null,
            "overflow_y": null,
            "padding": null,
            "right": null,
            "top": null,
            "visibility": null,
            "width": null
          }
        },
        "1a4b998e08ae4cb6af8aab35943eea9a": {
          "model_module": "@jupyter-widgets/base",
          "model_module_version": "1.2.0",
          "model_name": "LayoutModel",
          "state": {
            "_model_module": "@jupyter-widgets/base",
            "_model_module_version": "1.2.0",
            "_model_name": "LayoutModel",
            "_view_count": null,
            "_view_module": "@jupyter-widgets/base",
            "_view_module_version": "1.2.0",
            "_view_name": "LayoutView",
            "align_content": null,
            "align_items": null,
            "align_self": null,
            "border": null,
            "bottom": null,
            "display": null,
            "flex": null,
            "flex_flow": null,
            "grid_area": null,
            "grid_auto_columns": null,
            "grid_auto_flow": null,
            "grid_auto_rows": null,
            "grid_column": null,
            "grid_gap": null,
            "grid_row": null,
            "grid_template_areas": null,
            "grid_template_columns": null,
            "grid_template_rows": null,
            "height": null,
            "justify_content": null,
            "justify_items": null,
            "left": null,
            "margin": null,
            "max_height": null,
            "max_width": null,
            "min_height": null,
            "min_width": null,
            "object_fit": null,
            "object_position": null,
            "order": null,
            "overflow": null,
            "overflow_x": null,
            "overflow_y": null,
            "padding": null,
            "right": null,
            "top": null,
            "visibility": null,
            "width": null
          }
        },
        "1d323d87cdfa45a99d548cddc0cb219a": {
          "model_module": "@jupyter-widgets/base",
          "model_module_version": "1.2.0",
          "model_name": "LayoutModel",
          "state": {
            "_model_module": "@jupyter-widgets/base",
            "_model_module_version": "1.2.0",
            "_model_name": "LayoutModel",
            "_view_count": null,
            "_view_module": "@jupyter-widgets/base",
            "_view_module_version": "1.2.0",
            "_view_name": "LayoutView",
            "align_content": null,
            "align_items": null,
            "align_self": null,
            "border": null,
            "bottom": null,
            "display": null,
            "flex": null,
            "flex_flow": null,
            "grid_area": null,
            "grid_auto_columns": null,
            "grid_auto_flow": null,
            "grid_auto_rows": null,
            "grid_column": null,
            "grid_gap": null,
            "grid_row": null,
            "grid_template_areas": null,
            "grid_template_columns": null,
            "grid_template_rows": null,
            "height": null,
            "justify_content": null,
            "justify_items": null,
            "left": null,
            "margin": null,
            "max_height": null,
            "max_width": null,
            "min_height": null,
            "min_width": null,
            "object_fit": null,
            "object_position": null,
            "order": null,
            "overflow": null,
            "overflow_x": null,
            "overflow_y": null,
            "padding": null,
            "right": null,
            "top": null,
            "visibility": null,
            "width": null
          }
        },
        "1ef8c692a9ab48d284d027313d5becd3": {
          "model_module": "@jupyter-widgets/controls",
          "model_module_version": "1.5.0",
          "model_name": "FloatProgressModel",
          "state": {
            "_dom_classes": [],
            "_model_module": "@jupyter-widgets/controls",
            "_model_module_version": "1.5.0",
            "_model_name": "FloatProgressModel",
            "_view_count": null,
            "_view_module": "@jupyter-widgets/controls",
            "_view_module_version": "1.5.0",
            "_view_name": "ProgressView",
            "bar_style": "success",
            "description": "",
            "description_tooltip": null,
            "layout": "IPY_MODEL_48f2bbe6b73c4677ad32fee6f24b217d",
            "max": 678,
            "min": 0,
            "orientation": "horizontal",
            "style": "IPY_MODEL_981d2fdf8fb34d9c8a6a74b850cdcb2f",
            "value": 678
          }
        },
        "2dbc5d4a745d44bb9b71818709418434": {
          "model_module": "@jupyter-widgets/controls",
          "model_module_version": "1.5.0",
          "model_name": "HBoxModel",
          "state": {
            "_dom_classes": [],
            "_model_module": "@jupyter-widgets/controls",
            "_model_module_version": "1.5.0",
            "_model_name": "HBoxModel",
            "_view_count": null,
            "_view_module": "@jupyter-widgets/controls",
            "_view_module_version": "1.5.0",
            "_view_name": "HBoxView",
            "box_style": "",
            "children": [
              "IPY_MODEL_0e4a5d8b54be4285a03f98bd4988cb8f",
              "IPY_MODEL_1ef8c692a9ab48d284d027313d5becd3",
              "IPY_MODEL_79168a2da81f44759f9621749394ac59"
            ],
            "layout": "IPY_MODEL_9d4fd553fbe84b10918fc778c62cb1cd"
          }
        },
        "33d167f0bb744aba8e86b3cc000f29bb": {
          "model_module": "@jupyter-widgets/controls",
          "model_module_version": "1.5.0",
          "model_name": "DescriptionStyleModel",
          "state": {
            "_model_module": "@jupyter-widgets/controls",
            "_model_module_version": "1.5.0",
            "_model_name": "DescriptionStyleModel",
            "_view_count": null,
            "_view_module": "@jupyter-widgets/base",
            "_view_module_version": "1.2.0",
            "_view_name": "StyleView",
            "description_width": ""
          }
        },
        "38e7e03f538c41a0876d4fd5cfa10081": {
          "model_module": "@jupyter-widgets/controls",
          "model_module_version": "1.5.0",
          "model_name": "FloatProgressModel",
          "state": {
            "_dom_classes": [],
            "_model_module": "@jupyter-widgets/controls",
            "_model_module_version": "1.5.0",
            "_model_name": "FloatProgressModel",
            "_view_count": null,
            "_view_module": "@jupyter-widgets/controls",
            "_view_module_version": "1.5.0",
            "_view_name": "ProgressView",
            "bar_style": "success",
            "description": "",
            "description_tooltip": null,
            "layout": "IPY_MODEL_dcccd4e2b04d46acabf7faf4bffe30b4",
            "max": 895321,
            "min": 0,
            "orientation": "horizontal",
            "style": "IPY_MODEL_c261b9b0716b4fbb8a9595949fb8f7ef",
            "value": 895321
          }
        },
        "48f2bbe6b73c4677ad32fee6f24b217d": {
          "model_module": "@jupyter-widgets/base",
          "model_module_version": "1.2.0",
          "model_name": "LayoutModel",
          "state": {
            "_model_module": "@jupyter-widgets/base",
            "_model_module_version": "1.2.0",
            "_model_name": "LayoutModel",
            "_view_count": null,
            "_view_module": "@jupyter-widgets/base",
            "_view_module_version": "1.2.0",
            "_view_name": "LayoutView",
            "align_content": null,
            "align_items": null,
            "align_self": null,
            "border": null,
            "bottom": null,
            "display": null,
            "flex": null,
            "flex_flow": null,
            "grid_area": null,
            "grid_auto_columns": null,
            "grid_auto_flow": null,
            "grid_auto_rows": null,
            "grid_column": null,
            "grid_gap": null,
            "grid_row": null,
            "grid_template_areas": null,
            "grid_template_columns": null,
            "grid_template_rows": null,
            "height": null,
            "justify_content": null,
            "justify_items": null,
            "left": null,
            "margin": null,
            "max_height": null,
            "max_width": null,
            "min_height": null,
            "min_width": null,
            "object_fit": null,
            "object_position": null,
            "order": null,
            "overflow": null,
            "overflow_x": null,
            "overflow_y": null,
            "padding": null,
            "right": null,
            "top": null,
            "visibility": null,
            "width": null
          }
        },
        "49cbfc1d1c9c437dbf98b9947a36b16d": {
          "model_module": "@jupyter-widgets/base",
          "model_module_version": "1.2.0",
          "model_name": "LayoutModel",
          "state": {
            "_model_module": "@jupyter-widgets/base",
            "_model_module_version": "1.2.0",
            "_model_name": "LayoutModel",
            "_view_count": null,
            "_view_module": "@jupyter-widgets/base",
            "_view_module_version": "1.2.0",
            "_view_name": "LayoutView",
            "align_content": null,
            "align_items": null,
            "align_self": null,
            "border": null,
            "bottom": null,
            "display": null,
            "flex": null,
            "flex_flow": null,
            "grid_area": null,
            "grid_auto_columns": null,
            "grid_auto_flow": null,
            "grid_auto_rows": null,
            "grid_column": null,
            "grid_gap": null,
            "grid_row": null,
            "grid_template_areas": null,
            "grid_template_columns": null,
            "grid_template_rows": null,
            "height": null,
            "justify_content": null,
            "justify_items": null,
            "left": null,
            "margin": null,
            "max_height": null,
            "max_width": null,
            "min_height": null,
            "min_width": null,
            "object_fit": null,
            "object_position": null,
            "order": null,
            "overflow": null,
            "overflow_x": null,
            "overflow_y": null,
            "padding": null,
            "right": null,
            "top": null,
            "visibility": null,
            "width": null
          }
        },
        "5128d7bbf9894af88cec44917e152e83": {
          "model_module": "@jupyter-widgets/controls",
          "model_module_version": "1.5.0",
          "model_name": "FloatProgressModel",
          "state": {
            "_dom_classes": [],
            "_model_module": "@jupyter-widgets/controls",
            "_model_module_version": "1.5.0",
            "_model_name": "FloatProgressModel",
            "_view_count": null,
            "_view_module": "@jupyter-widgets/controls",
            "_view_module_version": "1.5.0",
            "_view_name": "ProgressView",
            "bar_style": "success",
            "description": "",
            "description_tooltip": null,
            "layout": "IPY_MODEL_1d323d87cdfa45a99d548cddc0cb219a",
            "max": 1135173,
            "min": 0,
            "orientation": "horizontal",
            "style": "IPY_MODEL_61dec3775f2a477aa73b7a6ccc6b2c23",
            "value": 1135173
          }
        },
        "61dec3775f2a477aa73b7a6ccc6b2c23": {
          "model_module": "@jupyter-widgets/controls",
          "model_module_version": "1.5.0",
          "model_name": "ProgressStyleModel",
          "state": {
            "_model_module": "@jupyter-widgets/controls",
            "_model_module_version": "1.5.0",
            "_model_name": "ProgressStyleModel",
            "_view_count": null,
            "_view_module": "@jupyter-widgets/base",
            "_view_module_version": "1.2.0",
            "_view_name": "StyleView",
            "bar_color": null,
            "description_width": ""
          }
        },
        "6cf67131f3c242fe83f87ab3f8f476f5": {
          "model_module": "@jupyter-widgets/base",
          "model_module_version": "1.2.0",
          "model_name": "LayoutModel",
          "state": {
            "_model_module": "@jupyter-widgets/base",
            "_model_module_version": "1.2.0",
            "_model_name": "LayoutModel",
            "_view_count": null,
            "_view_module": "@jupyter-widgets/base",
            "_view_module_version": "1.2.0",
            "_view_name": "LayoutView",
            "align_content": null,
            "align_items": null,
            "align_self": null,
            "border": null,
            "bottom": null,
            "display": null,
            "flex": null,
            "flex_flow": null,
            "grid_area": null,
            "grid_auto_columns": null,
            "grid_auto_flow": null,
            "grid_auto_rows": null,
            "grid_column": null,
            "grid_gap": null,
            "grid_row": null,
            "grid_template_areas": null,
            "grid_template_columns": null,
            "grid_template_rows": null,
            "height": null,
            "justify_content": null,
            "justify_items": null,
            "left": null,
            "margin": null,
            "max_height": null,
            "max_width": null,
            "min_height": null,
            "min_width": null,
            "object_fit": null,
            "object_position": null,
            "order": null,
            "overflow": null,
            "overflow_x": null,
            "overflow_y": null,
            "padding": null,
            "right": null,
            "top": null,
            "visibility": null,
            "width": null
          }
        },
        "79168a2da81f44759f9621749394ac59": {
          "model_module": "@jupyter-widgets/controls",
          "model_module_version": "1.5.0",
          "model_name": "HTMLModel",
          "state": {
            "_dom_classes": [],
            "_model_module": "@jupyter-widgets/controls",
            "_model_module_version": "1.5.0",
            "_model_name": "HTMLModel",
            "_view_count": null,
            "_view_module": "@jupyter-widgets/controls",
            "_view_module_version": "1.5.0",
            "_view_name": "HTMLView",
            "description": "",
            "description_tooltip": null,
            "layout": "IPY_MODEL_ed826ff19e204b61a7af72f33a303184",
            "placeholder": "​",
            "style": "IPY_MODEL_841746b2ea004c39bf83f36575d38879",
            "value": " 678/678 [00:00&lt;00:00, 14.2kB/s]"
          }
        },
        "7d48f2248cdc48f9bff113a24b508159": {
          "model_module": "@jupyter-widgets/controls",
          "model_module_version": "1.5.0",
          "model_name": "HBoxModel",
          "state": {
            "_dom_classes": [],
            "_model_module": "@jupyter-widgets/controls",
            "_model_module_version": "1.5.0",
            "_model_name": "HBoxModel",
            "_view_count": null,
            "_view_module": "@jupyter-widgets/controls",
            "_view_module_version": "1.5.0",
            "_view_name": "HBoxView",
            "box_style": "",
            "children": [
              "IPY_MODEL_095d6d15ee0e4a629ea198e6188f010c",
              "IPY_MODEL_38e7e03f538c41a0876d4fd5cfa10081",
              "IPY_MODEL_aee32dc793db4ac4840a770cbd59aed1"
            ],
            "layout": "IPY_MODEL_c34190fc01d04d10ad253a31be70e301"
          }
        },
        "82d2e79137a04fd6bf9469da23093a51": {
          "model_module": "@jupyter-widgets/controls",
          "model_module_version": "1.5.0",
          "model_name": "DescriptionStyleModel",
          "state": {
            "_model_module": "@jupyter-widgets/controls",
            "_model_module_version": "1.5.0",
            "_model_name": "DescriptionStyleModel",
            "_view_count": null,
            "_view_module": "@jupyter-widgets/base",
            "_view_module_version": "1.2.0",
            "_view_name": "StyleView",
            "description_width": ""
          }
        },
        "841746b2ea004c39bf83f36575d38879": {
          "model_module": "@jupyter-widgets/controls",
          "model_module_version": "1.5.0",
          "model_name": "DescriptionStyleModel",
          "state": {
            "_model_module": "@jupyter-widgets/controls",
            "_model_module_version": "1.5.0",
            "_model_name": "DescriptionStyleModel",
            "_view_count": null,
            "_view_module": "@jupyter-widgets/base",
            "_view_module_version": "1.2.0",
            "_view_name": "StyleView",
            "description_width": ""
          }
        },
        "9563963d4da94cd995f5cdfb83684663": {
          "model_module": "@jupyter-widgets/base",
          "model_module_version": "1.2.0",
          "model_name": "LayoutModel",
          "state": {
            "_model_module": "@jupyter-widgets/base",
            "_model_module_version": "1.2.0",
            "_model_name": "LayoutModel",
            "_view_count": null,
            "_view_module": "@jupyter-widgets/base",
            "_view_module_version": "1.2.0",
            "_view_name": "LayoutView",
            "align_content": null,
            "align_items": null,
            "align_self": null,
            "border": null,
            "bottom": null,
            "display": null,
            "flex": null,
            "flex_flow": null,
            "grid_area": null,
            "grid_auto_columns": null,
            "grid_auto_flow": null,
            "grid_auto_rows": null,
            "grid_column": null,
            "grid_gap": null,
            "grid_row": null,
            "grid_template_areas": null,
            "grid_template_columns": null,
            "grid_template_rows": null,
            "height": null,
            "justify_content": null,
            "justify_items": null,
            "left": null,
            "margin": null,
            "max_height": null,
            "max_width": null,
            "min_height": null,
            "min_width": null,
            "object_fit": null,
            "object_position": null,
            "order": null,
            "overflow": null,
            "overflow_x": null,
            "overflow_y": null,
            "padding": null,
            "right": null,
            "top": null,
            "visibility": null,
            "width": null
          }
        },
        "981d2fdf8fb34d9c8a6a74b850cdcb2f": {
          "model_module": "@jupyter-widgets/controls",
          "model_module_version": "1.5.0",
          "model_name": "ProgressStyleModel",
          "state": {
            "_model_module": "@jupyter-widgets/controls",
            "_model_module_version": "1.5.0",
            "_model_name": "ProgressStyleModel",
            "_view_count": null,
            "_view_module": "@jupyter-widgets/base",
            "_view_module_version": "1.2.0",
            "_view_name": "StyleView",
            "bar_color": null,
            "description_width": ""
          }
        },
        "9a8f8e9d6835495b8f3d3f651dd02b26": {
          "model_module": "@jupyter-widgets/controls",
          "model_module_version": "1.5.0",
          "model_name": "HTMLModel",
          "state": {
            "_dom_classes": [],
            "_model_module": "@jupyter-widgets/controls",
            "_model_module_version": "1.5.0",
            "_model_name": "HTMLModel",
            "_view_count": null,
            "_view_module": "@jupyter-widgets/controls",
            "_view_module_version": "1.5.0",
            "_view_name": "HTMLView",
            "description": "",
            "description_tooltip": null,
            "layout": "IPY_MODEL_49cbfc1d1c9c437dbf98b9947a36b16d",
            "placeholder": "​",
            "style": "IPY_MODEL_82d2e79137a04fd6bf9469da23093a51",
            "value": " 1.14M/1.14M [00:00&lt;00:00, 1.21MB/s]"
          }
        },
        "9d4fd553fbe84b10918fc778c62cb1cd": {
          "model_module": "@jupyter-widgets/base",
          "model_module_version": "1.2.0",
          "model_name": "LayoutModel",
          "state": {
            "_model_module": "@jupyter-widgets/base",
            "_model_module_version": "1.2.0",
            "_model_name": "LayoutModel",
            "_view_count": null,
            "_view_module": "@jupyter-widgets/base",
            "_view_module_version": "1.2.0",
            "_view_name": "LayoutView",
            "align_content": null,
            "align_items": null,
            "align_self": null,
            "border": null,
            "bottom": null,
            "display": null,
            "flex": null,
            "flex_flow": null,
            "grid_area": null,
            "grid_auto_columns": null,
            "grid_auto_flow": null,
            "grid_auto_rows": null,
            "grid_column": null,
            "grid_gap": null,
            "grid_row": null,
            "grid_template_areas": null,
            "grid_template_columns": null,
            "grid_template_rows": null,
            "height": null,
            "justify_content": null,
            "justify_items": null,
            "left": null,
            "margin": null,
            "max_height": null,
            "max_width": null,
            "min_height": null,
            "min_width": null,
            "object_fit": null,
            "object_position": null,
            "order": null,
            "overflow": null,
            "overflow_x": null,
            "overflow_y": null,
            "padding": null,
            "right": null,
            "top": null,
            "visibility": null,
            "width": null
          }
        },
        "a5e982638cfb4dc19e17fa6e8fe5c5c3": {
          "model_module": "@jupyter-widgets/controls",
          "model_module_version": "1.5.0",
          "model_name": "DescriptionStyleModel",
          "state": {
            "_model_module": "@jupyter-widgets/controls",
            "_model_module_version": "1.5.0",
            "_model_name": "DescriptionStyleModel",
            "_view_count": null,
            "_view_module": "@jupyter-widgets/base",
            "_view_module_version": "1.2.0",
            "_view_name": "StyleView",
            "description_width": ""
          }
        },
        "ab78172298254120b9cdf1126108f138": {
          "model_module": "@jupyter-widgets/controls",
          "model_module_version": "1.5.0",
          "model_name": "DescriptionStyleModel",
          "state": {
            "_model_module": "@jupyter-widgets/controls",
            "_model_module_version": "1.5.0",
            "_model_name": "DescriptionStyleModel",
            "_view_count": null,
            "_view_module": "@jupyter-widgets/base",
            "_view_module_version": "1.2.0",
            "_view_name": "StyleView",
            "description_width": ""
          }
        },
        "aee32dc793db4ac4840a770cbd59aed1": {
          "model_module": "@jupyter-widgets/controls",
          "model_module_version": "1.5.0",
          "model_name": "HTMLModel",
          "state": {
            "_dom_classes": [],
            "_model_module": "@jupyter-widgets/controls",
            "_model_module_version": "1.5.0",
            "_model_name": "HTMLModel",
            "_view_count": null,
            "_view_module": "@jupyter-widgets/controls",
            "_view_module_version": "1.5.0",
            "_view_name": "HTMLView",
            "description": "",
            "description_tooltip": null,
            "layout": "IPY_MODEL_14127951558f4bcebeb94ae16cc6c4b5",
            "placeholder": "​",
            "style": "IPY_MODEL_b1eca33aea4242169f98473f781c0a69",
            "value": " 895k/895k [00:00&lt;00:00, 1.59MB/s]"
          }
        },
        "b1eca33aea4242169f98473f781c0a69": {
          "model_module": "@jupyter-widgets/controls",
          "model_module_version": "1.5.0",
          "model_name": "DescriptionStyleModel",
          "state": {
            "_model_module": "@jupyter-widgets/controls",
            "_model_module_version": "1.5.0",
            "_model_name": "DescriptionStyleModel",
            "_view_count": null,
            "_view_module": "@jupyter-widgets/base",
            "_view_module_version": "1.2.0",
            "_view_name": "StyleView",
            "description_width": ""
          }
        },
        "b540a4f95648410a94d686b6c478d08d": {
          "model_module": "@jupyter-widgets/base",
          "model_module_version": "1.2.0",
          "model_name": "LayoutModel",
          "state": {
            "_model_module": "@jupyter-widgets/base",
            "_model_module_version": "1.2.0",
            "_model_name": "LayoutModel",
            "_view_count": null,
            "_view_module": "@jupyter-widgets/base",
            "_view_module_version": "1.2.0",
            "_view_name": "LayoutView",
            "align_content": null,
            "align_items": null,
            "align_self": null,
            "border": null,
            "bottom": null,
            "display": null,
            "flex": null,
            "flex_flow": null,
            "grid_area": null,
            "grid_auto_columns": null,
            "grid_auto_flow": null,
            "grid_auto_rows": null,
            "grid_column": null,
            "grid_gap": null,
            "grid_row": null,
            "grid_template_areas": null,
            "grid_template_columns": null,
            "grid_template_rows": null,
            "height": null,
            "justify_content": null,
            "justify_items": null,
            "left": null,
            "margin": null,
            "max_height": null,
            "max_width": null,
            "min_height": null,
            "min_width": null,
            "object_fit": null,
            "object_position": null,
            "order": null,
            "overflow": null,
            "overflow_x": null,
            "overflow_y": null,
            "padding": null,
            "right": null,
            "top": null,
            "visibility": null,
            "width": null
          }
        },
        "c261b9b0716b4fbb8a9595949fb8f7ef": {
          "model_module": "@jupyter-widgets/controls",
          "model_module_version": "1.5.0",
          "model_name": "ProgressStyleModel",
          "state": {
            "_model_module": "@jupyter-widgets/controls",
            "_model_module_version": "1.5.0",
            "_model_name": "ProgressStyleModel",
            "_view_count": null,
            "_view_module": "@jupyter-widgets/base",
            "_view_module_version": "1.2.0",
            "_view_name": "StyleView",
            "bar_color": null,
            "description_width": ""
          }
        },
        "c34190fc01d04d10ad253a31be70e301": {
          "model_module": "@jupyter-widgets/base",
          "model_module_version": "1.2.0",
          "model_name": "LayoutModel",
          "state": {
            "_model_module": "@jupyter-widgets/base",
            "_model_module_version": "1.2.0",
            "_model_name": "LayoutModel",
            "_view_count": null,
            "_view_module": "@jupyter-widgets/base",
            "_view_module_version": "1.2.0",
            "_view_name": "LayoutView",
            "align_content": null,
            "align_items": null,
            "align_self": null,
            "border": null,
            "bottom": null,
            "display": null,
            "flex": null,
            "flex_flow": null,
            "grid_area": null,
            "grid_auto_columns": null,
            "grid_auto_flow": null,
            "grid_auto_rows": null,
            "grid_column": null,
            "grid_gap": null,
            "grid_row": null,
            "grid_template_areas": null,
            "grid_template_columns": null,
            "grid_template_rows": null,
            "height": null,
            "justify_content": null,
            "justify_items": null,
            "left": null,
            "margin": null,
            "max_height": null,
            "max_width": null,
            "min_height": null,
            "min_width": null,
            "object_fit": null,
            "object_position": null,
            "order": null,
            "overflow": null,
            "overflow_x": null,
            "overflow_y": null,
            "padding": null,
            "right": null,
            "top": null,
            "visibility": null,
            "width": null
          }
        },
        "c795739782c1497281a2f7944d57af0d": {
          "model_module": "@jupyter-widgets/controls",
          "model_module_version": "1.5.0",
          "model_name": "HTMLModel",
          "state": {
            "_dom_classes": [],
            "_model_module": "@jupyter-widgets/controls",
            "_model_module_version": "1.5.0",
            "_model_name": "HTMLModel",
            "_view_count": null,
            "_view_module": "@jupyter-widgets/controls",
            "_view_module_version": "1.5.0",
            "_view_name": "HTMLView",
            "description": "",
            "description_tooltip": null,
            "layout": "IPY_MODEL_9563963d4da94cd995f5cdfb83684663",
            "placeholder": "​",
            "style": "IPY_MODEL_33d167f0bb744aba8e86b3cc000f29bb",
            "value": "Downloading (…)solve/main/bpe.codes: 100%"
          }
        },
        "dcccd4e2b04d46acabf7faf4bffe30b4": {
          "model_module": "@jupyter-widgets/base",
          "model_module_version": "1.2.0",
          "model_name": "LayoutModel",
          "state": {
            "_model_module": "@jupyter-widgets/base",
            "_model_module_version": "1.2.0",
            "_model_name": "LayoutModel",
            "_view_count": null,
            "_view_module": "@jupyter-widgets/base",
            "_view_module_version": "1.2.0",
            "_view_name": "LayoutView",
            "align_content": null,
            "align_items": null,
            "align_self": null,
            "border": null,
            "bottom": null,
            "display": null,
            "flex": null,
            "flex_flow": null,
            "grid_area": null,
            "grid_auto_columns": null,
            "grid_auto_flow": null,
            "grid_auto_rows": null,
            "grid_column": null,
            "grid_gap": null,
            "grid_row": null,
            "grid_template_areas": null,
            "grid_template_columns": null,
            "grid_template_rows": null,
            "height": null,
            "justify_content": null,
            "justify_items": null,
            "left": null,
            "margin": null,
            "max_height": null,
            "max_width": null,
            "min_height": null,
            "min_width": null,
            "object_fit": null,
            "object_position": null,
            "order": null,
            "overflow": null,
            "overflow_x": null,
            "overflow_y": null,
            "padding": null,
            "right": null,
            "top": null,
            "visibility": null,
            "width": null
          }
        },
        "e281cfa5e5db4570b3a1884d0a89aab4": {
          "model_module": "@jupyter-widgets/controls",
          "model_module_version": "1.5.0",
          "model_name": "HBoxModel",
          "state": {
            "_dom_classes": [],
            "_model_module": "@jupyter-widgets/controls",
            "_model_module_version": "1.5.0",
            "_model_name": "HBoxModel",
            "_view_count": null,
            "_view_module": "@jupyter-widgets/controls",
            "_view_module_version": "1.5.0",
            "_view_name": "HBoxView",
            "box_style": "",
            "children": [
              "IPY_MODEL_c795739782c1497281a2f7944d57af0d",
              "IPY_MODEL_5128d7bbf9894af88cec44917e152e83",
              "IPY_MODEL_9a8f8e9d6835495b8f3d3f651dd02b26"
            ],
            "layout": "IPY_MODEL_b540a4f95648410a94d686b6c478d08d"
          }
        },
        "ed826ff19e204b61a7af72f33a303184": {
          "model_module": "@jupyter-widgets/base",
          "model_module_version": "1.2.0",
          "model_name": "LayoutModel",
          "state": {
            "_model_module": "@jupyter-widgets/base",
            "_model_module_version": "1.2.0",
            "_model_name": "LayoutModel",
            "_view_count": null,
            "_view_module": "@jupyter-widgets/base",
            "_view_module_version": "1.2.0",
            "_view_name": "LayoutView",
            "align_content": null,
            "align_items": null,
            "align_self": null,
            "border": null,
            "bottom": null,
            "display": null,
            "flex": null,
            "flex_flow": null,
            "grid_area": null,
            "grid_auto_columns": null,
            "grid_auto_flow": null,
            "grid_auto_rows": null,
            "grid_column": null,
            "grid_gap": null,
            "grid_row": null,
            "grid_template_areas": null,
            "grid_template_columns": null,
            "grid_template_rows": null,
            "height": null,
            "justify_content": null,
            "justify_items": null,
            "left": null,
            "margin": null,
            "max_height": null,
            "max_width": null,
            "min_height": null,
            "min_width": null,
            "object_fit": null,
            "object_position": null,
            "order": null,
            "overflow": null,
            "overflow_x": null,
            "overflow_y": null,
            "padding": null,
            "right": null,
            "top": null,
            "visibility": null,
            "width": null
          }
        }
      }
    }
  },
  "nbformat": 4,
  "nbformat_minor": 0
}
